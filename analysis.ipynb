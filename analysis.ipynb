{
 "cells": [
  {
   "cell_type": "code",
   "execution_count": null,
   "metadata": {},
   "outputs": [],
   "source": []
  },
  {
   "cell_type": "code",
   "execution_count": 109,
   "metadata": {},
   "outputs": [],
   "source": [
    "# get API key\n",
    "import os\n",
    "import json\n",
    "import requests\n",
    "from pprint import pprint\n",
    "from config import api_key\n",
    "\n",
    "#import csv \n",
    "import pandas as pd\n",
    "import numpy as np\n",
    "import matplotlib.pyplot as plt\n",
    "import scipy.stats as st\n",
    "from scipy.stats import linregress\n",
    "import seaborn as sns\n",
    "\n",
    "\n",
    "#import csv file\n",
    "csv_path = \"data/gender_Jun16.csv\"\n"
   ]
  },
  {
   "cell_type": "code",
   "execution_count": 110,
   "metadata": {},
   "outputs": [],
   "source": [
    "df1 = pd.read_csv('./data/Cleaned_genderinequalityUN.csv')\n",
    "\n",
    "df2 = pd.read_csv('./data/gender_Jun16.csv')\n",
    "\n",
    "df3 = pd.read_csv('./data/worldbankpopulation.csv')"
   ]
  },
  {
   "cell_type": "code",
   "execution_count": 111,
   "metadata": {},
   "outputs": [],
   "source": [
    "country1 = df1.Country\n",
    "\n",
    "country2 = df2.COUNTRY.drop_duplicates()\n",
    "\n",
    "country3 = df3['Country Name']"
   ]
  },
  {
   "cell_type": "code",
   "execution_count": 112,
   "metadata": {},
   "outputs": [
    {
     "data": {
      "text/plain": [
       "0               Switzerland\n",
       "1                    Norway\n",
       "2                   Iceland\n",
       "3    Hong Kong, China (SAR)\n",
       "4                 Australia\n",
       "5                   Denmark\n",
       "6                    Sweden\n",
       "7                   Ireland\n",
       "8                   Germany\n",
       "9               Netherlands\n",
       "dtype: object"
      ]
     },
     "execution_count": 112,
     "metadata": {},
     "output_type": "execute_result"
    }
   ],
   "source": [
    "df = pd.concat([country1,country2,country3])\n",
    "df.head(10)"
   ]
  },
  {
   "cell_type": "code",
   "execution_count": 5,
   "metadata": {},
   "outputs": [],
   "source": [
    "#df = df.to_frame()"
   ]
  },
  {
   "cell_type": "code",
   "execution_count": 6,
   "metadata": {},
   "outputs": [],
   "source": [
    "##df.columns = ['country']"
   ]
  },
  {
   "cell_type": "code",
   "execution_count": 7,
   "metadata": {},
   "outputs": [],
   "source": [
    "#df['country'] = df.country.str.strip().str.lower()"
   ]
  },
  {
   "cell_type": "code",
   "execution_count": 8,
   "metadata": {},
   "outputs": [],
   "source": [
    "#df.country.drop_duplicates().sort_values().to_clipboard()"
   ]
  },
  {
   "cell_type": "code",
   "execution_count": 15,
   "metadata": {},
   "outputs": [],
   "source": [
    "#standardized = pd.read_clipboard()\n"
   ]
  },
  {
   "cell_type": "code",
   "execution_count": 113,
   "metadata": {},
   "outputs": [
    {
     "data": {
      "text/html": [
       "<div>\n",
       "<style scoped>\n",
       "    .dataframe tbody tr th:only-of-type {\n",
       "        vertical-align: middle;\n",
       "    }\n",
       "\n",
       "    .dataframe tbody tr th {\n",
       "        vertical-align: top;\n",
       "    }\n",
       "\n",
       "    .dataframe thead th {\n",
       "        text-align: right;\n",
       "    }\n",
       "</style>\n",
       "<table border=\"1\" class=\"dataframe\">\n",
       "  <thead>\n",
       "    <tr style=\"text-align: right;\">\n",
       "      <th></th>\n",
       "      <th>country</th>\n",
       "      <th>standardized</th>\n",
       "    </tr>\n",
       "  </thead>\n",
       "  <tbody>\n",
       "    <tr>\n",
       "      <th>0</th>\n",
       "      <td>afghanistan</td>\n",
       "      <td>afghanistan</td>\n",
       "    </tr>\n",
       "    <tr>\n",
       "      <th>1</th>\n",
       "      <td>africa eastern and southern</td>\n",
       "      <td>NaN</td>\n",
       "    </tr>\n",
       "    <tr>\n",
       "      <th>2</th>\n",
       "      <td>africa western and central</td>\n",
       "      <td>NaN</td>\n",
       "    </tr>\n",
       "    <tr>\n",
       "      <th>3</th>\n",
       "      <td>albania</td>\n",
       "      <td>albania</td>\n",
       "    </tr>\n",
       "    <tr>\n",
       "      <th>4</th>\n",
       "      <td>algeria</td>\n",
       "      <td>algeria</td>\n",
       "    </tr>\n",
       "    <tr>\n",
       "      <th>5</th>\n",
       "      <td>american samoa</td>\n",
       "      <td>NaN</td>\n",
       "    </tr>\n",
       "    <tr>\n",
       "      <th>6</th>\n",
       "      <td>andorra</td>\n",
       "      <td>andorra</td>\n",
       "    </tr>\n",
       "    <tr>\n",
       "      <th>7</th>\n",
       "      <td>angola</td>\n",
       "      <td>angola</td>\n",
       "    </tr>\n",
       "    <tr>\n",
       "      <th>8</th>\n",
       "      <td>antigua and barbuda</td>\n",
       "      <td>antigua and barbuda</td>\n",
       "    </tr>\n",
       "    <tr>\n",
       "      <th>9</th>\n",
       "      <td>arab world</td>\n",
       "      <td>arab world</td>\n",
       "    </tr>\n",
       "  </tbody>\n",
       "</table>\n",
       "</div>"
      ],
      "text/plain": [
       "                       country         standardized\n",
       "0                  afghanistan          afghanistan\n",
       "1  africa eastern and southern                  NaN\n",
       "2   africa western and central                  NaN\n",
       "3                      albania              albania\n",
       "4                      algeria              algeria\n",
       "5               american samoa                  NaN\n",
       "6                      andorra              andorra\n",
       "7                       angola               angola\n",
       "8          antigua and barbuda  antigua and barbuda\n",
       "9                   arab world           arab world"
      ]
     },
     "execution_count": 113,
     "metadata": {},
     "output_type": "execute_result"
    }
   ],
   "source": [
    "# read in CSV renamed_countries\n",
    "renamed_countries = pd.read_csv('./data/renamed_countries.csv')\n",
    "\n",
    "renamed_countries.head(10)"
   ]
  },
  {
   "cell_type": "code",
   "execution_count": null,
   "metadata": {},
   "outputs": [],
   "source": []
  },
  {
   "cell_type": "code",
   "execution_count": 16,
   "metadata": {},
   "outputs": [
    {
     "data": {
      "text/html": [
       "<div>\n",
       "<style scoped>\n",
       "    .dataframe tbody tr th:only-of-type {\n",
       "        vertical-align: middle;\n",
       "    }\n",
       "\n",
       "    .dataframe tbody tr th {\n",
       "        vertical-align: top;\n",
       "    }\n",
       "\n",
       "    .dataframe thead th {\n",
       "        text-align: right;\n",
       "    }\n",
       "</style>\n",
       "<table border=\"1\" class=\"dataframe\">\n",
       "  <thead>\n",
       "    <tr style=\"text-align: right;\">\n",
       "      <th></th>\n",
       "      <th>country</th>\n",
       "      <th>standardized</th>\n",
       "    </tr>\n",
       "  </thead>\n",
       "  <tbody>\n",
       "    <tr>\n",
       "      <th>0</th>\n",
       "      <td>afghanistan</td>\n",
       "      <td>afghanistan</td>\n",
       "    </tr>\n",
       "    <tr>\n",
       "      <th>1</th>\n",
       "      <td>africa eastern and southern</td>\n",
       "      <td>africa eastern and southern</td>\n",
       "    </tr>\n",
       "    <tr>\n",
       "      <th>2</th>\n",
       "      <td>africa western and central</td>\n",
       "      <td>africa western and central</td>\n",
       "    </tr>\n",
       "    <tr>\n",
       "      <th>3</th>\n",
       "      <td>albania</td>\n",
       "      <td>albania</td>\n",
       "    </tr>\n",
       "    <tr>\n",
       "      <th>4</th>\n",
       "      <td>algeria</td>\n",
       "      <td>algeria</td>\n",
       "    </tr>\n",
       "    <tr>\n",
       "      <th>...</th>\n",
       "      <td>...</td>\n",
       "      <td>...</td>\n",
       "    </tr>\n",
       "    <tr>\n",
       "      <th>314</th>\n",
       "      <td>world</td>\n",
       "      <td>world</td>\n",
       "    </tr>\n",
       "    <tr>\n",
       "      <th>315</th>\n",
       "      <td>yemen</td>\n",
       "      <td>yemen</td>\n",
       "    </tr>\n",
       "    <tr>\n",
       "      <th>316</th>\n",
       "      <td>yemen, rep.</td>\n",
       "      <td>yemen</td>\n",
       "    </tr>\n",
       "    <tr>\n",
       "      <th>317</th>\n",
       "      <td>zambia</td>\n",
       "      <td>zambia</td>\n",
       "    </tr>\n",
       "    <tr>\n",
       "      <th>318</th>\n",
       "      <td>zimbabwe</td>\n",
       "      <td>zimbabwe</td>\n",
       "    </tr>\n",
       "  </tbody>\n",
       "</table>\n",
       "<p>319 rows × 2 columns</p>\n",
       "</div>"
      ],
      "text/plain": [
       "                         country                 standardized\n",
       "0                    afghanistan                  afghanistan\n",
       "1    africa eastern and southern  africa eastern and southern\n",
       "2     africa western and central   africa western and central\n",
       "3                        albania                      albania\n",
       "4                        algeria                      algeria\n",
       "..                           ...                          ...\n",
       "314                        world                        world\n",
       "315                        yemen                        yemen\n",
       "316                  yemen, rep.                        yemen\n",
       "317                       zambia                       zambia\n",
       "318                     zimbabwe                     zimbabwe\n",
       "\n",
       "[319 rows x 2 columns]"
      ]
     },
     "execution_count": 16,
     "metadata": {},
     "output_type": "execute_result"
    }
   ],
   "source": [
    "#standardized['standardized'] = standardized.standardized.fillna(standardized.country)\n"
   ]
  },
  {
   "cell_type": "code",
   "execution_count": 7,
   "metadata": {},
   "outputs": [],
   "source": [
    "#export CSV of standardized dataframe\n",
    "#standardized.to_csv('data/standardized.csv', index=False)"
   ]
  },
  {
   "cell_type": "code",
   "execution_count": 8,
   "metadata": {},
   "outputs": [],
   "source": [
    "#standardized.country.value_counts()"
   ]
  },
  {
   "cell_type": "code",
   "execution_count": 114,
   "metadata": {},
   "outputs": [],
   "source": [
    "df1['Country'] = df1.Country.str.lower().str.strip()\n",
    "\n",
    "#rename country column \n",
    "df1.rename(columns={'Country':'country'}, inplace=True)"
   ]
  },
  {
   "cell_type": "code",
   "execution_count": 115,
   "metadata": {},
   "outputs": [],
   "source": [
    "df2['COUNTRY'] = df2.COUNTRY.str.lower().str.strip()\n",
    "\n",
    "#rename country column\n",
    "df2.rename(columns={'COUNTRY':'country'}, inplace=True)\n"
   ]
  },
  {
   "cell_type": "code",
   "execution_count": 116,
   "metadata": {},
   "outputs": [],
   "source": [
    "df3['Country Name'] = df3['Country Name'].str.lower().str.strip()\n",
    "\n",
    "#rename country column\n",
    "df3.rename(columns={'Country Name':'country'}, inplace=True)"
   ]
  },
  {
   "cell_type": "code",
   "execution_count": 117,
   "metadata": {},
   "outputs": [
    {
     "data": {
      "text/plain": [
       "0               Switzerland\n",
       "1                    Norway\n",
       "2                   Iceland\n",
       "3    Hong Kong, China (SAR)\n",
       "4                 Australia\n",
       "5                   Denmark\n",
       "6                    Sweden\n",
       "7                   Ireland\n",
       "8                   Germany\n",
       "9               Netherlands\n",
       "dtype: object"
      ]
     },
     "execution_count": 117,
     "metadata": {},
     "output_type": "execute_result"
    }
   ],
   "source": [
    "df.head(10)"
   ]
  },
  {
   "cell_type": "code",
   "execution_count": 29,
   "metadata": {},
   "outputs": [],
   "source": [
    "#df.columns = df.columns.str.lower().str.replace(' ','_') "
   ]
  },
  {
   "cell_type": "code",
   "execution_count": 118,
   "metadata": {},
   "outputs": [],
   "source": [
    "# left_merged = pd.merge(\n",
    "# ...     climate_temp, precip_one_station, how=\"left\", on=[\"STATION\", \"DATE\"]\n",
    "# ... )\n",
    "# >>> left_merged.shape\n",
    "# (127020, 48)\n",
    "\n",
    "# df1.join(standardized, lsuffix=\"country\", rsuffix=\"country\")\n",
    "\n",
    "# m = df1.merge(standardized,how='left',indicator='merge_country')\n",
    "\n",
    "# m.merge_country.value_counts()\n",
    "\n",
    "\n",
    "#country_join_df1 = pd.merge(df1, standardized, how=\"left\", on=[\"country\"],indicator=True)\n",
    "\n",
    "country_join_df1 = pd.merge(df1, renamed_countries, how=\"left\", on=[\"country\"],indicator=True)\n",
    "\n",
    "\n"
   ]
  },
  {
   "cell_type": "code",
   "execution_count": 119,
   "metadata": {},
   "outputs": [],
   "source": [
    "country_join_df2 = pd.merge(df2, renamed_countries, how=\"left\", on=[\"country\"],indicator=True)"
   ]
  },
  {
   "cell_type": "code",
   "execution_count": 120,
   "metadata": {},
   "outputs": [],
   "source": [
    "country_join_df3 = pd.merge(df3, renamed_countries, how=\"left\", on=[\"country\"],indicator=True)"
   ]
  },
  {
   "cell_type": "code",
   "execution_count": 121,
   "metadata": {},
   "outputs": [
    {
     "data": {
      "text/plain": [
       "standardized\n",
       "dominican republic              2\n",
       "democratic republic of congo    2\n",
       "switzerland                     1\n",
       "india                           1\n",
       "morocco                         1\n",
       "                               ..\n",
       "thailand                        1\n",
       "albania                         1\n",
       "bulgaria                        1\n",
       "grenada                         1\n",
       "south sudan                     1\n",
       "Name: count, Length: 184, dtype: int64"
      ]
     },
     "execution_count": 121,
     "metadata": {},
     "output_type": "execute_result"
    }
   ],
   "source": [
    "country_join_df1['standardized'].value_counts()"
   ]
  },
  {
   "cell_type": "code",
   "execution_count": 122,
   "metadata": {},
   "outputs": [
    {
     "data": {
      "text/html": [
       "<div>\n",
       "<style scoped>\n",
       "    .dataframe tbody tr th:only-of-type {\n",
       "        vertical-align: middle;\n",
       "    }\n",
       "\n",
       "    .dataframe tbody tr th {\n",
       "        vertical-align: top;\n",
       "    }\n",
       "\n",
       "    .dataframe thead th {\n",
       "        text-align: right;\n",
       "    }\n",
       "</style>\n",
       "<table border=\"1\" class=\"dataframe\">\n",
       "  <thead>\n",
       "    <tr style=\"text-align: right;\">\n",
       "      <th></th>\n",
       "      <th>EVENT_ID_CNTY</th>\n",
       "      <th>EVENT_DATE</th>\n",
       "      <th>YEAR</th>\n",
       "      <th>TIME_PRECISION</th>\n",
       "      <th>DISORDER_TYPE</th>\n",
       "      <th>EVENT_TYPE</th>\n",
       "      <th>SUB_EVENT_TYPE</th>\n",
       "      <th>ACTOR1</th>\n",
       "      <th>ASSOC_ACTOR_1</th>\n",
       "      <th>INTER1</th>\n",
       "      <th>...</th>\n",
       "      <th>LONGITUDE</th>\n",
       "      <th>GEO_PRECISION</th>\n",
       "      <th>SOURCE</th>\n",
       "      <th>SOURCE_SCALE</th>\n",
       "      <th>NOTES</th>\n",
       "      <th>FATALITIES</th>\n",
       "      <th>TAGS</th>\n",
       "      <th>TIMESTAMP</th>\n",
       "      <th>standardized</th>\n",
       "      <th>_merge</th>\n",
       "    </tr>\n",
       "  </thead>\n",
       "  <tbody>\n",
       "    <tr>\n",
       "      <th>0</th>\n",
       "      <td>XKX12</td>\n",
       "      <td>14-February-2018</td>\n",
       "      <td>2018</td>\n",
       "      <td>1</td>\n",
       "      <td>Demonstrations</td>\n",
       "      <td>Protests</td>\n",
       "      <td>Peaceful protest</td>\n",
       "      <td>Protesters (Kosovo)</td>\n",
       "      <td>Women (Kosovo)</td>\n",
       "      <td>6</td>\n",
       "      <td>...</td>\n",
       "      <td>21.172</td>\n",
       "      <td>1</td>\n",
       "      <td>Kallxo</td>\n",
       "      <td>National</td>\n",
       "      <td>On 14 February 2018, 2018 in Pristina, Kosovo,...</td>\n",
       "      <td>0</td>\n",
       "      <td>NaN</td>\n",
       "      <td>1652375201</td>\n",
       "      <td>kosovo</td>\n",
       "      <td>both</td>\n",
       "    </tr>\n",
       "    <tr>\n",
       "      <th>1</th>\n",
       "      <td>XKX19</td>\n",
       "      <td>08-March-2018</td>\n",
       "      <td>2018</td>\n",
       "      <td>1</td>\n",
       "      <td>Demonstrations</td>\n",
       "      <td>Protests</td>\n",
       "      <td>Peaceful protest</td>\n",
       "      <td>Protesters (Kosovo)</td>\n",
       "      <td>Women (Kosovo)</td>\n",
       "      <td>6</td>\n",
       "      <td>...</td>\n",
       "      <td>21.172</td>\n",
       "      <td>1</td>\n",
       "      <td>Kosova Press</td>\n",
       "      <td>National</td>\n",
       "      <td>On 8 March 2018, in Kosovo capital Pristina, w...</td>\n",
       "      <td>0</td>\n",
       "      <td>NaN</td>\n",
       "      <td>1652899424</td>\n",
       "      <td>kosovo</td>\n",
       "      <td>both</td>\n",
       "    </tr>\n",
       "    <tr>\n",
       "      <th>2</th>\n",
       "      <td>XKX35</td>\n",
       "      <td>20-April-2018</td>\n",
       "      <td>2018</td>\n",
       "      <td>2</td>\n",
       "      <td>Political violence</td>\n",
       "      <td>Violence against civilians</td>\n",
       "      <td>Attack</td>\n",
       "      <td>Unidentified Armed Group (Kosovo)</td>\n",
       "      <td>Albanian Ethnic Group (Kosovo)</td>\n",
       "      <td>3</td>\n",
       "      <td>...</td>\n",
       "      <td>20.865</td>\n",
       "      <td>1</td>\n",
       "      <td>Vecernje Novosti</td>\n",
       "      <td>International</td>\n",
       "      <td>As reported on April 20, 2018, female journali...</td>\n",
       "      <td>0</td>\n",
       "      <td>NaN</td>\n",
       "      <td>1572403786</td>\n",
       "      <td>kosovo</td>\n",
       "      <td>both</td>\n",
       "    </tr>\n",
       "    <tr>\n",
       "      <th>3</th>\n",
       "      <td>XKX64</td>\n",
       "      <td>22-July-2018</td>\n",
       "      <td>2018</td>\n",
       "      <td>1</td>\n",
       "      <td>Demonstrations</td>\n",
       "      <td>Protests</td>\n",
       "      <td>Peaceful protest</td>\n",
       "      <td>Protesters (Kosovo)</td>\n",
       "      <td>Women (Kosovo)</td>\n",
       "      <td>6</td>\n",
       "      <td>...</td>\n",
       "      <td>21.026</td>\n",
       "      <td>1</td>\n",
       "      <td>Kosova Press</td>\n",
       "      <td>National</td>\n",
       "      <td>On 22 July 2018, 2018 in Prizren, Kosovo, FEMa...</td>\n",
       "      <td>0</td>\n",
       "      <td>crowd size=no report</td>\n",
       "      <td>1652375197</td>\n",
       "      <td>kosovo</td>\n",
       "      <td>both</td>\n",
       "    </tr>\n",
       "    <tr>\n",
       "      <th>4</th>\n",
       "      <td>XKX67</td>\n",
       "      <td>09-August-2018</td>\n",
       "      <td>2018</td>\n",
       "      <td>1</td>\n",
       "      <td>Demonstrations</td>\n",
       "      <td>Protests</td>\n",
       "      <td>Peaceful protest</td>\n",
       "      <td>Protesters (Kosovo)</td>\n",
       "      <td>Women (Kosovo)</td>\n",
       "      <td>6</td>\n",
       "      <td>...</td>\n",
       "      <td>20.431</td>\n",
       "      <td>1</td>\n",
       "      <td>Kallxo</td>\n",
       "      <td>National</td>\n",
       "      <td>On 9 August 2018, 2018 in Gjakova, Kosovo, cit...</td>\n",
       "      <td>0</td>\n",
       "      <td>NaN</td>\n",
       "      <td>1652375197</td>\n",
       "      <td>kosovo</td>\n",
       "      <td>both</td>\n",
       "    </tr>\n",
       "    <tr>\n",
       "      <th>5</th>\n",
       "      <td>XKX68</td>\n",
       "      <td>11-August-2018</td>\n",
       "      <td>2018</td>\n",
       "      <td>1</td>\n",
       "      <td>Demonstrations</td>\n",
       "      <td>Protests</td>\n",
       "      <td>Peaceful protest</td>\n",
       "      <td>Protesters (Kosovo)</td>\n",
       "      <td>Women (Kosovo)</td>\n",
       "      <td>6</td>\n",
       "      <td>...</td>\n",
       "      <td>20.431</td>\n",
       "      <td>1</td>\n",
       "      <td>Kallxo</td>\n",
       "      <td>National</td>\n",
       "      <td>On 11 August 2018, 2018 in Gjakova, Kosovo, ci...</td>\n",
       "      <td>0</td>\n",
       "      <td>NaN</td>\n",
       "      <td>1652375197</td>\n",
       "      <td>kosovo</td>\n",
       "      <td>both</td>\n",
       "    </tr>\n",
       "    <tr>\n",
       "      <th>6</th>\n",
       "      <td>XKX70</td>\n",
       "      <td>11-August-2018</td>\n",
       "      <td>2018</td>\n",
       "      <td>1</td>\n",
       "      <td>Demonstrations</td>\n",
       "      <td>Protests</td>\n",
       "      <td>Peaceful protest</td>\n",
       "      <td>Protesters (Kosovo)</td>\n",
       "      <td>Women (Kosovo)</td>\n",
       "      <td>6</td>\n",
       "      <td>...</td>\n",
       "      <td>21.172</td>\n",
       "      <td>1</td>\n",
       "      <td>Kallxo</td>\n",
       "      <td>National</td>\n",
       "      <td>On 11 August 2018, 2018 in Pristina, Kosovo, c...</td>\n",
       "      <td>0</td>\n",
       "      <td>NaN</td>\n",
       "      <td>1652375197</td>\n",
       "      <td>kosovo</td>\n",
       "      <td>both</td>\n",
       "    </tr>\n",
       "    <tr>\n",
       "      <th>7</th>\n",
       "      <td>XKX72</td>\n",
       "      <td>17-August-2018</td>\n",
       "      <td>2018</td>\n",
       "      <td>1</td>\n",
       "      <td>Demonstrations</td>\n",
       "      <td>Protests</td>\n",
       "      <td>Peaceful protest</td>\n",
       "      <td>Protesters (Kosovo)</td>\n",
       "      <td>Women (Kosovo)</td>\n",
       "      <td>6</td>\n",
       "      <td>...</td>\n",
       "      <td>21.155</td>\n",
       "      <td>1</td>\n",
       "      <td>Local Source; RTK</td>\n",
       "      <td>National-International</td>\n",
       "      <td>On 17 August 2018, 2018 in Ferizaj, Kosovo act...</td>\n",
       "      <td>0</td>\n",
       "      <td>NaN</td>\n",
       "      <td>1652375197</td>\n",
       "      <td>kosovo</td>\n",
       "      <td>both</td>\n",
       "    </tr>\n",
       "    <tr>\n",
       "      <th>8</th>\n",
       "      <td>XKX74</td>\n",
       "      <td>27-August-2018</td>\n",
       "      <td>2018</td>\n",
       "      <td>1</td>\n",
       "      <td>Demonstrations</td>\n",
       "      <td>Protests</td>\n",
       "      <td>Peaceful protest</td>\n",
       "      <td>Protesters (Kosovo)</td>\n",
       "      <td>Women (Kosovo)</td>\n",
       "      <td>6</td>\n",
       "      <td>...</td>\n",
       "      <td>21.256</td>\n",
       "      <td>1</td>\n",
       "      <td>Kallxo</td>\n",
       "      <td>National</td>\n",
       "      <td>On 27 August 2018, 2018 in Kacanik, Kosovo, ci...</td>\n",
       "      <td>0</td>\n",
       "      <td>NaN</td>\n",
       "      <td>1652375197</td>\n",
       "      <td>kosovo</td>\n",
       "      <td>both</td>\n",
       "    </tr>\n",
       "    <tr>\n",
       "      <th>9</th>\n",
       "      <td>XKX81</td>\n",
       "      <td>06-September-2018</td>\n",
       "      <td>2018</td>\n",
       "      <td>1</td>\n",
       "      <td>Demonstrations</td>\n",
       "      <td>Protests</td>\n",
       "      <td>Peaceful protest</td>\n",
       "      <td>Protesters (Kosovo)</td>\n",
       "      <td>Women (Kosovo)</td>\n",
       "      <td>6</td>\n",
       "      <td>...</td>\n",
       "      <td>21.463</td>\n",
       "      <td>1</td>\n",
       "      <td>Zeri</td>\n",
       "      <td>International</td>\n",
       "      <td>On 6 September 2018, 2018 in Gjilan, Kosovo, c...</td>\n",
       "      <td>0</td>\n",
       "      <td>NaN</td>\n",
       "      <td>1652375196</td>\n",
       "      <td>kosovo</td>\n",
       "      <td>both</td>\n",
       "    </tr>\n",
       "  </tbody>\n",
       "</table>\n",
       "<p>10 rows × 33 columns</p>\n",
       "</div>"
      ],
      "text/plain": [
       "  EVENT_ID_CNTY         EVENT_DATE  YEAR  TIME_PRECISION       DISORDER_TYPE  \\\n",
       "0         XKX12   14-February-2018  2018               1      Demonstrations   \n",
       "1         XKX19      08-March-2018  2018               1      Demonstrations   \n",
       "2         XKX35      20-April-2018  2018               2  Political violence   \n",
       "3         XKX64       22-July-2018  2018               1      Demonstrations   \n",
       "4         XKX67     09-August-2018  2018               1      Demonstrations   \n",
       "5         XKX68     11-August-2018  2018               1      Demonstrations   \n",
       "6         XKX70     11-August-2018  2018               1      Demonstrations   \n",
       "7         XKX72     17-August-2018  2018               1      Demonstrations   \n",
       "8         XKX74     27-August-2018  2018               1      Demonstrations   \n",
       "9         XKX81  06-September-2018  2018               1      Demonstrations   \n",
       "\n",
       "                   EVENT_TYPE    SUB_EVENT_TYPE  \\\n",
       "0                    Protests  Peaceful protest   \n",
       "1                    Protests  Peaceful protest   \n",
       "2  Violence against civilians            Attack   \n",
       "3                    Protests  Peaceful protest   \n",
       "4                    Protests  Peaceful protest   \n",
       "5                    Protests  Peaceful protest   \n",
       "6                    Protests  Peaceful protest   \n",
       "7                    Protests  Peaceful protest   \n",
       "8                    Protests  Peaceful protest   \n",
       "9                    Protests  Peaceful protest   \n",
       "\n",
       "                              ACTOR1                   ASSOC_ACTOR_1  INTER1  \\\n",
       "0                Protesters (Kosovo)                  Women (Kosovo)       6   \n",
       "1                Protesters (Kosovo)                  Women (Kosovo)       6   \n",
       "2  Unidentified Armed Group (Kosovo)  Albanian Ethnic Group (Kosovo)       3   \n",
       "3                Protesters (Kosovo)                  Women (Kosovo)       6   \n",
       "4                Protesters (Kosovo)                  Women (Kosovo)       6   \n",
       "5                Protesters (Kosovo)                  Women (Kosovo)       6   \n",
       "6                Protesters (Kosovo)                  Women (Kosovo)       6   \n",
       "7                Protesters (Kosovo)                  Women (Kosovo)       6   \n",
       "8                Protesters (Kosovo)                  Women (Kosovo)       6   \n",
       "9                Protesters (Kosovo)                  Women (Kosovo)       6   \n",
       "\n",
       "   ... LONGITUDE GEO_PRECISION             SOURCE            SOURCE_SCALE  \\\n",
       "0  ...    21.172             1             Kallxo                National   \n",
       "1  ...    21.172             1       Kosova Press                National   \n",
       "2  ...    20.865             1   Vecernje Novosti           International   \n",
       "3  ...    21.026             1       Kosova Press                National   \n",
       "4  ...    20.431             1             Kallxo                National   \n",
       "5  ...    20.431             1             Kallxo                National   \n",
       "6  ...    21.172             1             Kallxo                National   \n",
       "7  ...    21.155             1  Local Source; RTK  National-International   \n",
       "8  ...    21.256             1             Kallxo                National   \n",
       "9  ...    21.463             1               Zeri           International   \n",
       "\n",
       "                                               NOTES  FATALITIES  \\\n",
       "0  On 14 February 2018, 2018 in Pristina, Kosovo,...           0   \n",
       "1  On 8 March 2018, in Kosovo capital Pristina, w...           0   \n",
       "2  As reported on April 20, 2018, female journali...           0   \n",
       "3  On 22 July 2018, 2018 in Prizren, Kosovo, FEMa...           0   \n",
       "4  On 9 August 2018, 2018 in Gjakova, Kosovo, cit...           0   \n",
       "5  On 11 August 2018, 2018 in Gjakova, Kosovo, ci...           0   \n",
       "6  On 11 August 2018, 2018 in Pristina, Kosovo, c...           0   \n",
       "7  On 17 August 2018, 2018 in Ferizaj, Kosovo act...           0   \n",
       "8  On 27 August 2018, 2018 in Kacanik, Kosovo, ci...           0   \n",
       "9  On 6 September 2018, 2018 in Gjilan, Kosovo, c...           0   \n",
       "\n",
       "                   TAGS   TIMESTAMP standardized _merge  \n",
       "0                   NaN  1652375201       kosovo   both  \n",
       "1                   NaN  1652899424       kosovo   both  \n",
       "2                   NaN  1572403786       kosovo   both  \n",
       "3  crowd size=no report  1652375197       kosovo   both  \n",
       "4                   NaN  1652375197       kosovo   both  \n",
       "5                   NaN  1652375197       kosovo   both  \n",
       "6                   NaN  1652375197       kosovo   both  \n",
       "7                   NaN  1652375197       kosovo   both  \n",
       "8                   NaN  1652375197       kosovo   both  \n",
       "9                   NaN  1652375196       kosovo   both  \n",
       "\n",
       "[10 rows x 33 columns]"
      ]
     },
     "execution_count": 122,
     "metadata": {},
     "output_type": "execute_result"
    }
   ],
   "source": [
    "country_join_df2.head(10)"
   ]
  },
  {
   "cell_type": "code",
   "execution_count": 123,
   "metadata": {},
   "outputs": [
    {
     "data": {
      "text/plain": [
       "<AxesSubplot:ylabel='DISORDER_TYPE'>"
      ]
     },
     "execution_count": 123,
     "metadata": {},
     "output_type": "execute_result"
    },
    {
     "data": {
      "image/png": "[encoded data removed]",
      "text/plain": [
       "<Figure size 640x480 with 1 Axes>"
      ]
     },
     "metadata": {},
     "output_type": "display_data"
    }
   ],
   "source": [
    "#plotting demonstrations data \n",
    "\n",
    "country_join_df2['DISORDER_TYPE'].value_counts().plot(kind = \"barh\")"
   ]
  },
  {
   "cell_type": "code",
   "execution_count": 124,
   "metadata": {},
   "outputs": [
    {
     "data": {
      "text/html": [
       "<div>\n",
       "<style scoped>\n",
       "    .dataframe tbody tr th:only-of-type {\n",
       "        vertical-align: middle;\n",
       "    }\n",
       "\n",
       "    .dataframe tbody tr th {\n",
       "        vertical-align: top;\n",
       "    }\n",
       "\n",
       "    .dataframe thead th {\n",
       "        text-align: right;\n",
       "    }\n",
       "</style>\n",
       "<table border=\"1\" class=\"dataframe\">\n",
       "  <thead>\n",
       "    <tr style=\"text-align: right;\">\n",
       "      <th></th>\n",
       "      <th></th>\n",
       "      <th>EVENT_ID_CNTY</th>\n",
       "      <th>EVENT_DATE</th>\n",
       "      <th>YEAR</th>\n",
       "      <th>TIME_PRECISION</th>\n",
       "      <th>EVENT_TYPE</th>\n",
       "      <th>SUB_EVENT_TYPE</th>\n",
       "      <th>ACTOR1</th>\n",
       "      <th>ASSOC_ACTOR_1</th>\n",
       "      <th>INTER1</th>\n",
       "      <th>ACTOR2</th>\n",
       "      <th>...</th>\n",
       "      <th>LATITUDE</th>\n",
       "      <th>LONGITUDE</th>\n",
       "      <th>GEO_PRECISION</th>\n",
       "      <th>SOURCE</th>\n",
       "      <th>SOURCE_SCALE</th>\n",
       "      <th>NOTES</th>\n",
       "      <th>FATALITIES</th>\n",
       "      <th>TAGS</th>\n",
       "      <th>TIMESTAMP</th>\n",
       "      <th>_merge</th>\n",
       "    </tr>\n",
       "    <tr>\n",
       "      <th>standardized</th>\n",
       "      <th>DISORDER_TYPE</th>\n",
       "      <th></th>\n",
       "      <th></th>\n",
       "      <th></th>\n",
       "      <th></th>\n",
       "      <th></th>\n",
       "      <th></th>\n",
       "      <th></th>\n",
       "      <th></th>\n",
       "      <th></th>\n",
       "      <th></th>\n",
       "      <th></th>\n",
       "      <th></th>\n",
       "      <th></th>\n",
       "      <th></th>\n",
       "      <th></th>\n",
       "      <th></th>\n",
       "      <th></th>\n",
       "      <th></th>\n",
       "      <th></th>\n",
       "      <th></th>\n",
       "      <th></th>\n",
       "    </tr>\n",
       "  </thead>\n",
       "  <tbody>\n",
       "    <tr>\n",
       "      <th rowspan=\"4\" valign=\"top\">afghanistan</th>\n",
       "      <th>Demonstrations</th>\n",
       "      <td>243</td>\n",
       "      <td>243</td>\n",
       "      <td>243</td>\n",
       "      <td>243</td>\n",
       "      <td>243</td>\n",
       "      <td>243</td>\n",
       "      <td>243</td>\n",
       "      <td>243</td>\n",
       "      <td>243</td>\n",
       "      <td>38</td>\n",
       "      <td>...</td>\n",
       "      <td>243</td>\n",
       "      <td>243</td>\n",
       "      <td>243</td>\n",
       "      <td>243</td>\n",
       "      <td>243</td>\n",
       "      <td>243</td>\n",
       "      <td>243</td>\n",
       "      <td>236</td>\n",
       "      <td>243</td>\n",
       "      <td>243</td>\n",
       "    </tr>\n",
       "    <tr>\n",
       "      <th>Political violence</th>\n",
       "      <td>219</td>\n",
       "      <td>219</td>\n",
       "      <td>219</td>\n",
       "      <td>219</td>\n",
       "      <td>219</td>\n",
       "      <td>219</td>\n",
       "      <td>219</td>\n",
       "      <td>5</td>\n",
       "      <td>219</td>\n",
       "      <td>219</td>\n",
       "      <td>...</td>\n",
       "      <td>219</td>\n",
       "      <td>219</td>\n",
       "      <td>219</td>\n",
       "      <td>219</td>\n",
       "      <td>219</td>\n",
       "      <td>219</td>\n",
       "      <td>219</td>\n",
       "      <td>103</td>\n",
       "      <td>219</td>\n",
       "      <td>219</td>\n",
       "    </tr>\n",
       "    <tr>\n",
       "      <th>Political violence; Demonstrations</th>\n",
       "      <td>4</td>\n",
       "      <td>4</td>\n",
       "      <td>4</td>\n",
       "      <td>4</td>\n",
       "      <td>4</td>\n",
       "      <td>4</td>\n",
       "      <td>4</td>\n",
       "      <td>4</td>\n",
       "      <td>4</td>\n",
       "      <td>4</td>\n",
       "      <td>...</td>\n",
       "      <td>4</td>\n",
       "      <td>4</td>\n",
       "      <td>4</td>\n",
       "      <td>4</td>\n",
       "      <td>4</td>\n",
       "      <td>4</td>\n",
       "      <td>4</td>\n",
       "      <td>4</td>\n",
       "      <td>4</td>\n",
       "      <td>4</td>\n",
       "    </tr>\n",
       "    <tr>\n",
       "      <th>Strategic developments</th>\n",
       "      <td>38</td>\n",
       "      <td>38</td>\n",
       "      <td>38</td>\n",
       "      <td>38</td>\n",
       "      <td>38</td>\n",
       "      <td>38</td>\n",
       "      <td>38</td>\n",
       "      <td>0</td>\n",
       "      <td>38</td>\n",
       "      <td>38</td>\n",
       "      <td>...</td>\n",
       "      <td>38</td>\n",
       "      <td>38</td>\n",
       "      <td>38</td>\n",
       "      <td>38</td>\n",
       "      <td>38</td>\n",
       "      <td>38</td>\n",
       "      <td>38</td>\n",
       "      <td>0</td>\n",
       "      <td>38</td>\n",
       "      <td>38</td>\n",
       "    </tr>\n",
       "    <tr>\n",
       "      <th rowspan=\"2\" valign=\"top\">albania</th>\n",
       "      <th>Demonstrations</th>\n",
       "      <td>32</td>\n",
       "      <td>32</td>\n",
       "      <td>32</td>\n",
       "      <td>32</td>\n",
       "      <td>32</td>\n",
       "      <td>32</td>\n",
       "      <td>32</td>\n",
       "      <td>32</td>\n",
       "      <td>32</td>\n",
       "      <td>1</td>\n",
       "      <td>...</td>\n",
       "      <td>32</td>\n",
       "      <td>32</td>\n",
       "      <td>32</td>\n",
       "      <td>32</td>\n",
       "      <td>32</td>\n",
       "      <td>32</td>\n",
       "      <td>32</td>\n",
       "      <td>28</td>\n",
       "      <td>32</td>\n",
       "      <td>32</td>\n",
       "    </tr>\n",
       "    <tr>\n",
       "      <th>Political violence</th>\n",
       "      <td>1</td>\n",
       "      <td>1</td>\n",
       "      <td>1</td>\n",
       "      <td>1</td>\n",
       "      <td>1</td>\n",
       "      <td>1</td>\n",
       "      <td>1</td>\n",
       "      <td>0</td>\n",
       "      <td>1</td>\n",
       "      <td>1</td>\n",
       "      <td>...</td>\n",
       "      <td>1</td>\n",
       "      <td>1</td>\n",
       "      <td>1</td>\n",
       "      <td>1</td>\n",
       "      <td>1</td>\n",
       "      <td>1</td>\n",
       "      <td>1</td>\n",
       "      <td>0</td>\n",
       "      <td>1</td>\n",
       "      <td>1</td>\n",
       "    </tr>\n",
       "    <tr>\n",
       "      <th rowspan=\"3\" valign=\"top\">algeria</th>\n",
       "      <th>Demonstrations</th>\n",
       "      <td>56</td>\n",
       "      <td>56</td>\n",
       "      <td>56</td>\n",
       "      <td>56</td>\n",
       "      <td>56</td>\n",
       "      <td>56</td>\n",
       "      <td>56</td>\n",
       "      <td>56</td>\n",
       "      <td>56</td>\n",
       "      <td>7</td>\n",
       "      <td>...</td>\n",
       "      <td>56</td>\n",
       "      <td>56</td>\n",
       "      <td>56</td>\n",
       "      <td>56</td>\n",
       "      <td>56</td>\n",
       "      <td>56</td>\n",
       "      <td>56</td>\n",
       "      <td>42</td>\n",
       "      <td>56</td>\n",
       "      <td>56</td>\n",
       "    </tr>\n",
       "    <tr>\n",
       "      <th>Political violence</th>\n",
       "      <td>13</td>\n",
       "      <td>13</td>\n",
       "      <td>13</td>\n",
       "      <td>13</td>\n",
       "      <td>13</td>\n",
       "      <td>13</td>\n",
       "      <td>13</td>\n",
       "      <td>0</td>\n",
       "      <td>13</td>\n",
       "      <td>13</td>\n",
       "      <td>...</td>\n",
       "      <td>13</td>\n",
       "      <td>13</td>\n",
       "      <td>13</td>\n",
       "      <td>13</td>\n",
       "      <td>13</td>\n",
       "      <td>13</td>\n",
       "      <td>13</td>\n",
       "      <td>5</td>\n",
       "      <td>13</td>\n",
       "      <td>13</td>\n",
       "    </tr>\n",
       "    <tr>\n",
       "      <th>Political violence; Demonstrations</th>\n",
       "      <td>1</td>\n",
       "      <td>1</td>\n",
       "      <td>1</td>\n",
       "      <td>1</td>\n",
       "      <td>1</td>\n",
       "      <td>1</td>\n",
       "      <td>1</td>\n",
       "      <td>1</td>\n",
       "      <td>1</td>\n",
       "      <td>1</td>\n",
       "      <td>...</td>\n",
       "      <td>1</td>\n",
       "      <td>1</td>\n",
       "      <td>1</td>\n",
       "      <td>1</td>\n",
       "      <td>1</td>\n",
       "      <td>1</td>\n",
       "      <td>1</td>\n",
       "      <td>1</td>\n",
       "      <td>1</td>\n",
       "      <td>1</td>\n",
       "    </tr>\n",
       "    <tr>\n",
       "      <th>andorra</th>\n",
       "      <th>Demonstrations</th>\n",
       "      <td>4</td>\n",
       "      <td>4</td>\n",
       "      <td>4</td>\n",
       "      <td>4</td>\n",
       "      <td>4</td>\n",
       "      <td>4</td>\n",
       "      <td>4</td>\n",
       "      <td>4</td>\n",
       "      <td>4</td>\n",
       "      <td>0</td>\n",
       "      <td>...</td>\n",
       "      <td>4</td>\n",
       "      <td>4</td>\n",
       "      <td>4</td>\n",
       "      <td>4</td>\n",
       "      <td>4</td>\n",
       "      <td>4</td>\n",
       "      <td>4</td>\n",
       "      <td>4</td>\n",
       "      <td>4</td>\n",
       "      <td>4</td>\n",
       "    </tr>\n",
       "  </tbody>\n",
       "</table>\n",
       "<p>10 rows × 31 columns</p>\n",
       "</div>"
      ],
      "text/plain": [
       "                                                 EVENT_ID_CNTY  EVENT_DATE  \\\n",
       "standardized DISORDER_TYPE                                                   \n",
       "afghanistan  Demonstrations                                243         243   \n",
       "             Political violence                            219         219   \n",
       "             Political violence; Demonstrations              4           4   \n",
       "             Strategic developments                         38          38   \n",
       "albania      Demonstrations                                 32          32   \n",
       "             Political violence                              1           1   \n",
       "algeria      Demonstrations                                 56          56   \n",
       "             Political violence                             13          13   \n",
       "             Political violence; Demonstrations              1           1   \n",
       "andorra      Demonstrations                                  4           4   \n",
       "\n",
       "                                                 YEAR  TIME_PRECISION  \\\n",
       "standardized DISORDER_TYPE                                              \n",
       "afghanistan  Demonstrations                       243             243   \n",
       "             Political violence                   219             219   \n",
       "             Political violence; Demonstrations     4               4   \n",
       "             Strategic developments                38              38   \n",
       "albania      Demonstrations                        32              32   \n",
       "             Political violence                     1               1   \n",
       "algeria      Demonstrations                        56              56   \n",
       "             Political violence                    13              13   \n",
       "             Political violence; Demonstrations     1               1   \n",
       "andorra      Demonstrations                         4               4   \n",
       "\n",
       "                                                 EVENT_TYPE  SUB_EVENT_TYPE  \\\n",
       "standardized DISORDER_TYPE                                                    \n",
       "afghanistan  Demonstrations                             243             243   \n",
       "             Political violence                         219             219   \n",
       "             Political violence; Demonstrations           4               4   \n",
       "             Strategic developments                      38              38   \n",
       "albania      Demonstrations                              32              32   \n",
       "             Political violence                           1               1   \n",
       "algeria      Demonstrations                              56              56   \n",
       "             Political violence                          13              13   \n",
       "             Political violence; Demonstrations           1               1   \n",
       "andorra      Demonstrations                               4               4   \n",
       "\n",
       "                                                 ACTOR1  ASSOC_ACTOR_1  \\\n",
       "standardized DISORDER_TYPE                                               \n",
       "afghanistan  Demonstrations                         243            243   \n",
       "             Political violence                     219              5   \n",
       "             Political violence; Demonstrations       4              4   \n",
       "             Strategic developments                  38              0   \n",
       "albania      Demonstrations                          32             32   \n",
       "             Political violence                       1              0   \n",
       "algeria      Demonstrations                          56             56   \n",
       "             Political violence                      13              0   \n",
       "             Political violence; Demonstrations       1              1   \n",
       "andorra      Demonstrations                           4              4   \n",
       "\n",
       "                                                 INTER1  ACTOR2  ...  \\\n",
       "standardized DISORDER_TYPE                                       ...   \n",
       "afghanistan  Demonstrations                         243      38  ...   \n",
       "             Political violence                     219     219  ...   \n",
       "             Political violence; Demonstrations       4       4  ...   \n",
       "             Strategic developments                  38      38  ...   \n",
       "albania      Demonstrations                          32       1  ...   \n",
       "             Political violence                       1       1  ...   \n",
       "algeria      Demonstrations                          56       7  ...   \n",
       "             Political violence                      13      13  ...   \n",
       "             Political violence; Demonstrations       1       1  ...   \n",
       "andorra      Demonstrations                           4       0  ...   \n",
       "\n",
       "                                                 LATITUDE  LONGITUDE  \\\n",
       "standardized DISORDER_TYPE                                             \n",
       "afghanistan  Demonstrations                           243        243   \n",
       "             Political violence                       219        219   \n",
       "             Political violence; Demonstrations         4          4   \n",
       "             Strategic developments                    38         38   \n",
       "albania      Demonstrations                            32         32   \n",
       "             Political violence                         1          1   \n",
       "algeria      Demonstrations                            56         56   \n",
       "             Political violence                        13         13   \n",
       "             Political violence; Demonstrations         1          1   \n",
       "andorra      Demonstrations                             4          4   \n",
       "\n",
       "                                                 GEO_PRECISION  SOURCE  \\\n",
       "standardized DISORDER_TYPE                                               \n",
       "afghanistan  Demonstrations                                243     243   \n",
       "             Political violence                            219     219   \n",
       "             Political violence; Demonstrations              4       4   \n",
       "             Strategic developments                         38      38   \n",
       "albania      Demonstrations                                 32      32   \n",
       "             Political violence                              1       1   \n",
       "algeria      Demonstrations                                 56      56   \n",
       "             Political violence                             13      13   \n",
       "             Political violence; Demonstrations              1       1   \n",
       "andorra      Demonstrations                                  4       4   \n",
       "\n",
       "                                                 SOURCE_SCALE  NOTES  \\\n",
       "standardized DISORDER_TYPE                                             \n",
       "afghanistan  Demonstrations                               243    243   \n",
       "             Political violence                           219    219   \n",
       "             Political violence; Demonstrations             4      4   \n",
       "             Strategic developments                        38     38   \n",
       "albania      Demonstrations                                32     32   \n",
       "             Political violence                             1      1   \n",
       "algeria      Demonstrations                                56     56   \n",
       "             Political violence                            13     13   \n",
       "             Political violence; Demonstrations             1      1   \n",
       "andorra      Demonstrations                                 4      4   \n",
       "\n",
       "                                                 FATALITIES  TAGS  TIMESTAMP  \\\n",
       "standardized DISORDER_TYPE                                                     \n",
       "afghanistan  Demonstrations                             243   236        243   \n",
       "             Political violence                         219   103        219   \n",
       "             Political violence; Demonstrations           4     4          4   \n",
       "             Strategic developments                      38     0         38   \n",
       "albania      Demonstrations                              32    28         32   \n",
       "             Political violence                           1     0          1   \n",
       "algeria      Demonstrations                              56    42         56   \n",
       "             Political violence                          13     5         13   \n",
       "             Political violence; Demonstrations           1     1          1   \n",
       "andorra      Demonstrations                               4     4          4   \n",
       "\n",
       "                                                 _merge  \n",
       "standardized DISORDER_TYPE                               \n",
       "afghanistan  Demonstrations                         243  \n",
       "             Political violence                     219  \n",
       "             Political violence; Demonstrations       4  \n",
       "             Strategic developments                  38  \n",
       "albania      Demonstrations                          32  \n",
       "             Political violence                       1  \n",
       "algeria      Demonstrations                          56  \n",
       "             Political violence                      13  \n",
       "             Political violence; Demonstrations       1  \n",
       "andorra      Demonstrations                           4  \n",
       "\n",
       "[10 rows x 31 columns]"
      ]
     },
     "execution_count": 124,
     "metadata": {},
     "output_type": "execute_result"
    }
   ],
   "source": [
    "# group by country to see the share of demonstrations that are politically violent \n",
    "demo_share_df = country_join_df2.groupby(['standardized', 'DISORDER_TYPE']).count()\n",
    "demo_share_df.head(10)\n"
   ]
  },
  {
   "cell_type": "code",
   "execution_count": 125,
   "metadata": {},
   "outputs": [
    {
     "data": {
      "text/html": [
       "<div>\n",
       "<style scoped>\n",
       "    .dataframe tbody tr th:only-of-type {\n",
       "        vertical-align: middle;\n",
       "    }\n",
       "\n",
       "    .dataframe tbody tr th {\n",
       "        vertical-align: top;\n",
       "    }\n",
       "\n",
       "    .dataframe thead th {\n",
       "        text-align: right;\n",
       "    }\n",
       "</style>\n",
       "<table border=\"1\" class=\"dataframe\">\n",
       "  <thead>\n",
       "    <tr style=\"text-align: right;\">\n",
       "      <th></th>\n",
       "      <th></th>\n",
       "      <th>EVENT_ID_CNTY</th>\n",
       "      <th>EVENT_DATE</th>\n",
       "      <th>YEAR</th>\n",
       "      <th>TIME_PRECISION</th>\n",
       "      <th>EVENT_TYPE</th>\n",
       "      <th>SUB_EVENT_TYPE</th>\n",
       "      <th>ACTOR1</th>\n",
       "      <th>ASSOC_ACTOR_1</th>\n",
       "      <th>INTER1</th>\n",
       "      <th>ACTOR2</th>\n",
       "      <th>...</th>\n",
       "      <th>LATITUDE</th>\n",
       "      <th>LONGITUDE</th>\n",
       "      <th>GEO_PRECISION</th>\n",
       "      <th>SOURCE</th>\n",
       "      <th>SOURCE_SCALE</th>\n",
       "      <th>NOTES</th>\n",
       "      <th>FATALITIES</th>\n",
       "      <th>TAGS</th>\n",
       "      <th>TIMESTAMP</th>\n",
       "      <th>_merge</th>\n",
       "    </tr>\n",
       "    <tr>\n",
       "      <th>standardized</th>\n",
       "      <th>DISORDER_TYPE</th>\n",
       "      <th></th>\n",
       "      <th></th>\n",
       "      <th></th>\n",
       "      <th></th>\n",
       "      <th></th>\n",
       "      <th></th>\n",
       "      <th></th>\n",
       "      <th></th>\n",
       "      <th></th>\n",
       "      <th></th>\n",
       "      <th></th>\n",
       "      <th></th>\n",
       "      <th></th>\n",
       "      <th></th>\n",
       "      <th></th>\n",
       "      <th></th>\n",
       "      <th></th>\n",
       "      <th></th>\n",
       "      <th></th>\n",
       "      <th></th>\n",
       "      <th></th>\n",
       "    </tr>\n",
       "  </thead>\n",
       "  <tbody>\n",
       "    <tr>\n",
       "      <th>united states</th>\n",
       "      <th>Demonstrations</th>\n",
       "      <td>5624</td>\n",
       "      <td>5624</td>\n",
       "      <td>5624</td>\n",
       "      <td>5624</td>\n",
       "      <td>5624</td>\n",
       "      <td>5624</td>\n",
       "      <td>5624</td>\n",
       "      <td>5592</td>\n",
       "      <td>5624</td>\n",
       "      <td>629</td>\n",
       "      <td>...</td>\n",
       "      <td>5624</td>\n",
       "      <td>5624</td>\n",
       "      <td>5624</td>\n",
       "      <td>5624</td>\n",
       "      <td>5624</td>\n",
       "      <td>5624</td>\n",
       "      <td>5624</td>\n",
       "      <td>5624</td>\n",
       "      <td>5624</td>\n",
       "      <td>5624</td>\n",
       "    </tr>\n",
       "    <tr>\n",
       "      <th>india</th>\n",
       "      <th>Demonstrations</th>\n",
       "      <td>5413</td>\n",
       "      <td>5413</td>\n",
       "      <td>5413</td>\n",
       "      <td>5413</td>\n",
       "      <td>5413</td>\n",
       "      <td>5413</td>\n",
       "      <td>5413</td>\n",
       "      <td>5405</td>\n",
       "      <td>5413</td>\n",
       "      <td>453</td>\n",
       "      <td>...</td>\n",
       "      <td>5413</td>\n",
       "      <td>5413</td>\n",
       "      <td>5413</td>\n",
       "      <td>5413</td>\n",
       "      <td>5413</td>\n",
       "      <td>5413</td>\n",
       "      <td>5413</td>\n",
       "      <td>4131</td>\n",
       "      <td>5413</td>\n",
       "      <td>5413</td>\n",
       "    </tr>\n",
       "    <tr>\n",
       "      <th>mexico</th>\n",
       "      <th>Political violence</th>\n",
       "      <td>2739</td>\n",
       "      <td>2739</td>\n",
       "      <td>2739</td>\n",
       "      <td>2739</td>\n",
       "      <td>2739</td>\n",
       "      <td>2739</td>\n",
       "      <td>2739</td>\n",
       "      <td>61</td>\n",
       "      <td>2739</td>\n",
       "      <td>2739</td>\n",
       "      <td>...</td>\n",
       "      <td>2739</td>\n",
       "      <td>2739</td>\n",
       "      <td>2739</td>\n",
       "      <td>2739</td>\n",
       "      <td>2739</td>\n",
       "      <td>2739</td>\n",
       "      <td>2739</td>\n",
       "      <td>485</td>\n",
       "      <td>2739</td>\n",
       "      <td>2739</td>\n",
       "    </tr>\n",
       "    <tr>\n",
       "      <th>turkey</th>\n",
       "      <th>Demonstrations</th>\n",
       "      <td>2492</td>\n",
       "      <td>2492</td>\n",
       "      <td>2492</td>\n",
       "      <td>2492</td>\n",
       "      <td>2492</td>\n",
       "      <td>2492</td>\n",
       "      <td>2492</td>\n",
       "      <td>2488</td>\n",
       "      <td>2492</td>\n",
       "      <td>245</td>\n",
       "      <td>...</td>\n",
       "      <td>2492</td>\n",
       "      <td>2492</td>\n",
       "      <td>2492</td>\n",
       "      <td>2492</td>\n",
       "      <td>2492</td>\n",
       "      <td>2492</td>\n",
       "      <td>2492</td>\n",
       "      <td>2372</td>\n",
       "      <td>2492</td>\n",
       "      <td>2492</td>\n",
       "    </tr>\n",
       "    <tr>\n",
       "      <th>mexico</th>\n",
       "      <th>Demonstrations</th>\n",
       "      <td>2426</td>\n",
       "      <td>2426</td>\n",
       "      <td>2426</td>\n",
       "      <td>2426</td>\n",
       "      <td>2426</td>\n",
       "      <td>2426</td>\n",
       "      <td>2426</td>\n",
       "      <td>2420</td>\n",
       "      <td>2426</td>\n",
       "      <td>109</td>\n",
       "      <td>...</td>\n",
       "      <td>2426</td>\n",
       "      <td>2426</td>\n",
       "      <td>2426</td>\n",
       "      <td>2426</td>\n",
       "      <td>2426</td>\n",
       "      <td>2426</td>\n",
       "      <td>2426</td>\n",
       "      <td>2423</td>\n",
       "      <td>2426</td>\n",
       "      <td>2426</td>\n",
       "    </tr>\n",
       "    <tr>\n",
       "      <th>...</th>\n",
       "      <th>...</th>\n",
       "      <td>...</td>\n",
       "      <td>...</td>\n",
       "      <td>...</td>\n",
       "      <td>...</td>\n",
       "      <td>...</td>\n",
       "      <td>...</td>\n",
       "      <td>...</td>\n",
       "      <td>...</td>\n",
       "      <td>...</td>\n",
       "      <td>...</td>\n",
       "      <td>...</td>\n",
       "      <td>...</td>\n",
       "      <td>...</td>\n",
       "      <td>...</td>\n",
       "      <td>...</td>\n",
       "      <td>...</td>\n",
       "      <td>...</td>\n",
       "      <td>...</td>\n",
       "      <td>...</td>\n",
       "      <td>...</td>\n",
       "      <td>...</td>\n",
       "    </tr>\n",
       "    <tr>\n",
       "      <th>solomon islands</th>\n",
       "      <th>Political violence</th>\n",
       "      <td>1</td>\n",
       "      <td>1</td>\n",
       "      <td>1</td>\n",
       "      <td>1</td>\n",
       "      <td>1</td>\n",
       "      <td>1</td>\n",
       "      <td>1</td>\n",
       "      <td>0</td>\n",
       "      <td>1</td>\n",
       "      <td>1</td>\n",
       "      <td>...</td>\n",
       "      <td>1</td>\n",
       "      <td>1</td>\n",
       "      <td>1</td>\n",
       "      <td>1</td>\n",
       "      <td>1</td>\n",
       "      <td>1</td>\n",
       "      <td>1</td>\n",
       "      <td>1</td>\n",
       "      <td>1</td>\n",
       "      <td>1</td>\n",
       "    </tr>\n",
       "    <tr>\n",
       "      <th>slovenia</th>\n",
       "      <th>Political violence</th>\n",
       "      <td>1</td>\n",
       "      <td>1</td>\n",
       "      <td>1</td>\n",
       "      <td>1</td>\n",
       "      <td>1</td>\n",
       "      <td>1</td>\n",
       "      <td>1</td>\n",
       "      <td>0</td>\n",
       "      <td>1</td>\n",
       "      <td>1</td>\n",
       "      <td>...</td>\n",
       "      <td>1</td>\n",
       "      <td>1</td>\n",
       "      <td>1</td>\n",
       "      <td>1</td>\n",
       "      <td>1</td>\n",
       "      <td>1</td>\n",
       "      <td>1</td>\n",
       "      <td>1</td>\n",
       "      <td>1</td>\n",
       "      <td>1</td>\n",
       "    </tr>\n",
       "    <tr>\n",
       "      <th rowspan=\"2\" valign=\"top\">serbia</th>\n",
       "      <th>Strategic developments</th>\n",
       "      <td>1</td>\n",
       "      <td>1</td>\n",
       "      <td>1</td>\n",
       "      <td>1</td>\n",
       "      <td>1</td>\n",
       "      <td>1</td>\n",
       "      <td>1</td>\n",
       "      <td>0</td>\n",
       "      <td>1</td>\n",
       "      <td>1</td>\n",
       "      <td>...</td>\n",
       "      <td>1</td>\n",
       "      <td>1</td>\n",
       "      <td>1</td>\n",
       "      <td>1</td>\n",
       "      <td>1</td>\n",
       "      <td>1</td>\n",
       "      <td>1</td>\n",
       "      <td>0</td>\n",
       "      <td>1</td>\n",
       "      <td>1</td>\n",
       "    </tr>\n",
       "    <tr>\n",
       "      <th>Political violence</th>\n",
       "      <td>1</td>\n",
       "      <td>1</td>\n",
       "      <td>1</td>\n",
       "      <td>1</td>\n",
       "      <td>1</td>\n",
       "      <td>1</td>\n",
       "      <td>1</td>\n",
       "      <td>0</td>\n",
       "      <td>1</td>\n",
       "      <td>1</td>\n",
       "      <td>...</td>\n",
       "      <td>1</td>\n",
       "      <td>1</td>\n",
       "      <td>1</td>\n",
       "      <td>1</td>\n",
       "      <td>1</td>\n",
       "      <td>1</td>\n",
       "      <td>1</td>\n",
       "      <td>1</td>\n",
       "      <td>1</td>\n",
       "      <td>1</td>\n",
       "    </tr>\n",
       "    <tr>\n",
       "      <th>zimbabwe</th>\n",
       "      <th>Strategic developments</th>\n",
       "      <td>1</td>\n",
       "      <td>1</td>\n",
       "      <td>1</td>\n",
       "      <td>1</td>\n",
       "      <td>1</td>\n",
       "      <td>1</td>\n",
       "      <td>1</td>\n",
       "      <td>0</td>\n",
       "      <td>1</td>\n",
       "      <td>1</td>\n",
       "      <td>...</td>\n",
       "      <td>1</td>\n",
       "      <td>1</td>\n",
       "      <td>1</td>\n",
       "      <td>1</td>\n",
       "      <td>1</td>\n",
       "      <td>1</td>\n",
       "      <td>1</td>\n",
       "      <td>0</td>\n",
       "      <td>1</td>\n",
       "      <td>1</td>\n",
       "    </tr>\n",
       "  </tbody>\n",
       "</table>\n",
       "<p>434 rows × 31 columns</p>\n",
       "</div>"
      ],
      "text/plain": [
       "                                        EVENT_ID_CNTY  EVENT_DATE  YEAR  \\\n",
       "standardized    DISORDER_TYPE                                             \n",
       "united states   Demonstrations                   5624        5624  5624   \n",
       "india           Demonstrations                   5413        5413  5413   \n",
       "mexico          Political violence               2739        2739  2739   \n",
       "turkey          Demonstrations                   2492        2492  2492   \n",
       "mexico          Demonstrations                   2426        2426  2426   \n",
       "...                                               ...         ...   ...   \n",
       "solomon islands Political violence                  1           1     1   \n",
       "slovenia        Political violence                  1           1     1   \n",
       "serbia          Strategic developments              1           1     1   \n",
       "                Political violence                  1           1     1   \n",
       "zimbabwe        Strategic developments              1           1     1   \n",
       "\n",
       "                                        TIME_PRECISION  EVENT_TYPE  \\\n",
       "standardized    DISORDER_TYPE                                        \n",
       "united states   Demonstrations                    5624        5624   \n",
       "india           Demonstrations                    5413        5413   \n",
       "mexico          Political violence                2739        2739   \n",
       "turkey          Demonstrations                    2492        2492   \n",
       "mexico          Demonstrations                    2426        2426   \n",
       "...                                                ...         ...   \n",
       "solomon islands Political violence                   1           1   \n",
       "slovenia        Political violence                   1           1   \n",
       "serbia          Strategic developments               1           1   \n",
       "                Political violence                   1           1   \n",
       "zimbabwe        Strategic developments               1           1   \n",
       "\n",
       "                                        SUB_EVENT_TYPE  ACTOR1  ASSOC_ACTOR_1  \\\n",
       "standardized    DISORDER_TYPE                                                   \n",
       "united states   Demonstrations                    5624    5624           5592   \n",
       "india           Demonstrations                    5413    5413           5405   \n",
       "mexico          Political violence                2739    2739             61   \n",
       "turkey          Demonstrations                    2492    2492           2488   \n",
       "mexico          Demonstrations                    2426    2426           2420   \n",
       "...                                                ...     ...            ...   \n",
       "solomon islands Political violence                   1       1              0   \n",
       "slovenia        Political violence                   1       1              0   \n",
       "serbia          Strategic developments               1       1              0   \n",
       "                Political violence                   1       1              0   \n",
       "zimbabwe        Strategic developments               1       1              0   \n",
       "\n",
       "                                        INTER1  ACTOR2  ...  LATITUDE  \\\n",
       "standardized    DISORDER_TYPE                           ...             \n",
       "united states   Demonstrations            5624     629  ...      5624   \n",
       "india           Demonstrations            5413     453  ...      5413   \n",
       "mexico          Political violence        2739    2739  ...      2739   \n",
       "turkey          Demonstrations            2492     245  ...      2492   \n",
       "mexico          Demonstrations            2426     109  ...      2426   \n",
       "...                                        ...     ...  ...       ...   \n",
       "solomon islands Political violence           1       1  ...         1   \n",
       "slovenia        Political violence           1       1  ...         1   \n",
       "serbia          Strategic developments       1       1  ...         1   \n",
       "                Political violence           1       1  ...         1   \n",
       "zimbabwe        Strategic developments       1       1  ...         1   \n",
       "\n",
       "                                        LONGITUDE  GEO_PRECISION  SOURCE  \\\n",
       "standardized    DISORDER_TYPE                                              \n",
       "united states   Demonstrations               5624           5624    5624   \n",
       "india           Demonstrations               5413           5413    5413   \n",
       "mexico          Political violence           2739           2739    2739   \n",
       "turkey          Demonstrations               2492           2492    2492   \n",
       "mexico          Demonstrations               2426           2426    2426   \n",
       "...                                           ...            ...     ...   \n",
       "solomon islands Political violence              1              1       1   \n",
       "slovenia        Political violence              1              1       1   \n",
       "serbia          Strategic developments          1              1       1   \n",
       "                Political violence              1              1       1   \n",
       "zimbabwe        Strategic developments          1              1       1   \n",
       "\n",
       "                                        SOURCE_SCALE  NOTES  FATALITIES  TAGS  \\\n",
       "standardized    DISORDER_TYPE                                                   \n",
       "united states   Demonstrations                  5624   5624        5624  5624   \n",
       "india           Demonstrations                  5413   5413        5413  4131   \n",
       "mexico          Political violence              2739   2739        2739   485   \n",
       "turkey          Demonstrations                  2492   2492        2492  2372   \n",
       "mexico          Demonstrations                  2426   2426        2426  2423   \n",
       "...                                              ...    ...         ...   ...   \n",
       "solomon islands Political violence                 1      1           1     1   \n",
       "slovenia        Political violence                 1      1           1     1   \n",
       "serbia          Strategic developments             1      1           1     0   \n",
       "                Political violence                 1      1           1     1   \n",
       "zimbabwe        Strategic developments             1      1           1     0   \n",
       "\n",
       "                                        TIMESTAMP  _merge  \n",
       "standardized    DISORDER_TYPE                              \n",
       "united states   Demonstrations               5624    5624  \n",
       "india           Demonstrations               5413    5413  \n",
       "mexico          Political violence           2739    2739  \n",
       "turkey          Demonstrations               2492    2492  \n",
       "mexico          Demonstrations               2426    2426  \n",
       "...                                           ...     ...  \n",
       "solomon islands Political violence              1       1  \n",
       "slovenia        Political violence              1       1  \n",
       "serbia          Strategic developments          1       1  \n",
       "                Political violence              1       1  \n",
       "zimbabwe        Strategic developments          1       1  \n",
       "\n",
       "[434 rows x 31 columns]"
      ]
     },
     "execution_count": 125,
     "metadata": {},
     "output_type": "execute_result"
    }
   ],
   "source": [
    "# demo_share_df.plot(kind = 'barh')\n",
    "\n",
    "# top_10 = [\"india\", \"united states\", \"mexico\", \"turky\", \"iran\", \"brazil\"]\n",
    "\n",
    "demo_share_df.sort_values(by = 'EVENT_ID_CNTY', ascending=False)\n",
    "\n",
    "\n",
    "# worldbank_df = worldbank_df.loc[worldbank_df[\"Country Name\"].isin(countries),:]"
   ]
  },
  {
   "cell_type": "code",
   "execution_count": 126,
   "metadata": {},
   "outputs": [
    {
     "data": {
      "text/html": [
       "<div>\n",
       "<style scoped>\n",
       "    .dataframe tbody tr th:only-of-type {\n",
       "        vertical-align: middle;\n",
       "    }\n",
       "\n",
       "    .dataframe tbody tr th {\n",
       "        vertical-align: top;\n",
       "    }\n",
       "\n",
       "    .dataframe thead th {\n",
       "        text-align: right;\n",
       "    }\n",
       "</style>\n",
       "<table border=\"1\" class=\"dataframe\">\n",
       "  <thead>\n",
       "    <tr style=\"text-align: right;\">\n",
       "      <th></th>\n",
       "      <th>Series Name</th>\n",
       "      <th>Series Code</th>\n",
       "      <th>country</th>\n",
       "      <th>Country Code</th>\n",
       "      <th>1990 [YR1990]</th>\n",
       "      <th>2000 [YR2000]</th>\n",
       "      <th>2013 [YR2013]</th>\n",
       "      <th>2014 [YR2014]</th>\n",
       "      <th>2015 [YR2015]</th>\n",
       "      <th>2016 [YR2016]</th>\n",
       "      <th>2017 [YR2017]</th>\n",
       "      <th>2018 [YR2018]</th>\n",
       "      <th>2019 [YR2019]</th>\n",
       "      <th>2020 [YR2020]</th>\n",
       "      <th>2021 [YR2021]</th>\n",
       "      <th>2022 [YR2022]</th>\n",
       "      <th>standardized</th>\n",
       "      <th>_merge</th>\n",
       "    </tr>\n",
       "  </thead>\n",
       "  <tbody>\n",
       "    <tr>\n",
       "      <th>0</th>\n",
       "      <td>Population, total</td>\n",
       "      <td>SP.POP.TOTL</td>\n",
       "      <td>afghanistan</td>\n",
       "      <td>AFG</td>\n",
       "      <td>10694796</td>\n",
       "      <td>19542982</td>\n",
       "      <td>31541209</td>\n",
       "      <td>32716210</td>\n",
       "      <td>33753499</td>\n",
       "      <td>34636207</td>\n",
       "      <td>35643418</td>\n",
       "      <td>36686784</td>\n",
       "      <td>37769499</td>\n",
       "      <td>38972230</td>\n",
       "      <td>40099462</td>\n",
       "      <td>41128771</td>\n",
       "      <td>afghanistan</td>\n",
       "      <td>both</td>\n",
       "    </tr>\n",
       "    <tr>\n",
       "      <th>1</th>\n",
       "      <td>Population, total</td>\n",
       "      <td>SP.POP.TOTL</td>\n",
       "      <td>albania</td>\n",
       "      <td>ALB</td>\n",
       "      <td>3286542</td>\n",
       "      <td>3089027</td>\n",
       "      <td>2895092</td>\n",
       "      <td>2889104</td>\n",
       "      <td>2880703</td>\n",
       "      <td>2876101</td>\n",
       "      <td>2873457</td>\n",
       "      <td>2866376</td>\n",
       "      <td>2854191</td>\n",
       "      <td>2837849</td>\n",
       "      <td>2811666</td>\n",
       "      <td>2775634</td>\n",
       "      <td>albania</td>\n",
       "      <td>both</td>\n",
       "    </tr>\n",
       "    <tr>\n",
       "      <th>2</th>\n",
       "      <td>Population, total</td>\n",
       "      <td>SP.POP.TOTL</td>\n",
       "      <td>algeria</td>\n",
       "      <td>DZA</td>\n",
       "      <td>25518074</td>\n",
       "      <td>30774621</td>\n",
       "      <td>38000626</td>\n",
       "      <td>38760168</td>\n",
       "      <td>39543154</td>\n",
       "      <td>40339329</td>\n",
       "      <td>41136546</td>\n",
       "      <td>41927007</td>\n",
       "      <td>42705368</td>\n",
       "      <td>43451666</td>\n",
       "      <td>44177969</td>\n",
       "      <td>44903225</td>\n",
       "      <td>algeria</td>\n",
       "      <td>both</td>\n",
       "    </tr>\n",
       "    <tr>\n",
       "      <th>3</th>\n",
       "      <td>Population, total</td>\n",
       "      <td>SP.POP.TOTL</td>\n",
       "      <td>american samoa</td>\n",
       "      <td>ASM</td>\n",
       "      <td>47818</td>\n",
       "      <td>58230</td>\n",
       "      <td>52995</td>\n",
       "      <td>52217</td>\n",
       "      <td>51368</td>\n",
       "      <td>50448</td>\n",
       "      <td>49463</td>\n",
       "      <td>48424</td>\n",
       "      <td>47321</td>\n",
       "      <td>46189</td>\n",
       "      <td>45035</td>\n",
       "      <td>44273</td>\n",
       "      <td>NaN</td>\n",
       "      <td>both</td>\n",
       "    </tr>\n",
       "    <tr>\n",
       "      <th>4</th>\n",
       "      <td>Population, total</td>\n",
       "      <td>SP.POP.TOTL</td>\n",
       "      <td>andorra</td>\n",
       "      <td>AND</td>\n",
       "      <td>53569</td>\n",
       "      <td>66097</td>\n",
       "      <td>71367</td>\n",
       "      <td>71621</td>\n",
       "      <td>71746</td>\n",
       "      <td>72540</td>\n",
       "      <td>73837</td>\n",
       "      <td>75013</td>\n",
       "      <td>76343</td>\n",
       "      <td>77700</td>\n",
       "      <td>79034</td>\n",
       "      <td>79824</td>\n",
       "      <td>andorra</td>\n",
       "      <td>both</td>\n",
       "    </tr>\n",
       "    <tr>\n",
       "      <th>5</th>\n",
       "      <td>Population, total</td>\n",
       "      <td>SP.POP.TOTL</td>\n",
       "      <td>angola</td>\n",
       "      <td>AGO</td>\n",
       "      <td>11828638</td>\n",
       "      <td>16394062</td>\n",
       "      <td>26147002</td>\n",
       "      <td>27128337</td>\n",
       "      <td>28127721</td>\n",
       "      <td>29154746</td>\n",
       "      <td>30208628</td>\n",
       "      <td>31273533</td>\n",
       "      <td>32353588</td>\n",
       "      <td>33428486</td>\n",
       "      <td>34503774</td>\n",
       "      <td>35588987</td>\n",
       "      <td>angola</td>\n",
       "      <td>both</td>\n",
       "    </tr>\n",
       "    <tr>\n",
       "      <th>6</th>\n",
       "      <td>Population, total</td>\n",
       "      <td>SP.POP.TOTL</td>\n",
       "      <td>antigua and barbuda</td>\n",
       "      <td>ATG</td>\n",
       "      <td>63328</td>\n",
       "      <td>75055</td>\n",
       "      <td>88497</td>\n",
       "      <td>89236</td>\n",
       "      <td>89941</td>\n",
       "      <td>90564</td>\n",
       "      <td>91119</td>\n",
       "      <td>91626</td>\n",
       "      <td>92117</td>\n",
       "      <td>92664</td>\n",
       "      <td>93219</td>\n",
       "      <td>93763</td>\n",
       "      <td>antigua and barbuda</td>\n",
       "      <td>both</td>\n",
       "    </tr>\n",
       "    <tr>\n",
       "      <th>7</th>\n",
       "      <td>Population, total</td>\n",
       "      <td>SP.POP.TOTL</td>\n",
       "      <td>argentina</td>\n",
       "      <td>ARG</td>\n",
       "      <td>32637657</td>\n",
       "      <td>37070774</td>\n",
       "      <td>42202935</td>\n",
       "      <td>42669500</td>\n",
       "      <td>43131966</td>\n",
       "      <td>43590368</td>\n",
       "      <td>44044811</td>\n",
       "      <td>44494502</td>\n",
       "      <td>44938712</td>\n",
       "      <td>45376763</td>\n",
       "      <td>45808747</td>\n",
       "      <td>46234830</td>\n",
       "      <td>argentina</td>\n",
       "      <td>both</td>\n",
       "    </tr>\n",
       "    <tr>\n",
       "      <th>8</th>\n",
       "      <td>Population, total</td>\n",
       "      <td>SP.POP.TOTL</td>\n",
       "      <td>armenia</td>\n",
       "      <td>ARM</td>\n",
       "      <td>3556539</td>\n",
       "      <td>3168523</td>\n",
       "      <td>2901385</td>\n",
       "      <td>2889930</td>\n",
       "      <td>2878595</td>\n",
       "      <td>2865835</td>\n",
       "      <td>2851923</td>\n",
       "      <td>2836557</td>\n",
       "      <td>2820602</td>\n",
       "      <td>2805608</td>\n",
       "      <td>2790974</td>\n",
       "      <td>2780469</td>\n",
       "      <td>armenia</td>\n",
       "      <td>both</td>\n",
       "    </tr>\n",
       "    <tr>\n",
       "      <th>9</th>\n",
       "      <td>Population, total</td>\n",
       "      <td>SP.POP.TOTL</td>\n",
       "      <td>aruba</td>\n",
       "      <td>ABW</td>\n",
       "      <td>65712</td>\n",
       "      <td>89101</td>\n",
       "      <td>102880</td>\n",
       "      <td>103594</td>\n",
       "      <td>104257</td>\n",
       "      <td>104874</td>\n",
       "      <td>105439</td>\n",
       "      <td>105962</td>\n",
       "      <td>106442</td>\n",
       "      <td>106585</td>\n",
       "      <td>106537</td>\n",
       "      <td>106445</td>\n",
       "      <td>aruba</td>\n",
       "      <td>both</td>\n",
       "    </tr>\n",
       "  </tbody>\n",
       "</table>\n",
       "</div>"
      ],
      "text/plain": [
       "         Series Name  Series Code              country Country Code  \\\n",
       "0  Population, total  SP.POP.TOTL          afghanistan          AFG   \n",
       "1  Population, total  SP.POP.TOTL              albania          ALB   \n",
       "2  Population, total  SP.POP.TOTL              algeria          DZA   \n",
       "3  Population, total  SP.POP.TOTL       american samoa          ASM   \n",
       "4  Population, total  SP.POP.TOTL              andorra          AND   \n",
       "5  Population, total  SP.POP.TOTL               angola          AGO   \n",
       "6  Population, total  SP.POP.TOTL  antigua and barbuda          ATG   \n",
       "7  Population, total  SP.POP.TOTL            argentina          ARG   \n",
       "8  Population, total  SP.POP.TOTL              armenia          ARM   \n",
       "9  Population, total  SP.POP.TOTL                aruba          ABW   \n",
       "\n",
       "  1990 [YR1990] 2000 [YR2000] 2013 [YR2013] 2014 [YR2014] 2015 [YR2015]  \\\n",
       "0      10694796      19542982      31541209      32716210      33753499   \n",
       "1       3286542       3089027       2895092       2889104       2880703   \n",
       "2      25518074      30774621      38000626      38760168      39543154   \n",
       "3         47818         58230         52995         52217         51368   \n",
       "4         53569         66097         71367         71621         71746   \n",
       "5      11828638      16394062      26147002      27128337      28127721   \n",
       "6         63328         75055         88497         89236         89941   \n",
       "7      32637657      37070774      42202935      42669500      43131966   \n",
       "8       3556539       3168523       2901385       2889930       2878595   \n",
       "9         65712         89101        102880        103594        104257   \n",
       "\n",
       "  2016 [YR2016] 2017 [YR2017] 2018 [YR2018] 2019 [YR2019] 2020 [YR2020]  \\\n",
       "0      34636207      35643418      36686784      37769499      38972230   \n",
       "1       2876101       2873457       2866376       2854191       2837849   \n",
       "2      40339329      41136546      41927007      42705368      43451666   \n",
       "3         50448         49463         48424         47321         46189   \n",
       "4         72540         73837         75013         76343         77700   \n",
       "5      29154746      30208628      31273533      32353588      33428486   \n",
       "6         90564         91119         91626         92117         92664   \n",
       "7      43590368      44044811      44494502      44938712      45376763   \n",
       "8       2865835       2851923       2836557       2820602       2805608   \n",
       "9        104874        105439        105962        106442        106585   \n",
       "\n",
       "  2021 [YR2021] 2022 [YR2022]         standardized _merge  \n",
       "0      40099462      41128771          afghanistan   both  \n",
       "1       2811666       2775634              albania   both  \n",
       "2      44177969      44903225              algeria   both  \n",
       "3         45035         44273                  NaN   both  \n",
       "4         79034         79824              andorra   both  \n",
       "5      34503774      35588987               angola   both  \n",
       "6         93219         93763  antigua and barbuda   both  \n",
       "7      45808747      46234830            argentina   both  \n",
       "8       2790974       2780469              armenia   both  \n",
       "9        106537        106445                aruba   both  "
      ]
     },
     "execution_count": 126,
     "metadata": {},
     "output_type": "execute_result"
    }
   ],
   "source": [
    "country_join_df3.head(10)"
   ]
  },
  {
   "cell_type": "code",
   "execution_count": 127,
   "metadata": {},
   "outputs": [
    {
     "data": {
      "text/html": [
       "<div>\n",
       "<style scoped>\n",
       "    .dataframe tbody tr th:only-of-type {\n",
       "        vertical-align: middle;\n",
       "    }\n",
       "\n",
       "    .dataframe tbody tr th {\n",
       "        vertical-align: top;\n",
       "    }\n",
       "\n",
       "    .dataframe thead th {\n",
       "        text-align: right;\n",
       "    }\n",
       "</style>\n",
       "<table border=\"1\" class=\"dataframe\">\n",
       "  <thead>\n",
       "    <tr style=\"text-align: right;\">\n",
       "      <th></th>\n",
       "      <th>standardized</th>\n",
       "      <th>2021 [YR2021]</th>\n",
       "      <th>DISORDER_TYPE</th>\n",
       "      <th>_merge</th>\n",
       "    </tr>\n",
       "  </thead>\n",
       "  <tbody>\n",
       "    <tr>\n",
       "      <th>0</th>\n",
       "      <td>afghanistan</td>\n",
       "      <td>40099462</td>\n",
       "      <td>Political violence</td>\n",
       "      <td>both</td>\n",
       "    </tr>\n",
       "    <tr>\n",
       "      <th>1</th>\n",
       "      <td>afghanistan</td>\n",
       "      <td>40099462</td>\n",
       "      <td>Political violence</td>\n",
       "      <td>both</td>\n",
       "    </tr>\n",
       "    <tr>\n",
       "      <th>2</th>\n",
       "      <td>afghanistan</td>\n",
       "      <td>40099462</td>\n",
       "      <td>Political violence</td>\n",
       "      <td>both</td>\n",
       "    </tr>\n",
       "    <tr>\n",
       "      <th>3</th>\n",
       "      <td>afghanistan</td>\n",
       "      <td>40099462</td>\n",
       "      <td>Political violence</td>\n",
       "      <td>both</td>\n",
       "    </tr>\n",
       "    <tr>\n",
       "      <th>4</th>\n",
       "      <td>afghanistan</td>\n",
       "      <td>40099462</td>\n",
       "      <td>Political violence</td>\n",
       "      <td>both</td>\n",
       "    </tr>\n",
       "    <tr>\n",
       "      <th>5</th>\n",
       "      <td>afghanistan</td>\n",
       "      <td>40099462</td>\n",
       "      <td>Political violence</td>\n",
       "      <td>both</td>\n",
       "    </tr>\n",
       "    <tr>\n",
       "      <th>6</th>\n",
       "      <td>afghanistan</td>\n",
       "      <td>40099462</td>\n",
       "      <td>Political violence</td>\n",
       "      <td>both</td>\n",
       "    </tr>\n",
       "    <tr>\n",
       "      <th>7</th>\n",
       "      <td>afghanistan</td>\n",
       "      <td>40099462</td>\n",
       "      <td>Strategic developments</td>\n",
       "      <td>both</td>\n",
       "    </tr>\n",
       "    <tr>\n",
       "      <th>8</th>\n",
       "      <td>afghanistan</td>\n",
       "      <td>40099462</td>\n",
       "      <td>Political violence</td>\n",
       "      <td>both</td>\n",
       "    </tr>\n",
       "    <tr>\n",
       "      <th>9</th>\n",
       "      <td>afghanistan</td>\n",
       "      <td>40099462</td>\n",
       "      <td>Demonstrations</td>\n",
       "      <td>both</td>\n",
       "    </tr>\n",
       "  </tbody>\n",
       "</table>\n",
       "</div>"
      ],
      "text/plain": [
       "  standardized 2021 [YR2021]           DISORDER_TYPE _merge\n",
       "0  afghanistan      40099462      Political violence   both\n",
       "1  afghanistan      40099462      Political violence   both\n",
       "2  afghanistan      40099462      Political violence   both\n",
       "3  afghanistan      40099462      Political violence   both\n",
       "4  afghanistan      40099462      Political violence   both\n",
       "5  afghanistan      40099462      Political violence   both\n",
       "6  afghanistan      40099462      Political violence   both\n",
       "7  afghanistan      40099462  Strategic developments   both\n",
       "8  afghanistan      40099462      Political violence   both\n",
       "9  afghanistan      40099462          Demonstrations   both"
      ]
     },
     "execution_count": 127,
     "metadata": {},
     "output_type": "execute_result"
    }
   ],
   "source": [
    "#are demonstrations disproportionately politically violent in some countries based on population?\n",
    "\n",
    "#create new data frame with country_join_df3 with columns standardized, 2021 [YR2021] AND country_join_df2 with columns standardized, DISORDER_TYPE\n",
    "pop_demo_df = country_join_df3[['standardized', '2021 [YR2021]']]\n",
    "pop_demo_df.head(10)\n",
    "#now add country_join_df2 with columns standardized, DISORDER_TYPE to pop_demo_df\n",
    "pop_demo_df = pd.merge(pop_demo_df, country_join_df2[['standardized', 'DISORDER_TYPE']], how=\"left\", on=[\"standardized\"],indicator=True)\n",
    "pop_demo_df.head(10)\n",
    "\n",
    "\n"
   ]
  },
  {
   "cell_type": "code",
   "execution_count": 128,
   "metadata": {},
   "outputs": [
    {
     "data": {
      "text/plain": [
       "array(['40099462', '2811666', '44177969', '45035', '79034', '34503774',\n",
       "       '93219', '45808747', '2790974', '106537', '25688079', '8955797',\n",
       "       '10137750', '407906', '1463265', '169356251', '281200', '9302585',\n",
       "       '11592952', '400031', '12996895', '63764', '777486', '12079472',\n",
       "       '3270943', '2588423', '214326223', '31122', '445373', '6877743',\n",
       "       '22100683', '12551213', '587925', '16589023', '27198628',\n",
       "       '38226498', '68136', '5457154', '17179740', '172683', '19493184',\n",
       "       '1412360000', '51516562', '821625', '95894118', '5835806',\n",
       "       '5153957', '27478249', '3879000', '11256372', '152369', '1244188',\n",
       "       '10505772', '5856733', '1105557', '72412', '11117873', '17797737',\n",
       "       '109262178', '6314167', '1634466', '3620312', '1330932', '1192271',\n",
       "       '120283026', '52889', '924610', '5541017', '67749632', '304032',\n",
       "       '2341179', '2639916', '3708610', '83196078', '32833031', '32669',\n",
       "       '10641221', '56653', '124610', '170534', '17109746', '13531906',\n",
       "       '2060721', '804567', '11447569', '10278345', '7413100', '9709891',\n",
       "       '372520', '1407563842', '273753191', '87923432', '43533592',\n",
       "       '5033165', '84263', '9364700', '59109668', '2827695', '125681593',\n",
       "       '11148278', '19000988', '53005614', '128874', '25971909',\n",
       "       '51744876', '1786038', '4250114', '6691800', '7425057', '1884490',\n",
       "       '5592631', '2281454', '5193416', '6735277', '39039', '2800839',\n",
       "       '640064', '686607', '28915653', '19889742', '33573874', '521457',\n",
       "       '21904983', '518536', '42050', '4614974', '1266334', '126705138',\n",
       "       '113131', '2615199', '36686', '3347782', '619211', '37076584',\n",
       "       '32077072', '53798084', '2530151', '12511', '30034989', '17533044',\n",
       "       '274660', '5111400', '6850540', '25252722', '213401323', '2065092',\n",
       "       '49481', '5408320', '4520471', '231402117', '18024', '4351267',\n",
       "       '9949437', '6703799', '33715471', '113880328', '37747124',\n",
       "       '10325147', '3262693', '2688235', '19119880', '143449286',\n",
       "       '13461888', '218764', '33745', '223107', '35950396', '16876720',\n",
       "       '6834326', '99258', '8420641', '5453566', '42846', '5447247',\n",
       "       '2108079', '707851', '17065581', '59392255', '10748272',\n",
       "       '47415750', '22156000', '47606', '179651', '31948', '104332',\n",
       "       '45657202', '612985', '10415811', '8703405', '21324367', '9750064',\n",
       "       '63588334', '71601103', '1320942', '8644829', '106017', '1525663',\n",
       "       '12262946', '84775404', '6341855', '45114', '11204', '45853778',\n",
       "       '43792855', '9365145', '67026300', '332031554', '3426260',\n",
       "       '34915100', '319137', '28199867', '97468029', '105870', '4922749',\n",
       "       '32981641', '19473125', '15993524', '702977106', '478185907',\n",
       "       '456520777', '7481877', '101410997', '3411889759', '2370196777',\n",
       "       '2123628421', '2097669023', '343067846', '923419216', '401537489',\n",
       "       '462283493', '447179800', '1001462452', '861156745', '1241269526',\n",
       "       '4895306842', '6695340280', '595016031', '1205017407',\n",
       "       '1800033438', '2321865172', '654980808', '592503434', '639188695',\n",
       "       '1099568566', '6618691904', '685250041', '3157350729', '486168063',\n",
       "       '418047201', '413124452', '5933441863', '370321816', '..',\n",
       "       '1372543943', '32708277', '2602173', '1116545246', '1011043183',\n",
       "       '42792327', '1901911604', '1181163013', '1181063755', '2776091134',\n",
       "       '7888161297', nan], dtype=object)"
      ]
     },
     "execution_count": 128,
     "metadata": {},
     "output_type": "execute_result"
    }
   ],
   "source": [
    "pop_demo_df[\"2021 [YR2021]\"].unique()"
   ]
  },
  {
   "cell_type": "code",
   "execution_count": 129,
   "metadata": {},
   "outputs": [],
   "source": [
    "pop_demo_df.reset_index(inplace = True)"
   ]
  },
  {
   "cell_type": "code",
   "execution_count": 130,
   "metadata": {},
   "outputs": [
    {
     "data": {
      "text/html": [
       "<div>\n",
       "<style scoped>\n",
       "    .dataframe tbody tr th:only-of-type {\n",
       "        vertical-align: middle;\n",
       "    }\n",
       "\n",
       "    .dataframe tbody tr th {\n",
       "        vertical-align: top;\n",
       "    }\n",
       "\n",
       "    .dataframe thead th {\n",
       "        text-align: right;\n",
       "    }\n",
       "</style>\n",
       "<table border=\"1\" class=\"dataframe\">\n",
       "  <thead>\n",
       "    <tr style=\"text-align: right;\">\n",
       "      <th></th>\n",
       "      <th>index</th>\n",
       "      <th>standardized</th>\n",
       "      <th>2021 [YR2021]</th>\n",
       "      <th>DISORDER_TYPE</th>\n",
       "      <th>_merge</th>\n",
       "    </tr>\n",
       "  </thead>\n",
       "  <tbody>\n",
       "    <tr>\n",
       "      <th>0</th>\n",
       "      <td>0</td>\n",
       "      <td>afghanistan</td>\n",
       "      <td>40099462</td>\n",
       "      <td>Political violence</td>\n",
       "      <td>both</td>\n",
       "    </tr>\n",
       "    <tr>\n",
       "      <th>1</th>\n",
       "      <td>1</td>\n",
       "      <td>afghanistan</td>\n",
       "      <td>40099462</td>\n",
       "      <td>Political violence</td>\n",
       "      <td>both</td>\n",
       "    </tr>\n",
       "    <tr>\n",
       "      <th>2</th>\n",
       "      <td>2</td>\n",
       "      <td>afghanistan</td>\n",
       "      <td>40099462</td>\n",
       "      <td>Political violence</td>\n",
       "      <td>both</td>\n",
       "    </tr>\n",
       "    <tr>\n",
       "      <th>3</th>\n",
       "      <td>3</td>\n",
       "      <td>afghanistan</td>\n",
       "      <td>40099462</td>\n",
       "      <td>Political violence</td>\n",
       "      <td>both</td>\n",
       "    </tr>\n",
       "    <tr>\n",
       "      <th>4</th>\n",
       "      <td>4</td>\n",
       "      <td>afghanistan</td>\n",
       "      <td>40099462</td>\n",
       "      <td>Political violence</td>\n",
       "      <td>both</td>\n",
       "    </tr>\n",
       "    <tr>\n",
       "      <th>5</th>\n",
       "      <td>5</td>\n",
       "      <td>afghanistan</td>\n",
       "      <td>40099462</td>\n",
       "      <td>Political violence</td>\n",
       "      <td>both</td>\n",
       "    </tr>\n",
       "    <tr>\n",
       "      <th>6</th>\n",
       "      <td>6</td>\n",
       "      <td>afghanistan</td>\n",
       "      <td>40099462</td>\n",
       "      <td>Political violence</td>\n",
       "      <td>both</td>\n",
       "    </tr>\n",
       "    <tr>\n",
       "      <th>7</th>\n",
       "      <td>7</td>\n",
       "      <td>afghanistan</td>\n",
       "      <td>40099462</td>\n",
       "      <td>Strategic developments</td>\n",
       "      <td>both</td>\n",
       "    </tr>\n",
       "    <tr>\n",
       "      <th>8</th>\n",
       "      <td>8</td>\n",
       "      <td>afghanistan</td>\n",
       "      <td>40099462</td>\n",
       "      <td>Political violence</td>\n",
       "      <td>both</td>\n",
       "    </tr>\n",
       "    <tr>\n",
       "      <th>9</th>\n",
       "      <td>9</td>\n",
       "      <td>afghanistan</td>\n",
       "      <td>40099462</td>\n",
       "      <td>Demonstrations</td>\n",
       "      <td>both</td>\n",
       "    </tr>\n",
       "  </tbody>\n",
       "</table>\n",
       "</div>"
      ],
      "text/plain": [
       "   index standardized 2021 [YR2021]           DISORDER_TYPE _merge\n",
       "0      0  afghanistan      40099462      Political violence   both\n",
       "1      1  afghanistan      40099462      Political violence   both\n",
       "2      2  afghanistan      40099462      Political violence   both\n",
       "3      3  afghanistan      40099462      Political violence   both\n",
       "4      4  afghanistan      40099462      Political violence   both\n",
       "5      5  afghanistan      40099462      Political violence   both\n",
       "6      6  afghanistan      40099462      Political violence   both\n",
       "7      7  afghanistan      40099462  Strategic developments   both\n",
       "8      8  afghanistan      40099462      Political violence   both\n",
       "9      9  afghanistan      40099462          Demonstrations   both"
      ]
     },
     "execution_count": 130,
     "metadata": {},
     "output_type": "execute_result"
    }
   ],
   "source": [
    "pop_demo_df.head(10)"
   ]
  },
  {
   "cell_type": "code",
   "execution_count": 131,
   "metadata": {},
   "outputs": [
    {
     "data": {
      "text/plain": [
       "index               int64\n",
       "standardized       object\n",
       "2021 [YR2021]      object\n",
       "DISORDER_TYPE      object\n",
       "_merge           category\n",
       "dtype: object"
      ]
     },
     "execution_count": 131,
     "metadata": {},
     "output_type": "execute_result"
    }
   ],
   "source": [
    "pop_demo_df.dtypes"
   ]
  },
  {
   "cell_type": "code",
   "execution_count": 132,
   "metadata": {},
   "outputs": [],
   "source": [
    "#convert 2021 [YR2021] to numeric using .loc\n",
    "pop_demo_df.loc[:,'2021 [YR2021]'] = pd.to_numeric(pop_demo_df['2021 [YR2021]'], errors = 'coerce').copy()"
   ]
  },
  {
   "cell_type": "code",
   "execution_count": 133,
   "metadata": {},
   "outputs": [],
   "source": [
    "#cast 2021 [YR2021] as float\n",
    "pop_demo_df['2021 [YR2021]'] = pop_demo_df['2021 [YR2021]'].astype(float, errors = 'ignore')"
   ]
  },
  {
   "cell_type": "code",
   "execution_count": 134,
   "metadata": {},
   "outputs": [],
   "source": [
    "#drop null values in 2021 [YR2021]\n",
    "pop_demo_df = pop_demo_df.dropna(subset=['2021 [YR2021]'])\n"
   ]
  },
  {
   "cell_type": "code",
   "execution_count": 135,
   "metadata": {},
   "outputs": [
    {
     "data": {
      "text/plain": [
       "index               int64\n",
       "standardized       object\n",
       "2021 [YR2021]     float64\n",
       "DISORDER_TYPE      object\n",
       "_merge           category\n",
       "dtype: object"
      ]
     },
     "execution_count": 135,
     "metadata": {},
     "output_type": "execute_result"
    }
   ],
   "source": [
    "pop_demo_df.dtypes"
   ]
  },
  {
   "cell_type": "code",
   "execution_count": 136,
   "metadata": {},
   "outputs": [
    {
     "data": {
      "text/html": [
       "<div>\n",
       "<style scoped>\n",
       "    .dataframe tbody tr th:only-of-type {\n",
       "        vertical-align: middle;\n",
       "    }\n",
       "\n",
       "    .dataframe tbody tr th {\n",
       "        vertical-align: top;\n",
       "    }\n",
       "\n",
       "    .dataframe thead th {\n",
       "        text-align: right;\n",
       "    }\n",
       "</style>\n",
       "<table border=\"1\" class=\"dataframe\">\n",
       "  <thead>\n",
       "    <tr style=\"text-align: right;\">\n",
       "      <th></th>\n",
       "      <th></th>\n",
       "      <th>2021 [YR2021]</th>\n",
       "      <th>DISORDER_TYPE</th>\n",
       "    </tr>\n",
       "    <tr>\n",
       "      <th>standardized</th>\n",
       "      <th>DISORDER_TYPE</th>\n",
       "      <th></th>\n",
       "      <th></th>\n",
       "    </tr>\n",
       "  </thead>\n",
       "  <tbody>\n",
       "    <tr>\n",
       "      <th rowspan=\"4\" valign=\"top\">afghanistan</th>\n",
       "      <th>Demonstrations</th>\n",
       "      <td>40099462.0</td>\n",
       "      <td>243</td>\n",
       "    </tr>\n",
       "    <tr>\n",
       "      <th>Political violence</th>\n",
       "      <td>40099462.0</td>\n",
       "      <td>219</td>\n",
       "    </tr>\n",
       "    <tr>\n",
       "      <th>Political violence; Demonstrations</th>\n",
       "      <td>40099462.0</td>\n",
       "      <td>4</td>\n",
       "    </tr>\n",
       "    <tr>\n",
       "      <th>Strategic developments</th>\n",
       "      <td>40099462.0</td>\n",
       "      <td>38</td>\n",
       "    </tr>\n",
       "    <tr>\n",
       "      <th rowspan=\"2\" valign=\"top\">albania</th>\n",
       "      <th>Demonstrations</th>\n",
       "      <td>2811666.0</td>\n",
       "      <td>32</td>\n",
       "    </tr>\n",
       "    <tr>\n",
       "      <th>Political violence</th>\n",
       "      <td>2811666.0</td>\n",
       "      <td>1</td>\n",
       "    </tr>\n",
       "    <tr>\n",
       "      <th rowspan=\"3\" valign=\"top\">algeria</th>\n",
       "      <th>Demonstrations</th>\n",
       "      <td>44177969.0</td>\n",
       "      <td>56</td>\n",
       "    </tr>\n",
       "    <tr>\n",
       "      <th>Political violence</th>\n",
       "      <td>44177969.0</td>\n",
       "      <td>13</td>\n",
       "    </tr>\n",
       "    <tr>\n",
       "      <th>Political violence; Demonstrations</th>\n",
       "      <td>44177969.0</td>\n",
       "      <td>1</td>\n",
       "    </tr>\n",
       "    <tr>\n",
       "      <th>andorra</th>\n",
       "      <th>Demonstrations</th>\n",
       "      <td>79034.0</td>\n",
       "      <td>4</td>\n",
       "    </tr>\n",
       "  </tbody>\n",
       "</table>\n",
       "</div>"
      ],
      "text/plain": [
       "                                                 2021 [YR2021]  DISORDER_TYPE\n",
       "standardized DISORDER_TYPE                                                   \n",
       "afghanistan  Demonstrations                         40099462.0            243\n",
       "             Political violence                     40099462.0            219\n",
       "             Political violence; Demonstrations     40099462.0              4\n",
       "             Strategic developments                 40099462.0             38\n",
       "albania      Demonstrations                          2811666.0             32\n",
       "             Political violence                      2811666.0              1\n",
       "algeria      Demonstrations                         44177969.0             56\n",
       "             Political violence                     44177969.0             13\n",
       "             Political violence; Demonstrations     44177969.0              1\n",
       "andorra      Demonstrations                            79034.0              4"
      ]
     },
     "execution_count": 136,
     "metadata": {},
     "output_type": "execute_result"
    }
   ],
   "source": [
    "#use groupby to get the sum of the population and the count of the demonstrations by country\n",
    "pop_demo_df = pop_demo_df.groupby(['standardized', 'DISORDER_TYPE']).agg({'2021 [YR2021]': 'mean', 'DISORDER_TYPE': 'count'})\n",
    "\n",
    "# pop_groupby_df = pop_demo_df.groupby(['standardized', 'DISORDER_TYPE']).sum()\n",
    "pop_demo_df.head(10)\n"
   ]
  },
  {
   "cell_type": "code",
   "execution_count": 137,
   "metadata": {},
   "outputs": [
    {
     "data": {
      "text/html": [
       "<div>\n",
       "<style scoped>\n",
       "    .dataframe tbody tr th:only-of-type {\n",
       "        vertical-align: middle;\n",
       "    }\n",
       "\n",
       "    .dataframe tbody tr th {\n",
       "        vertical-align: top;\n",
       "    }\n",
       "\n",
       "    .dataframe thead th {\n",
       "        text-align: right;\n",
       "    }\n",
       "</style>\n",
       "<table border=\"1\" class=\"dataframe\">\n",
       "  <thead>\n",
       "    <tr style=\"text-align: right;\">\n",
       "      <th></th>\n",
       "      <th></th>\n",
       "      <th>2021 [YR2021]</th>\n",
       "      <th>DISORDER_TYPE</th>\n",
       "      <th>ratio</th>\n",
       "    </tr>\n",
       "    <tr>\n",
       "      <th>standardized</th>\n",
       "      <th>DISORDER_TYPE</th>\n",
       "      <th></th>\n",
       "      <th></th>\n",
       "      <th></th>\n",
       "    </tr>\n",
       "  </thead>\n",
       "  <tbody>\n",
       "    <tr>\n",
       "      <th rowspan=\"4\" valign=\"top\">afghanistan</th>\n",
       "      <th>Demonstrations</th>\n",
       "      <td>40099462.0</td>\n",
       "      <td>243</td>\n",
       "      <td>1.650184e+05</td>\n",
       "    </tr>\n",
       "    <tr>\n",
       "      <th>Political violence</th>\n",
       "      <td>40099462.0</td>\n",
       "      <td>219</td>\n",
       "      <td>1.831026e+05</td>\n",
       "    </tr>\n",
       "    <tr>\n",
       "      <th>Political violence; Demonstrations</th>\n",
       "      <td>40099462.0</td>\n",
       "      <td>4</td>\n",
       "      <td>1.002487e+07</td>\n",
       "    </tr>\n",
       "    <tr>\n",
       "      <th>Strategic developments</th>\n",
       "      <td>40099462.0</td>\n",
       "      <td>38</td>\n",
       "      <td>1.055249e+06</td>\n",
       "    </tr>\n",
       "    <tr>\n",
       "      <th rowspan=\"2\" valign=\"top\">albania</th>\n",
       "      <th>Demonstrations</th>\n",
       "      <td>2811666.0</td>\n",
       "      <td>32</td>\n",
       "      <td>8.786456e+04</td>\n",
       "    </tr>\n",
       "    <tr>\n",
       "      <th>Political violence</th>\n",
       "      <td>2811666.0</td>\n",
       "      <td>1</td>\n",
       "      <td>2.811666e+06</td>\n",
       "    </tr>\n",
       "    <tr>\n",
       "      <th rowspan=\"3\" valign=\"top\">algeria</th>\n",
       "      <th>Demonstrations</th>\n",
       "      <td>44177969.0</td>\n",
       "      <td>56</td>\n",
       "      <td>7.888923e+05</td>\n",
       "    </tr>\n",
       "    <tr>\n",
       "      <th>Political violence</th>\n",
       "      <td>44177969.0</td>\n",
       "      <td>13</td>\n",
       "      <td>3.398305e+06</td>\n",
       "    </tr>\n",
       "    <tr>\n",
       "      <th>Political violence; Demonstrations</th>\n",
       "      <td>44177969.0</td>\n",
       "      <td>1</td>\n",
       "      <td>4.417797e+07</td>\n",
       "    </tr>\n",
       "    <tr>\n",
       "      <th>andorra</th>\n",
       "      <th>Demonstrations</th>\n",
       "      <td>79034.0</td>\n",
       "      <td>4</td>\n",
       "      <td>1.975850e+04</td>\n",
       "    </tr>\n",
       "  </tbody>\n",
       "</table>\n",
       "</div>"
      ],
      "text/plain": [
       "                                                 2021 [YR2021]  DISORDER_TYPE  \\\n",
       "standardized DISORDER_TYPE                                                      \n",
       "afghanistan  Demonstrations                         40099462.0            243   \n",
       "             Political violence                     40099462.0            219   \n",
       "             Political violence; Demonstrations     40099462.0              4   \n",
       "             Strategic developments                 40099462.0             38   \n",
       "albania      Demonstrations                          2811666.0             32   \n",
       "             Political violence                      2811666.0              1   \n",
       "algeria      Demonstrations                         44177969.0             56   \n",
       "             Political violence                     44177969.0             13   \n",
       "             Political violence; Demonstrations     44177969.0              1   \n",
       "andorra      Demonstrations                            79034.0              4   \n",
       "\n",
       "                                                        ratio  \n",
       "standardized DISORDER_TYPE                                     \n",
       "afghanistan  Demonstrations                      1.650184e+05  \n",
       "             Political violence                  1.831026e+05  \n",
       "             Political violence; Demonstrations  1.002487e+07  \n",
       "             Strategic developments              1.055249e+06  \n",
       "albania      Demonstrations                      8.786456e+04  \n",
       "             Political violence                  2.811666e+06  \n",
       "algeria      Demonstrations                      7.888923e+05  \n",
       "             Political violence                  3.398305e+06  \n",
       "             Political violence; Demonstrations  4.417797e+07  \n",
       "andorra      Demonstrations                      1.975850e+04  "
      ]
     },
     "execution_count": 137,
     "metadata": {},
     "output_type": "execute_result"
    }
   ],
   "source": [
    "#add new column to pop_demo_df that is the ratio of the population to the number of demonstrations\n",
    "pop_demo_df['ratio'] = pop_demo_df['2021 [YR2021]']/pop_demo_df['DISORDER_TYPE']\n",
    "pop_demo_df.head(10)"
   ]
  },
  {
   "cell_type": "code",
   "execution_count": 138,
   "metadata": {},
   "outputs": [
    {
     "data": {
      "text/html": [
       "<div>\n",
       "<style scoped>\n",
       "    .dataframe tbody tr th:only-of-type {\n",
       "        vertical-align: middle;\n",
       "    }\n",
       "\n",
       "    .dataframe tbody tr th {\n",
       "        vertical-align: top;\n",
       "    }\n",
       "\n",
       "    .dataframe thead th {\n",
       "        text-align: right;\n",
       "    }\n",
       "</style>\n",
       "<table border=\"1\" class=\"dataframe\">\n",
       "  <thead>\n",
       "    <tr style=\"text-align: right;\">\n",
       "      <th></th>\n",
       "      <th></th>\n",
       "      <th>2021 [YR2021]</th>\n",
       "      <th>DISORDER_TYPE</th>\n",
       "      <th>ratio</th>\n",
       "    </tr>\n",
       "    <tr>\n",
       "      <th>standardized</th>\n",
       "      <th>DISORDER_TYPE</th>\n",
       "      <th></th>\n",
       "      <th></th>\n",
       "      <th></th>\n",
       "    </tr>\n",
       "  </thead>\n",
       "  <tbody>\n",
       "    <tr>\n",
       "      <th>pakistan</th>\n",
       "      <th>Political violence; Demonstrations</th>\n",
       "      <td>2.314021e+08</td>\n",
       "      <td>1</td>\n",
       "      <td>2.314021e+08</td>\n",
       "    </tr>\n",
       "    <tr>\n",
       "      <th>brazil</th>\n",
       "      <th>Political violence; Demonstrations</th>\n",
       "      <td>2.143262e+08</td>\n",
       "      <td>1</td>\n",
       "      <td>2.143262e+08</td>\n",
       "    </tr>\n",
       "    <tr>\n",
       "      <th rowspan=\"2\" valign=\"top\">india</th>\n",
       "      <th>Strategic developments</th>\n",
       "      <td>1.407564e+09</td>\n",
       "      <td>7</td>\n",
       "      <td>2.010805e+08</td>\n",
       "    </tr>\n",
       "    <tr>\n",
       "      <th>Political violence; Demonstrations</th>\n",
       "      <td>1.407564e+09</td>\n",
       "      <td>10</td>\n",
       "      <td>1.407564e+08</td>\n",
       "    </tr>\n",
       "    <tr>\n",
       "      <th>china</th>\n",
       "      <th>Strategic developments</th>\n",
       "      <td>1.412360e+09</td>\n",
       "      <td>14</td>\n",
       "      <td>1.008829e+08</td>\n",
       "    </tr>\n",
       "    <tr>\n",
       "      <th>...</th>\n",
       "      <th>...</th>\n",
       "      <td>...</td>\n",
       "      <td>...</td>\n",
       "      <td>...</td>\n",
       "    </tr>\n",
       "    <tr>\n",
       "      <th rowspan=\"2\" valign=\"top\">saint martin</th>\n",
       "      <th>Demonstrations</th>\n",
       "      <td>3.739700e+04</td>\n",
       "      <td>2</td>\n",
       "      <td>1.869850e+04</td>\n",
       "    </tr>\n",
       "    <tr>\n",
       "      <th>Political violence</th>\n",
       "      <td>3.739700e+04</td>\n",
       "      <td>2</td>\n",
       "      <td>1.869850e+04</td>\n",
       "    </tr>\n",
       "    <tr>\n",
       "      <th>sweden</th>\n",
       "      <th>Demonstrations</th>\n",
       "      <td>1.041581e+07</td>\n",
       "      <td>587</td>\n",
       "      <td>1.774414e+04</td>\n",
       "    </tr>\n",
       "    <tr>\n",
       "      <th>cyprus</th>\n",
       "      <th>Demonstrations</th>\n",
       "      <td>1.244188e+06</td>\n",
       "      <td>75</td>\n",
       "      <td>1.658917e+04</td>\n",
       "    </tr>\n",
       "    <tr>\n",
       "      <th>belize</th>\n",
       "      <th>Political violence</th>\n",
       "      <td>4.000310e+05</td>\n",
       "      <td>32</td>\n",
       "      <td>1.250097e+04</td>\n",
       "    </tr>\n",
       "  </tbody>\n",
       "</table>\n",
       "<p>426 rows × 3 columns</p>\n",
       "</div>"
      ],
      "text/plain": [
       "                                                 2021 [YR2021]  DISORDER_TYPE  \\\n",
       "standardized DISORDER_TYPE                                                      \n",
       "pakistan     Political violence; Demonstrations   2.314021e+08              1   \n",
       "brazil       Political violence; Demonstrations   2.143262e+08              1   \n",
       "india        Strategic developments               1.407564e+09              7   \n",
       "             Political violence; Demonstrations   1.407564e+09             10   \n",
       "china        Strategic developments               1.412360e+09             14   \n",
       "...                                                        ...            ...   \n",
       "saint martin Demonstrations                       3.739700e+04              2   \n",
       "             Political violence                   3.739700e+04              2   \n",
       "sweden       Demonstrations                       1.041581e+07            587   \n",
       "cyprus       Demonstrations                       1.244188e+06             75   \n",
       "belize       Political violence                   4.000310e+05             32   \n",
       "\n",
       "                                                        ratio  \n",
       "standardized DISORDER_TYPE                                     \n",
       "pakistan     Political violence; Demonstrations  2.314021e+08  \n",
       "brazil       Political violence; Demonstrations  2.143262e+08  \n",
       "india        Strategic developments              2.010805e+08  \n",
       "             Political violence; Demonstrations  1.407564e+08  \n",
       "china        Strategic developments              1.008829e+08  \n",
       "...                                                       ...  \n",
       "saint martin Demonstrations                      1.869850e+04  \n",
       "             Political violence                  1.869850e+04  \n",
       "sweden       Demonstrations                      1.774414e+04  \n",
       "cyprus       Demonstrations                      1.658917e+04  \n",
       "belize       Political violence                  1.250097e+04  \n",
       "\n",
       "[426 rows x 3 columns]"
      ]
     },
     "execution_count": 138,
     "metadata": {},
     "output_type": "execute_result"
    }
   ],
   "source": [
    "pop_demo_df.sort_values(by = 'ratio', ascending=False)"
   ]
  },
  {
   "cell_type": "code",
   "execution_count": 140,
   "metadata": {},
   "outputs": [
    {
     "data": {
      "text/plain": [
       "<AxesSubplot:ylabel='standardized,DISORDER_TYPE'>"
      ]
     },
     "execution_count": 140,
     "metadata": {},
     "output_type": "execute_result"
    },
    {
     "data": {
      "image/png": "[encoded data removed]",
      "text/plain": [
       "<Figure size 640x480 with 1 Axes>"
      ]
     },
     "metadata": {},
     "output_type": "display_data"
    }
   ],
   "source": [
    "#visualizing the ratio of population to demonstrations by top 10 country\n",
    "pop_demo_df.sort_values(by = 'ratio', ascending=False).head(10).plot(kind = 'barh')"
   ]
  },
  {
   "cell_type": "code",
   "execution_count": null,
   "metadata": {},
   "outputs": [],
   "source": [
    "#freedom house data to show how poliitically free the countries above are\n",
    "\n"
   ]
  },
  {
   "cell_type": "code",
   "execution_count": null,
   "metadata": {},
   "outputs": [],
   "source": [
    "# use wb_income_data to show economic equality of above countries"
   ]
  },
  {
   "cell_type": "code",
   "execution_count": null,
   "metadata": {},
   "outputs": [],
   "source": [
    "#pull out event blurb for each country shown above \n",
    "#look into creative commons license images for each country shown above"
   ]
  },
  {
   "cell_type": "code",
   "execution_count": null,
   "metadata": {},
   "outputs": [],
   "source": [
    "#work toward medium article and a google collab notebook that would be linked in the article"
   ]
  },
  {
   "cell_type": "code",
   "execution_count": null,
   "metadata": {},
   "outputs": [],
   "source": [
    "#Geopandas to show where the demonstrations are happening in the world\n",
    "\n",
    "#go into excel and do country codes to set up data to be mapped\n",
    "#https://geopandas.org/en/stable/docs/user_guide/interactive_mapping.html"
   ]
  },
  {
   "cell_type": "code",
   "execution_count": 142,
   "metadata": {},
   "outputs": [
    {
     "data": {
      "application/vnd.plotly.v1+json": {
       "config": {
        "plotlyServerURL": "https://plot.ly"
       },
       "data": [
        {
         "coloraxis": "coloraxis",
         "customdata": [
          [
           "Demonstrations"
          ],
          [
           "Political violence"
          ],
          [
           "Political violence; Demonstrations"
          ],
          [
           "Strategic developments"
          ],
          [
           "Demonstrations"
          ],
          [
           "Political violence"
          ],
          [
           "Demonstrations"
          ],
          [
           "Political violence"
          ],
          [
           "Political violence; Demonstrations"
          ],
          [
           "Demonstrations"
          ],
          [
           "Demonstrations"
          ],
          [
           "Political violence"
          ],
          [
           "Demonstrations"
          ],
          [
           "Demonstrations"
          ],
          [
           "Political violence"
          ],
          [
           "Political violence; Demonstrations"
          ],
          [
           "Strategic developments"
          ],
          [
           "Demonstrations"
          ],
          [
           "Political violence"
          ],
          [
           "Demonstrations"
          ],
          [
           "Demonstrations"
          ],
          [
           "Political violence"
          ],
          [
           "Demonstrations"
          ],
          [
           "Political violence"
          ],
          [
           "Demonstrations"
          ],
          [
           "Political violence"
          ],
          [
           "Strategic developments"
          ],
          [
           "Demonstrations"
          ],
          [
           "Political violence"
          ],
          [
           "Political violence; Demonstrations"
          ],
          [
           "Strategic developments"
          ],
          [
           "Demonstrations"
          ],
          [
           "Demonstrations"
          ],
          [
           "Political violence"
          ],
          [
           "Demonstrations"
          ],
          [
           "Demonstrations"
          ],
          [
           "Political violence"
          ],
          [
           "Strategic developments"
          ],
          [
           "Demonstrations"
          ],
          [
           "Political violence"
          ],
          [
           "Demonstrations"
          ],
          [
           "Political violence"
          ],
          [
           "Strategic developments"
          ],
          [
           "Demonstrations"
          ],
          [
           "Political violence"
          ],
          [
           "Strategic developments"
          ],
          [
           "Demonstrations"
          ],
          [
           "Demonstrations"
          ],
          [
           "Political violence"
          ],
          [
           "Political violence; Demonstrations"
          ],
          [
           "Strategic developments"
          ],
          [
           "Demonstrations"
          ],
          [
           "Political violence"
          ],
          [
           "Demonstrations"
          ],
          [
           "Political violence"
          ],
          [
           "Strategic developments"
          ],
          [
           "Demonstrations"
          ],
          [
           "Political violence"
          ],
          [
           "Strategic developments"
          ],
          [
           "Demonstrations"
          ],
          [
           "Political violence"
          ],
          [
           "Political violence; Demonstrations"
          ],
          [
           "Demonstrations"
          ],
          [
           "Political violence"
          ],
          [
           "Political violence; Demonstrations"
          ],
          [
           "Strategic developments"
          ],
          [
           "Demonstrations"
          ],
          [
           "Political violence"
          ],
          [
           "Demonstrations"
          ],
          [
           "Political violence"
          ],
          [
           "Political violence; Demonstrations"
          ],
          [
           "Demonstrations"
          ],
          [
           "Political violence"
          ],
          [
           "Political violence; Demonstrations"
          ],
          [
           "Strategic developments"
          ],
          [
           "Demonstrations"
          ],
          [
           "Political violence"
          ],
          [
           "Strategic developments"
          ],
          [
           "Demonstrations"
          ],
          [
           "Political violence"
          ],
          [
           "Strategic developments"
          ],
          [
           "Demonstrations"
          ],
          [
           "Political violence"
          ],
          [
           "Demonstrations"
          ],
          [
           "Political violence"
          ],
          [
           "Demonstrations"
          ],
          [
           "Political violence"
          ],
          [
           "Political violence; Demonstrations"
          ],
          [
           "Demonstrations"
          ],
          [
           "Political violence"
          ],
          [
           "Demonstrations"
          ],
          [
           "Political violence"
          ],
          [
           "Strategic developments"
          ],
          [
           "Demonstrations"
          ],
          [
           "Demonstrations"
          ],
          [
           "Political violence"
          ],
          [
           "Demonstrations"
          ],
          [
           "Demonstrations"
          ],
          [
           "Political violence"
          ],
          [
           "Political violence; Demonstrations"
          ],
          [
           "Strategic developments"
          ],
          [
           "Demonstrations"
          ],
          [
           "Demonstrations"
          ],
          [
           "Demonstrations"
          ],
          [
           "Political violence"
          ],
          [
           "Political violence; Demonstrations"
          ],
          [
           "Demonstrations"
          ],
          [
           "Political violence"
          ],
          [
           "Strategic developments"
          ],
          [
           "Demonstrations"
          ],
          [
           "Political violence"
          ],
          [
           "Political violence; Demonstrations"
          ],
          [
           "Strategic developments"
          ],
          [
           "Demonstrations"
          ],
          [
           "Political violence"
          ],
          [
           "Strategic developments"
          ],
          [
           "Demonstrations"
          ],
          [
           "Political violence"
          ],
          [
           "Demonstrations"
          ],
          [
           "Political violence"
          ],
          [
           "Demonstrations"
          ],
          [
           "Demonstrations"
          ],
          [
           "Political violence"
          ],
          [
           "Political violence; Demonstrations"
          ],
          [
           "Demonstrations"
          ],
          [
           "Political violence"
          ],
          [
           "Strategic developments"
          ],
          [
           "Demonstrations"
          ],
          [
           "Demonstrations"
          ],
          [
           "Political violence"
          ],
          [
           "Demonstrations"
          ],
          [
           "Political violence"
          ],
          [
           "Strategic developments"
          ],
          [
           "Demonstrations"
          ],
          [
           "Demonstrations"
          ],
          [
           "Political violence"
          ],
          [
           "Demonstrations"
          ],
          [
           "Political violence"
          ],
          [
           "Demonstrations"
          ],
          [
           "Political violence"
          ],
          [
           "Demonstrations"
          ],
          [
           "Political violence"
          ],
          [
           "Strategic developments"
          ],
          [
           "Demonstrations"
          ],
          [
           "Political violence"
          ],
          [
           "Political violence; Demonstrations"
          ],
          [
           "Strategic developments"
          ],
          [
           "Demonstrations"
          ],
          [
           "Political violence"
          ],
          [
           "Strategic developments"
          ],
          [
           "Demonstrations"
          ],
          [
           "Demonstrations"
          ],
          [
           "Political violence"
          ],
          [
           "Strategic developments"
          ],
          [
           "Demonstrations"
          ],
          [
           "Political violence"
          ],
          [
           "Political violence; Demonstrations"
          ],
          [
           "Demonstrations"
          ],
          [
           "Political violence"
          ],
          [
           "Demonstrations"
          ],
          [
           "Political violence"
          ],
          [
           "Demonstrations"
          ],
          [
           "Political violence"
          ],
          [
           "Demonstrations"
          ],
          [
           "Political violence"
          ],
          [
           "Strategic developments"
          ],
          [
           "Demonstrations"
          ],
          [
           "Political violence"
          ],
          [
           "Demonstrations"
          ],
          [
           "Political violence"
          ],
          [
           "Demonstrations"
          ],
          [
           "Political violence"
          ],
          [
           "Political violence; Demonstrations"
          ],
          [
           "Strategic developments"
          ],
          [
           "Demonstrations"
          ],
          [
           "Political violence"
          ],
          [
           "Strategic developments"
          ],
          [
           "Demonstrations"
          ],
          [
           "Political violence"
          ],
          [
           "Political violence; Demonstrations"
          ],
          [
           "Strategic developments"
          ],
          [
           "Demonstrations"
          ],
          [
           "Political violence"
          ],
          [
           "Political violence; Demonstrations"
          ],
          [
           "Strategic developments"
          ],
          [
           "Demonstrations"
          ],
          [
           "Political violence"
          ],
          [
           "Demonstrations"
          ],
          [
           "Political violence"
          ],
          [
           "Strategic developments"
          ],
          [
           "Demonstrations"
          ],
          [
           "Political violence"
          ],
          [
           "Demonstrations"
          ],
          [
           "Demonstrations"
          ],
          [
           "Demonstrations"
          ],
          [
           "Political violence"
          ],
          [
           "Demonstrations"
          ],
          [
           "Political violence"
          ],
          [
           "Strategic developments"
          ],
          [
           "Demonstrations"
          ],
          [
           "Political violence"
          ],
          [
           "Strategic developments"
          ],
          [
           "Demonstrations"
          ],
          [
           "Demonstrations"
          ],
          [
           "Political violence"
          ],
          [
           "Strategic developments"
          ],
          [
           "Political violence"
          ],
          [
           "Demonstrations"
          ],
          [
           "Demonstrations"
          ],
          [
           "Political violence"
          ],
          [
           "Political violence; Demonstrations"
          ],
          [
           "Strategic developments"
          ],
          [
           "Demonstrations"
          ],
          [
           "Political violence"
          ],
          [
           "Strategic developments"
          ],
          [
           "Demonstrations"
          ],
          [
           "Political violence"
          ],
          [
           "Demonstrations"
          ],
          [
           "Political violence"
          ],
          [
           "Political violence; Demonstrations"
          ],
          [
           "Demonstrations"
          ],
          [
           "Demonstrations"
          ],
          [
           "Demonstrations"
          ],
          [
           "Political violence"
          ],
          [
           "Demonstrations"
          ],
          [
           "Political violence"
          ],
          [
           "Demonstrations"
          ],
          [
           "Political violence"
          ],
          [
           "Strategic developments"
          ],
          [
           "Demonstrations"
          ],
          [
           "Political violence"
          ],
          [
           "Political violence; Demonstrations"
          ],
          [
           "Demonstrations"
          ],
          [
           "Political violence"
          ],
          [
           "Political violence; Demonstrations"
          ],
          [
           "Strategic developments"
          ],
          [
           "Demonstrations"
          ],
          [
           "Demonstrations"
          ],
          [
           "Political violence"
          ],
          [
           "Strategic developments"
          ],
          [
           "Demonstrations"
          ],
          [
           "Political violence"
          ],
          [
           "Strategic developments"
          ],
          [
           "Demonstrations"
          ],
          [
           "Political violence"
          ],
          [
           "Political violence; Demonstrations"
          ],
          [
           "Strategic developments"
          ],
          [
           "Demonstrations"
          ],
          [
           "Political violence"
          ],
          [
           "Demonstrations"
          ],
          [
           "Demonstrations"
          ],
          [
           "Political violence"
          ],
          [
           "Demonstrations"
          ],
          [
           "Political violence"
          ],
          [
           "Political violence; Demonstrations"
          ],
          [
           "Strategic developments"
          ],
          [
           "Demonstrations"
          ],
          [
           "Political violence"
          ],
          [
           "Political violence; Demonstrations"
          ],
          [
           "Demonstrations"
          ],
          [
           "Political violence"
          ],
          [
           "Political violence; Demonstrations"
          ],
          [
           "Strategic developments"
          ],
          [
           "Demonstrations"
          ],
          [
           "Political violence"
          ],
          [
           "Demonstrations"
          ],
          [
           "Political violence"
          ],
          [
           "Strategic developments"
          ],
          [
           "Demonstrations"
          ],
          [
           "Political violence"
          ],
          [
           "Demonstrations"
          ],
          [
           "Demonstrations"
          ],
          [
           "Political violence"
          ],
          [
           "Political violence; Demonstrations"
          ],
          [
           "Strategic developments"
          ],
          [
           "Demonstrations"
          ],
          [
           "Political violence"
          ],
          [
           "Strategic developments"
          ],
          [
           "Demonstrations"
          ],
          [
           "Political violence"
          ],
          [
           "Political violence; Demonstrations"
          ],
          [
           "Strategic developments"
          ],
          [
           "Demonstrations"
          ],
          [
           "Political violence"
          ],
          [
           "Demonstrations"
          ],
          [
           "Political violence"
          ],
          [
           "Demonstrations"
          ],
          [
           "Political violence"
          ],
          [
           "Demonstrations"
          ],
          [
           "Political violence"
          ],
          [
           "Political violence; Demonstrations"
          ],
          [
           "Strategic developments"
          ],
          [
           "Demonstrations"
          ],
          [
           "Political violence"
          ],
          [
           "Strategic developments"
          ],
          [
           "Demonstrations"
          ],
          [
           "Political violence"
          ],
          [
           "Demonstrations"
          ],
          [
           "Political violence"
          ],
          [
           "Strategic developments"
          ],
          [
           "Demonstrations"
          ],
          [
           "Political violence"
          ],
          [
           "Strategic developments"
          ],
          [
           "Demonstrations"
          ],
          [
           "Political violence"
          ],
          [
           "Strategic developments"
          ],
          [
           "Demonstrations"
          ],
          [
           "Demonstrations"
          ],
          [
           "Political violence"
          ],
          [
           "Demonstrations"
          ],
          [
           "Political violence"
          ],
          [
           "Demonstrations"
          ],
          [
           "Demonstrations"
          ],
          [
           "Political violence"
          ],
          [
           "Demonstrations"
          ],
          [
           "Political violence"
          ],
          [
           "Strategic developments"
          ],
          [
           "Demonstrations"
          ],
          [
           "Political violence"
          ],
          [
           "Strategic developments"
          ],
          [
           "Demonstrations"
          ],
          [
           "Political violence"
          ],
          [
           "Demonstrations"
          ],
          [
           "Demonstrations"
          ],
          [
           "Demonstrations"
          ],
          [
           "Political violence"
          ],
          [
           "Demonstrations"
          ],
          [
           "Political violence"
          ],
          [
           "Demonstrations"
          ],
          [
           "Political violence"
          ],
          [
           "Strategic developments"
          ],
          [
           "Demonstrations"
          ],
          [
           "Political violence"
          ],
          [
           "Strategic developments"
          ],
          [
           "Demonstrations"
          ],
          [
           "Demonstrations"
          ],
          [
           "Political violence"
          ],
          [
           "Demonstrations"
          ],
          [
           "Political violence"
          ],
          [
           "Demonstrations"
          ],
          [
           "Political violence"
          ],
          [
           "Political violence; Demonstrations"
          ],
          [
           "Strategic developments"
          ],
          [
           "Demonstrations"
          ],
          [
           "Political violence"
          ],
          [
           "Demonstrations"
          ],
          [
           "Political violence"
          ],
          [
           "Strategic developments"
          ],
          [
           "Demonstrations"
          ],
          [
           "Political violence"
          ],
          [
           "Strategic developments"
          ],
          [
           "Demonstrations"
          ],
          [
           "Political violence"
          ],
          [
           "Strategic developments"
          ],
          [
           "Demonstrations"
          ],
          [
           "Political violence"
          ],
          [
           "Political violence; Demonstrations"
          ],
          [
           "Strategic developments"
          ],
          [
           "Demonstrations"
          ],
          [
           "Political violence"
          ],
          [
           "Demonstrations"
          ],
          [
           "Political violence"
          ],
          [
           "Strategic developments"
          ],
          [
           "Demonstrations"
          ],
          [
           "Political violence"
          ],
          [
           "Demonstrations"
          ],
          [
           "Political violence"
          ],
          [
           "Political violence; Demonstrations"
          ],
          [
           "Strategic developments"
          ],
          [
           "Political violence"
          ],
          [
           "Demonstrations"
          ],
          [
           "Political violence"
          ],
          [
           "Demonstrations"
          ],
          [
           "Political violence"
          ],
          [
           "Strategic developments"
          ],
          [
           "Political violence"
          ],
          [
           "Demonstrations"
          ],
          [
           "Political violence"
          ],
          [
           "Demonstrations"
          ],
          [
           "Political violence"
          ],
          [
           "Strategic developments"
          ],
          [
           "Demonstrations"
          ],
          [
           "Political violence"
          ],
          [
           "Political violence; Demonstrations"
          ],
          [
           "Demonstrations"
          ],
          [
           "Political violence"
          ],
          [
           "Strategic developments"
          ],
          [
           "Demonstrations"
          ],
          [
           "Political violence"
          ],
          [
           "Strategic developments"
          ],
          [
           "Demonstrations"
          ],
          [
           "Political violence"
          ],
          [
           "Strategic developments"
          ],
          [
           "Demonstrations"
          ],
          [
           "Political violence"
          ],
          [
           "Strategic developments"
          ],
          [
           "Demonstrations"
          ],
          [
           "Political violence"
          ],
          [
           "Political violence; Demonstrations"
          ],
          [
           "Demonstrations"
          ],
          [
           "Political violence"
          ],
          [
           "Political violence; Demonstrations"
          ],
          [
           "Strategic developments"
          ],
          [
           "Demonstrations"
          ],
          [
           "Political violence"
          ],
          [
           "Demonstrations"
          ],
          [
           "Political violence"
          ],
          [
           "Strategic developments"
          ],
          [
           "Demonstrations"
          ],
          [
           "Demonstrations"
          ],
          [
           "Political violence"
          ],
          [
           "Political violence; Demonstrations"
          ],
          [
           "Strategic developments"
          ],
          [
           "Demonstrations"
          ],
          [
           "Political violence"
          ],
          [
           "Political violence; Demonstrations"
          ],
          [
           "Demonstrations"
          ],
          [
           "Political violence"
          ],
          [
           "Political violence; Demonstrations"
          ],
          [
           "Strategic developments"
          ],
          [
           "Demonstrations"
          ],
          [
           "Political violence"
          ],
          [
           "Demonstrations"
          ],
          [
           "Political violence"
          ],
          [
           "Political violence; Demonstrations"
          ],
          [
           "Strategic developments"
          ]
         ],
         "geo": "geo",
         "hovertemplate": "<b>%{hovertext}</b><br><br>locations=%{location}<br>hover_data_0=%{customdata[0]}<br>ratio=%{z}<extra></extra>",
         "hovertext": [
          "afghanistan",
          "afghanistan",
          "afghanistan",
          "afghanistan",
          "albania",
          "albania",
          "algeria",
          "algeria",
          "algeria",
          "andorra",
          "angola",
          "angola",
          "antigua and barbuda",
          "argentina",
          "argentina",
          "argentina",
          "argentina",
          "armenia",
          "armenia",
          "australia",
          "austria",
          "austria",
          "azerbaijan",
          "azerbaijan",
          "bahrain",
          "bahrain",
          "bahrain",
          "bangladesh",
          "bangladesh",
          "bangladesh",
          "bangladesh",
          "barbados",
          "belarus",
          "belarus",
          "belgium",
          "belize",
          "belize",
          "belize",
          "benin",
          "benin",
          "bolivia",
          "bolivia",
          "bolivia",
          "bosnia and herzegovina",
          "bosnia and herzegovina",
          "bosnia and herzegovina",
          "botswana",
          "brazil",
          "brazil",
          "brazil",
          "brazil",
          "bulgaria",
          "bulgaria",
          "burkina faso",
          "burkina faso",
          "burkina faso",
          "burundi",
          "burundi",
          "burundi",
          "cambodia",
          "cambodia",
          "cambodia",
          "cameroon",
          "cameroon",
          "cameroon",
          "cameroon",
          "canada",
          "canada",
          "chad",
          "chad",
          "chad",
          "chile",
          "chile",
          "chile",
          "chile",
          "china",
          "china",
          "china",
          "colombia",
          "colombia",
          "colombia",
          "comoros",
          "comoros",
          "costa rica",
          "costa rica",
          "cote d'ivoire",
          "cote d'ivoire",
          "cote d'ivoire",
          "croatia",
          "croatia",
          "cuba",
          "cuba",
          "cuba",
          "curacao",
          "cyprus",
          "cyprus",
          "czech republic",
          "democratic republic of congo",
          "democratic republic of congo",
          "democratic republic of congo",
          "democratic republic of congo",
          "denmark",
          "djibouti",
          "dominican republic",
          "dominican republic",
          "dominican republic",
          "ecuador",
          "ecuador",
          "ecuador",
          "egypt",
          "egypt",
          "egypt",
          "egypt",
          "el salvador",
          "el salvador",
          "el salvador",
          "equatorial guinea",
          "equatorial guinea",
          "eritrea",
          "eritrea",
          "estonia",
          "eswatini",
          "eswatini",
          "eswatini",
          "ethiopia",
          "ethiopia",
          "ethiopia",
          "fiji",
          "finland",
          "finland",
          "france",
          "france",
          "france",
          "french polynesia",
          "gabon",
          "gabon",
          "gambia",
          "gambia",
          "georgia",
          "georgia",
          "germany",
          "germany",
          "germany",
          "ghana",
          "ghana",
          "ghana",
          "ghana",
          "greece",
          "greece",
          "greece",
          "guam",
          "guatemala",
          "guatemala",
          "guatemala",
          "guinea",
          "guinea",
          "guinea",
          "guinea-bissau",
          "guinea-bissau",
          "guyana",
          "guyana",
          "haiti",
          "haiti",
          "honduras",
          "honduras",
          "honduras",
          "hungary",
          "hungary",
          "iceland",
          "iceland",
          "india",
          "india",
          "india",
          "india",
          "indonesia",
          "indonesia",
          "indonesia",
          "iran",
          "iran",
          "iran",
          "iran",
          "iraq",
          "iraq",
          "iraq",
          "iraq",
          "ireland",
          "ireland",
          "italy",
          "italy",
          "italy",
          "jamaica",
          "jamaica",
          "japan",
          "jordan",
          "kazakhstan",
          "kazakhstan",
          "kenya",
          "kenya",
          "kenya",
          "kosovo",
          "kosovo",
          "kosovo",
          "kuwait",
          "kyrgyzstan",
          "kyrgyzstan",
          "kyrgyzstan",
          "laos",
          "latvia",
          "lebanon",
          "lebanon",
          "lebanon",
          "lebanon",
          "lesotho",
          "lesotho",
          "lesotho",
          "liberia",
          "liberia",
          "libya",
          "libya",
          "libya",
          "lithuania",
          "luxembourg",
          "madagascar",
          "madagascar",
          "malawi",
          "malawi",
          "malaysia",
          "malaysia",
          "malaysia",
          "maldives",
          "maldives",
          "maldives",
          "mali",
          "mali",
          "mali",
          "mali",
          "malta",
          "mauritania",
          "mauritania",
          "mauritania",
          "mauritius",
          "mauritius",
          "mauritius",
          "mexico",
          "mexico",
          "mexico",
          "mexico",
          "moldova",
          "moldova",
          "mongolia",
          "montenegro",
          "montenegro",
          "morocco",
          "morocco",
          "morocco",
          "morocco",
          "mozambique",
          "mozambique",
          "mozambique",
          "myanmar",
          "myanmar",
          "myanmar",
          "myanmar",
          "namibia",
          "namibia",
          "nepal",
          "nepal",
          "nepal",
          "netherlands",
          "netherlands",
          "new zealand",
          "nicaragua",
          "nicaragua",
          "nicaragua",
          "nicaragua",
          "niger",
          "niger",
          "niger",
          "nigeria",
          "nigeria",
          "nigeria",
          "nigeria",
          "north korea",
          "north korea",
          "north macedonia",
          "north macedonia",
          "norway",
          "norway",
          "pakistan",
          "pakistan",
          "pakistan",
          "pakistan",
          "panama",
          "panama",
          "panama",
          "papua new guinea",
          "papua new guinea",
          "paraguay",
          "paraguay",
          "paraguay",
          "peru",
          "peru",
          "peru",
          "philippines",
          "philippines",
          "philippines",
          "poland",
          "portugal",
          "portugal",
          "puerto rico",
          "puerto rico",
          "qatar",
          "romania",
          "romania",
          "russia",
          "russia",
          "russia",
          "rwanda",
          "rwanda",
          "rwanda",
          "saint martin",
          "saint martin",
          "samoa",
          "san marino",
          "sao tome and principe",
          "saudi arabia",
          "senegal",
          "senegal",
          "serbia",
          "serbia",
          "serbia",
          "sierra leone",
          "sierra leone",
          "sierra leone",
          "slovakia",
          "slovenia",
          "slovenia",
          "solomon islands",
          "solomon islands",
          "somalia",
          "somalia",
          "somalia",
          "somalia",
          "south korea",
          "south korea",
          "south sudan",
          "south sudan",
          "south sudan",
          "spain",
          "spain",
          "spain",
          "sri lanka",
          "sri lanka",
          "sri lanka",
          "sudan",
          "sudan",
          "sudan",
          "sudan",
          "suriname",
          "suriname",
          "sweden",
          "sweden",
          "sweden",
          "switzerland",
          "switzerland",
          "syria",
          "syria",
          "syria",
          "syria",
          "tajikistan",
          "tanzania",
          "tanzania",
          "thailand",
          "thailand",
          "thailand",
          "timor leste ",
          "togo",
          "togo",
          "trinidad and tobago",
          "trinidad and tobago",
          "trinidad and tobago",
          "tunisia",
          "tunisia",
          "tunisia",
          "turkey",
          "turkey",
          "turkey",
          "turkmenistan",
          "turkmenistan",
          "turkmenistan",
          "uganda",
          "uganda",
          "uganda",
          "ukraine",
          "ukraine",
          "ukraine",
          "united kingdom",
          "united kingdom",
          "united kingdom",
          "united states",
          "united states",
          "united states",
          "united states",
          "uruguay",
          "uruguay",
          "uzbekistan",
          "uzbekistan",
          "uzbekistan",
          "vanuatu",
          "venezuela",
          "venezuela",
          "venezuela",
          "venezuela",
          "vietnam",
          "vietnam",
          "vietnam",
          "yemen",
          "yemen",
          "yemen",
          "yemen",
          "zambia",
          "zambia",
          "zimbabwe",
          "zimbabwe",
          "zimbabwe",
          "zimbabwe"
         ],
         "locations": [
          "afghanistan",
          "afghanistan",
          "afghanistan",
          "afghanistan",
          "albania",
          "albania",
          "algeria",
          "algeria",
          "algeria",
          "andorra",
          "angola",
          "angola",
          "antigua and barbuda",
          "argentina",
          "argentina",
          "argentina",
          "argentina",
          "armenia",
          "armenia",
          "australia",
          "austria",
          "austria",
          "azerbaijan",
          "azerbaijan",
          "bahrain",
          "bahrain",
          "bahrain",
          "bangladesh",
          "bangladesh",
          "bangladesh",
          "bangladesh",
          "barbados",
          "belarus",
          "belarus",
          "belgium",
          "belize",
          "belize",
          "belize",
          "benin",
          "benin",
          "bolivia",
          "bolivia",
          "bolivia",
          "bosnia and herzegovina",
          "bosnia and herzegovina",
          "bosnia and herzegovina",
          "botswana",
          "brazil",
          "brazil",
          "brazil",
          "brazil",
          "bulgaria",
          "bulgaria",
          "burkina faso",
          "burkina faso",
          "burkina faso",
          "burundi",
          "burundi",
          "burundi",
          "cambodia",
          "cambodia",
          "cambodia",
          "cameroon",
          "cameroon",
          "cameroon",
          "cameroon",
          "canada",
          "canada",
          "chad",
          "chad",
          "chad",
          "chile",
          "chile",
          "chile",
          "chile",
          "china",
          "china",
          "china",
          "colombia",
          "colombia",
          "colombia",
          "comoros",
          "comoros",
          "costa rica",
          "costa rica",
          "cote d'ivoire",
          "cote d'ivoire",
          "cote d'ivoire",
          "croatia",
          "croatia",
          "cuba",
          "cuba",
          "cuba",
          "curacao",
          "cyprus",
          "cyprus",
          "czech republic",
          "democratic republic of congo",
          "democratic republic of congo",
          "democratic republic of congo",
          "democratic republic of congo",
          "denmark",
          "djibouti",
          "dominican republic",
          "dominican republic",
          "dominican republic",
          "ecuador",
          "ecuador",
          "ecuador",
          "egypt",
          "egypt",
          "egypt",
          "egypt",
          "el salvador",
          "el salvador",
          "el salvador",
          "equatorial guinea",
          "equatorial guinea",
          "eritrea",
          "eritrea",
          "estonia",
          "eswatini",
          "eswatini",
          "eswatini",
          "ethiopia",
          "ethiopia",
          "ethiopia",
          "fiji",
          "finland",
          "finland",
          "france",
          "france",
          "france",
          "french polynesia",
          "gabon",
          "gabon",
          "gambia",
          "gambia",
          "georgia",
          "georgia",
          "germany",
          "germany",
          "germany",
          "ghana",
          "ghana",
          "ghana",
          "ghana",
          "greece",
          "greece",
          "greece",
          "guam",
          "guatemala",
          "guatemala",
          "guatemala",
          "guinea",
          "guinea",
          "guinea",
          "guinea-bissau",
          "guinea-bissau",
          "guyana",
          "guyana",
          "haiti",
          "haiti",
          "honduras",
          "honduras",
          "honduras",
          "hungary",
          "hungary",
          "iceland",
          "iceland",
          "india",
          "india",
          "india",
          "india",
          "indonesia",
          "indonesia",
          "indonesia",
          "iran",
          "iran",
          "iran",
          "iran",
          "iraq",
          "iraq",
          "iraq",
          "iraq",
          "ireland",
          "ireland",
          "italy",
          "italy",
          "italy",
          "jamaica",
          "jamaica",
          "japan",
          "jordan",
          "kazakhstan",
          "kazakhstan",
          "kenya",
          "kenya",
          "kenya",
          "kosovo",
          "kosovo",
          "kosovo",
          "kuwait",
          "kyrgyzstan",
          "kyrgyzstan",
          "kyrgyzstan",
          "laos",
          "latvia",
          "lebanon",
          "lebanon",
          "lebanon",
          "lebanon",
          "lesotho",
          "lesotho",
          "lesotho",
          "liberia",
          "liberia",
          "libya",
          "libya",
          "libya",
          "lithuania",
          "luxembourg",
          "madagascar",
          "madagascar",
          "malawi",
          "malawi",
          "malaysia",
          "malaysia",
          "malaysia",
          "maldives",
          "maldives",
          "maldives",
          "mali",
          "mali",
          "mali",
          "mali",
          "malta",
          "mauritania",
          "mauritania",
          "mauritania",
          "mauritius",
          "mauritius",
          "mauritius",
          "mexico",
          "mexico",
          "mexico",
          "mexico",
          "moldova",
          "moldova",
          "mongolia",
          "montenegro",
          "montenegro",
          "morocco",
          "morocco",
          "morocco",
          "morocco",
          "mozambique",
          "mozambique",
          "mozambique",
          "myanmar",
          "myanmar",
          "myanmar",
          "myanmar",
          "namibia",
          "namibia",
          "nepal",
          "nepal",
          "nepal",
          "netherlands",
          "netherlands",
          "new zealand",
          "nicaragua",
          "nicaragua",
          "nicaragua",
          "nicaragua",
          "niger",
          "niger",
          "niger",
          "nigeria",
          "nigeria",
          "nigeria",
          "nigeria",
          "north korea",
          "north korea",
          "north macedonia",
          "north macedonia",
          "norway",
          "norway",
          "pakistan",
          "pakistan",
          "pakistan",
          "pakistan",
          "panama",
          "panama",
          "panama",
          "papua new guinea",
          "papua new guinea",
          "paraguay",
          "paraguay",
          "paraguay",
          "peru",
          "peru",
          "peru",
          "philippines",
          "philippines",
          "philippines",
          "poland",
          "portugal",
          "portugal",
          "puerto rico",
          "puerto rico",
          "qatar",
          "romania",
          "romania",
          "russia",
          "russia",
          "russia",
          "rwanda",
          "rwanda",
          "rwanda",
          "saint martin",
          "saint martin",
          "samoa",
          "san marino",
          "sao tome and principe",
          "saudi arabia",
          "senegal",
          "senegal",
          "serbia",
          "serbia",
          "serbia",
          "sierra leone",
          "sierra leone",
          "sierra leone",
          "slovakia",
          "slovenia",
          "slovenia",
          "solomon islands",
          "solomon islands",
          "somalia",
          "somalia",
          "somalia",
          "somalia",
          "south korea",
          "south korea",
          "south sudan",
          "south sudan",
          "south sudan",
          "spain",
          "spain",
          "spain",
          "sri lanka",
          "sri lanka",
          "sri lanka",
          "sudan",
          "sudan",
          "sudan",
          "sudan",
          "suriname",
          "suriname",
          "sweden",
          "sweden",
          "sweden",
          "switzerland",
          "switzerland",
          "syria",
          "syria",
          "syria",
          "syria",
          "tajikistan",
          "tanzania",
          "tanzania",
          "thailand",
          "thailand",
          "thailand",
          "timor leste ",
          "togo",
          "togo",
          "trinidad and tobago",
          "trinidad and tobago",
          "trinidad and tobago",
          "tunisia",
          "tunisia",
          "tunisia",
          "turkey",
          "turkey",
          "turkey",
          "turkmenistan",
          "turkmenistan",
          "turkmenistan",
          "uganda",
          "uganda",
          "uganda",
          "ukraine",
          "ukraine",
          "ukraine",
          "united kingdom",
          "united kingdom",
          "united kingdom",
          "united states",
          "united states",
          "united states",
          "united states",
          "uruguay",
          "uruguay",
          "uzbekistan",
          "uzbekistan",
          "uzbekistan",
          "vanuatu",
          "venezuela",
          "venezuela",
          "venezuela",
          "venezuela",
          "vietnam",
          "vietnam",
          "vietnam",
          "yemen",
          "yemen",
          "yemen",
          "yemen",
          "zambia",
          "zambia",
          "zimbabwe",
          "zimbabwe",
          "zimbabwe",
          "zimbabwe"
         ],
         "name": "",
         "type": "choropleth",
         "z": [
          165018.3621399177,
          183102.56621004565,
          10024865.5,
          1055249,
          87864.5625,
          2811666,
          788892.3035714285,
          3398305.3076923075,
          44177969,
          19758.5,
          1380150.96,
          1327068.2307692308,
          93219,
          41343.634476534295,
          1308821.342857143,
          45808747,
          15269582.333333334,
          56958.65306122449,
          930324.6666666666,
          212298.173553719,
          135693.89393939395,
          8955797,
          259942.3076923077,
          10137750,
          40646.25,
          292653,
          1463265,
          598431.9823321555,
          990387.432748538,
          56452083.666666664,
          56452083.666666664,
          281200,
          72676.4453125,
          516810.27777777775,
          91283.08661417323,
          100007.75,
          12500.96875,
          400031,
          1299689.5,
          722049.7222222222,
          79996.50331125828,
          1725638.857142857,
          12079472,
          72687.62222222223,
          1090314.3333333333,
          3270943,
          1294211.5,
          320368.0463378176,
          161511.84853051996,
          214326223,
          53581555.75,
          167749.82926829267,
          6877743,
          712925.2580645161,
          137271.32298136645,
          1163193.8421052631,
          738306.6470588235,
          27645.8436123348,
          2091868.8333333333,
          102401.37654320987,
          1276078.6923076923,
          2369860.4285714286,
          647586.380952381,
          145447.20855614974,
          27198628,
          4533104.666666667,
          89314.2476635514,
          9556624.5,
          1227124.2857142857,
          746945.2173913043,
          8589870,
          34318.98591549296,
          499825.23076923075,
          19493184,
          3248864,
          15186666.666666666,
          1924196.1852861035,
          100882857.14285715,
          178258,
          96472.96254681647,
          5724062.444444444,
          117375,
          205406.25,
          71582.73611111111,
          1288489.25,
          528427.8653846154,
          1249011.3181818181,
          13739124.5,
          52418.91891891892,
          1293000,
          363108.77419354836,
          304226.2702702703,
          146186.64935064936,
          152369,
          16589.173333333332,
          414729.3333333333,
          552935.3684210526,
          184293.34057971014,
          21981.401037165084,
          5086496.2,
          2543248.1,
          67318.77011494253,
          552778.5,
          174848.203125,
          699392.8125,
          2797571.25,
          145883.09016393442,
          1483144.75,
          17797737,
          1383065.5443037974,
          1538903.9154929577,
          36420726,
          36420726,
          84188.89333333333,
          42094.44666666666,
          3157083.5,
          817233,
          544822,
          3620312,
          724062.4,
          221822,
          79484.73333333334,
          59613.55,
          1192271,
          6682390.333333333,
          977910.7804878049,
          60141513,
          924610,
          98946.73214285714,
          5541017,
          77251.57582668187,
          11291605.333333334,
          67749632,
          76008,
          1170589.5,
          585294.75,
          659979,
          659979,
          95092.56410256411,
          3708610,
          142703.39279588335,
          4893886.94117647,
          83196078,
          1094434.3666666667,
          864027.1315789474,
          32833031,
          16416515.5,
          90950.60683760684,
          625954.1764705882,
          2128244.2,
          34106.8,
          137981.82258064515,
          74068.16450216451,
          1140649.7333333334,
          107396.07936507936,
          541276.24,
          2255317.6666666665,
          412144.2,
          515180.25,
          114938.14285714286,
          804567,
          763171.2666666667,
          73381.85256410256,
          126893.14814814815,
          33155.95161290323,
          10278345,
          359625.5925925926,
          2427472.75,
          93130,
          186260,
          260033.96305191205,
          1722844.3598531212,
          140756384.2,
          201080548.85714287,
          1303586.6238095239,
          11406382.958333334,
          91251063.66666667,
          46057.32425353588,
          3822757.913043478,
          2044730.9767441861,
          491192.35754189943,
          640199.8823529412,
          294145.8918918919,
          14511197.333333334,
          6219084.571428572,
          71902.35714285714,
          2516582.5,
          57893.89618021547,
          4546897.538461538,
          14777417,
          148826.05263157896,
          31771.85393258427,
          91604.65962099125,
          796305.5714285715,
          59940.02523659306,
          593780.875,
          420679.4761904762,
          217236.12295081967,
          8834269,
          43561.90243902439,
          446509.5,
          1786038,
          850022.8,
          95597.14285714286,
          334590,
          6691800,
          7425057,
          314081.6666666667,
          36793.625,
          430202.3846153846,
          5592631,
          1118526.2,
          570363.5,
          380242.3333333333,
          2281454,
          173113.86666666667,
          167529.5483870968,
          320727.4761904762,
          118162.75438596492,
          6735277,
          186722.6,
          71118.22222222222,
          2409637.75,
          525739.1454545455,
          509993.3846153846,
          441994.26666666666,
          2398133.8571428573,
          5595645.666666667,
          33573874,
          52145.7,
          521457,
          521457,
          521547.21428571426,
          257705.68235294116,
          21904983,
          4380996.6,
          24692.190476190477,
          79568.5172413793,
          2307487,
          4614974,
          105527.83333333333,
          1266334,
          1266334,
          52228.00412201154,
          46259.63417305586,
          63352569,
          21117523,
          153835.23529411765,
          871733,
          123991.92592592593,
          22933.74074074074,
          309605.5,
          226076.73170731709,
          1483063.36,
          18538292,
          18538292,
          2467467.076923077,
          311427.88349514565,
          32077072,
          232892.13852813852,
          105693.68172888015,
          17932694.666666668,
          119551.29777777777,
          97313.5,
          281127.8888888889,
          55313.05524861879,
          210034.8881118881,
          15017494.5,
          449565.23076923075,
          8766522,
          283966.6666666667,
          114175.66666666667,
          342527,
          1370108,
          526964.6153846154,
          8417574,
          198840.3307086614,
          12626361,
          478478.30269058293,
          332400.81464174454,
          42680264.6,
          42680264.6,
          25971909,
          2885767.6666666665,
          129068.25,
          2065092,
          65160.48192771084,
          5408320,
          166356.66211358734,
          1192794.4175257732,
          231402117,
          57850529.25,
          71332.24590163934,
          4351267,
          4351267,
          621839.8125,
          284269.6285714286,
          54062.895161290326,
          418987.4375,
          6703799,
          214748.2229299363,
          3065042.8181818184,
          33715471,
          843557.9851851852,
          515295.60180995474,
          28470082,
          21819.14682080925,
          175002.49152542374,
          10325147,
          66585.57142857143,
          65253.86,
          896078.3333333334,
          831299.1304347826,
          9559940,
          1039487.5797101449,
          4098551.0285714287,
          20492755.14285714,
          4487296,
          747882.6666666666,
          13461888,
          18698.5,
          18698.5,
          109382,
          33745,
          55776.75,
          17975198,
          562557.3333333334,
          1534247.2727272727,
          75936.95555555556,
          6834326,
          6834326,
          765512.8181818182,
          323870.8076923077,
          2806880.3333333335,
          389089.0714285714,
          210807.9,
          2108079,
          353925.5,
          707851,
          167309.61764705883,
          49322.488439306355,
          5688527,
          17065581,
          26522.232701178884,
          51744876,
          383866.85714285716,
          22207.173553719007,
          10748272,
          55198.777648428404,
          5268416.666666667,
          47415750,
          151753.42465753425,
          923166.6666666666,
          11078000,
          365257.616,
          61367.20698924731,
          2536511.222222222,
          45657202,
          153246.25,
          612985,
          17744.14139693356,
          2603952.75,
          10415811,
          71339.38524590163,
          8703405,
          328067.1846153846,
          40387.058712121216,
          10662183.5,
          735323,
          2437516,
          12717666.8,
          3740490.2352941176,
          1665141.9302325582,
          1101555.4307692307,
          71601103,
          1320942,
          664986.8461538461,
          2881609.6666666665,
          31784.645833333332,
          27243.98214285714,
          762831.5,
          142592.39534883722,
          721349.7647058824,
          12262946,
          34019.02247191011,
          2230931.6842105263,
          16955080.8,
          1268371,
          6341855,
          6341855,
          899093.6862745098,
          277901.6848484849,
          45853778,
          509219.24418604653,
          280723.4294871795,
          10948213.75,
          284009.74576271186,
          3191728.5714285714,
          67026300,
          59038.32752489331,
          3860832.023255814,
          55338592.333333336,
          10710695.290322581,
          95173.88888888889,
          856565,
          872877.5,
          1745755,
          34915100,
          319137,
          125332.74222222222,
          148420.35263157895,
          9399955.666666666,
          5639973.4,
          24367007.25,
          13924004.142857144,
          24367007.25,
          104372.28164556962,
          119498.69927536232,
          8245410.25,
          1940096.5294117648,
          4868281.25,
          556375,
          155276.93203883496,
          88362.01104972376,
          799676.2,
          15993524
         ]
        }
       ],
       "layout": {
        "coloraxis": {
         "colorbar": {
          "title": {
           "text": "ratio"
          }
         },
         "colorscale": [
          [
           0,
           "#440154"
          ],
          [
           0.1111111111111111,
           "#482878"
          ],
          [
           0.2222222222222222,
           "#3e4989"
          ],
          [
           0.3333333333333333,
           "#31688e"
          ],
          [
           0.4444444444444444,
           "#26828e"
          ],
          [
           0.5555555555555556,
           "#1f9e89"
          ],
          [
           0.6666666666666666,
           "#35b779"
          ],
          [
           0.7777777777777778,
           "#6ece58"
          ],
          [
           0.8888888888888888,
           "#b5de2b"
          ],
          [
           1,
           "#fde725"
          ]
         ]
        },
        "geo": {
         "center": {},
         "domain": {
          "x": [
           0,
           1
          ],
          "y": [
           0,
           1
          ]
         }
        },
        "legend": {
         "tracegroupgap": 0
        },
        "template": {
         "data": {
          "bar": [
           {
            "error_x": {
             "color": "#2a3f5f"
            },
            "error_y": {
             "color": "#2a3f5f"
            },
            "marker": {
             "line": {
              "color": "#E5ECF6",
              "width": 0.5
             },
             "pattern": {
              "fillmode": "overlay",
              "size": 10,
              "solidity": 0.2
             }
            },
            "type": "bar"
           }
          ],
          "barpolar": [
           {
            "marker": {
             "line": {
              "color": "#E5ECF6",
              "width": 0.5
             },
             "pattern": {
              "fillmode": "overlay",
              "size": 10,
              "solidity": 0.2
             }
            },
            "type": "barpolar"
           }
          ],
          "carpet": [
           {
            "aaxis": {
             "endlinecolor": "#2a3f5f",
             "gridcolor": "white",
             "linecolor": "white",
             "minorgridcolor": "white",
             "startlinecolor": "#2a3f5f"
            },
            "baxis": {
             "endlinecolor": "#2a3f5f",
             "gridcolor": "white",
             "linecolor": "white",
             "minorgridcolor": "white",
             "startlinecolor": "#2a3f5f"
            },
            "type": "carpet"
           }
          ],
          "choropleth": [
           {
            "colorbar": {
             "outlinewidth": 0,
             "ticks": ""
            },
            "type": "choropleth"
           }
          ],
          "contour": [
           {
            "colorbar": {
             "outlinewidth": 0,
             "ticks": ""
            },
            "colorscale": [
             [
              0,
              "#0d0887"
             ],
             [
              0.1111111111111111,
              "#46039f"
             ],
             [
              0.2222222222222222,
              "#7201a8"
             ],
             [
              0.3333333333333333,
              "#9c179e"
             ],
             [
              0.4444444444444444,
              "#bd3786"
             ],
             [
              0.5555555555555556,
              "#d8576b"
             ],
             [
              0.6666666666666666,
              "#ed7953"
             ],
             [
              0.7777777777777778,
              "#fb9f3a"
             ],
             [
              0.8888888888888888,
              "#fdca26"
             ],
             [
              1,
              "#f0f921"
             ]
            ],
            "type": "contour"
           }
          ],
          "contourcarpet": [
           {
            "colorbar": {
             "outlinewidth": 0,
             "ticks": ""
            },
            "type": "contourcarpet"
           }
          ],
          "heatmap": [
           {
            "colorbar": {
             "outlinewidth": 0,
             "ticks": ""
            },
            "colorscale": [
             [
              0,
              "#0d0887"
             ],
             [
              0.1111111111111111,
              "#46039f"
             ],
             [
              0.2222222222222222,
              "#7201a8"
             ],
             [
              0.3333333333333333,
              "#9c179e"
             ],
             [
              0.4444444444444444,
              "#bd3786"
             ],
             [
              0.5555555555555556,
              "#d8576b"
             ],
             [
              0.6666666666666666,
              "#ed7953"
             ],
             [
              0.7777777777777778,
              "#fb9f3a"
             ],
             [
              0.8888888888888888,
              "#fdca26"
             ],
             [
              1,
              "#f0f921"
             ]
            ],
            "type": "heatmap"
           }
          ],
          "heatmapgl": [
           {
            "colorbar": {
             "outlinewidth": 0,
             "ticks": ""
            },
            "colorscale": [
             [
              0,
              "#0d0887"
             ],
             [
              0.1111111111111111,
              "#46039f"
             ],
             [
              0.2222222222222222,
              "#7201a8"
             ],
             [
              0.3333333333333333,
              "#9c179e"
             ],
             [
              0.4444444444444444,
              "#bd3786"
             ],
             [
              0.5555555555555556,
              "#d8576b"
             ],
             [
              0.6666666666666666,
              "#ed7953"
             ],
             [
              0.7777777777777778,
              "#fb9f3a"
             ],
             [
              0.8888888888888888,
              "#fdca26"
             ],
             [
              1,
              "#f0f921"
             ]
            ],
            "type": "heatmapgl"
           }
          ],
          "histogram": [
           {
            "marker": {
             "pattern": {
              "fillmode": "overlay",
              "size": 10,
              "solidity": 0.2
             }
            },
            "type": "histogram"
           }
          ],
          "histogram2d": [
           {
            "colorbar": {
             "outlinewidth": 0,
             "ticks": ""
            },
            "colorscale": [
             [
              0,
              "#0d0887"
             ],
             [
              0.1111111111111111,
              "#46039f"
             ],
             [
              0.2222222222222222,
              "#7201a8"
             ],
             [
              0.3333333333333333,
              "#9c179e"
             ],
             [
              0.4444444444444444,
              "#bd3786"
             ],
             [
              0.5555555555555556,
              "#d8576b"
             ],
             [
              0.6666666666666666,
              "#ed7953"
             ],
             [
              0.7777777777777778,
              "#fb9f3a"
             ],
             [
              0.8888888888888888,
              "#fdca26"
             ],
             [
              1,
              "#f0f921"
             ]
            ],
            "type": "histogram2d"
           }
          ],
          "histogram2dcontour": [
           {
            "colorbar": {
             "outlinewidth": 0,
             "ticks": ""
            },
            "colorscale": [
             [
              0,
              "#0d0887"
             ],
             [
              0.1111111111111111,
              "#46039f"
             ],
             [
              0.2222222222222222,
              "#7201a8"
             ],
             [
              0.3333333333333333,
              "#9c179e"
             ],
             [
              0.4444444444444444,
              "#bd3786"
             ],
             [
              0.5555555555555556,
              "#d8576b"
             ],
             [
              0.6666666666666666,
              "#ed7953"
             ],
             [
              0.7777777777777778,
              "#fb9f3a"
             ],
             [
              0.8888888888888888,
              "#fdca26"
             ],
             [
              1,
              "#f0f921"
             ]
            ],
            "type": "histogram2dcontour"
           }
          ],
          "mesh3d": [
           {
            "colorbar": {
             "outlinewidth": 0,
             "ticks": ""
            },
            "type": "mesh3d"
           }
          ],
          "parcoords": [
           {
            "line": {
             "colorbar": {
              "outlinewidth": 0,
              "ticks": ""
             }
            },
            "type": "parcoords"
           }
          ],
          "pie": [
           {
            "automargin": true,
            "type": "pie"
           }
          ],
          "scatter": [
           {
            "fillpattern": {
             "fillmode": "overlay",
             "size": 10,
             "solidity": 0.2
            },
            "type": "scatter"
           }
          ],
          "scatter3d": [
           {
            "line": {
             "colorbar": {
              "outlinewidth": 0,
              "ticks": ""
             }
            },
            "marker": {
             "colorbar": {
              "outlinewidth": 0,
              "ticks": ""
             }
            },
            "type": "scatter3d"
           }
          ],
          "scattercarpet": [
           {
            "marker": {
             "colorbar": {
              "outlinewidth": 0,
              "ticks": ""
             }
            },
            "type": "scattercarpet"
           }
          ],
          "scattergeo": [
           {
            "marker": {
             "colorbar": {
              "outlinewidth": 0,
              "ticks": ""
             }
            },
            "type": "scattergeo"
           }
          ],
          "scattergl": [
           {
            "marker": {
             "colorbar": {
              "outlinewidth": 0,
              "ticks": ""
             }
            },
            "type": "scattergl"
           }
          ],
          "scattermapbox": [
           {
            "marker": {
             "colorbar": {
              "outlinewidth": 0,
              "ticks": ""
             }
            },
            "type": "scattermapbox"
           }
          ],
          "scatterpolar": [
           {
            "marker": {
             "colorbar": {
              "outlinewidth": 0,
              "ticks": ""
             }
            },
            "type": "scatterpolar"
           }
          ],
          "scatterpolargl": [
           {
            "marker": {
             "colorbar": {
              "outlinewidth": 0,
              "ticks": ""
             }
            },
            "type": "scatterpolargl"
           }
          ],
          "scatterternary": [
           {
            "marker": {
             "colorbar": {
              "outlinewidth": 0,
              "ticks": ""
             }
            },
            "type": "scatterternary"
           }
          ],
          "surface": [
           {
            "colorbar": {
             "outlinewidth": 0,
             "ticks": ""
            },
            "colorscale": [
             [
              0,
              "#0d0887"
             ],
             [
              0.1111111111111111,
              "#46039f"
             ],
             [
              0.2222222222222222,
              "#7201a8"
             ],
             [
              0.3333333333333333,
              "#9c179e"
             ],
             [
              0.4444444444444444,
              "#bd3786"
             ],
             [
              0.5555555555555556,
              "#d8576b"
             ],
             [
              0.6666666666666666,
              "#ed7953"
             ],
             [
              0.7777777777777778,
              "#fb9f3a"
             ],
             [
              0.8888888888888888,
              "#fdca26"
             ],
             [
              1,
              "#f0f921"
             ]
            ],
            "type": "surface"
           }
          ],
          "table": [
           {
            "cells": {
             "fill": {
              "color": "#EBF0F8"
             },
             "line": {
              "color": "white"
             }
            },
            "header": {
             "fill": {
              "color": "#C8D4E3"
             },
             "line": {
              "color": "white"
             }
            },
            "type": "table"
           }
          ]
         },
         "layout": {
          "annotationdefaults": {
           "arrowcolor": "#2a3f5f",
           "arrowhead": 0,
           "arrowwidth": 1
          },
          "autotypenumbers": "strict",
          "coloraxis": {
           "colorbar": {
            "outlinewidth": 0,
            "ticks": ""
           }
          },
          "colorscale": {
           "diverging": [
            [
             0,
             "#8e0152"
            ],
            [
             0.1,
             "#c51b7d"
            ],
            [
             0.2,
             "#de77ae"
            ],
            [
             0.3,
             "#f1b6da"
            ],
            [
             0.4,
             "#fde0ef"
            ],
            [
             0.5,
             "#f7f7f7"
            ],
            [
             0.6,
             "#e6f5d0"
            ],
            [
             0.7,
             "#b8e186"
            ],
            [
             0.8,
             "#7fbc41"
            ],
            [
             0.9,
             "#4d9221"
            ],
            [
             1,
             "#276419"
            ]
           ],
           "sequential": [
            [
             0,
             "#0d0887"
            ],
            [
             0.1111111111111111,
             "#46039f"
            ],
            [
             0.2222222222222222,
             "#7201a8"
            ],
            [
             0.3333333333333333,
             "#9c179e"
            ],
            [
             0.4444444444444444,
             "#bd3786"
            ],
            [
             0.5555555555555556,
             "#d8576b"
            ],
            [
             0.6666666666666666,
             "#ed7953"
            ],
            [
             0.7777777777777778,
             "#fb9f3a"
            ],
            [
             0.8888888888888888,
             "#fdca26"
            ],
            [
             1,
             "#f0f921"
            ]
           ],
           "sequentialminus": [
            [
             0,
             "#0d0887"
            ],
            [
             0.1111111111111111,
             "#46039f"
            ],
            [
             0.2222222222222222,
             "#7201a8"
            ],
            [
             0.3333333333333333,
             "#9c179e"
            ],
            [
             0.4444444444444444,
             "#bd3786"
            ],
            [
             0.5555555555555556,
             "#d8576b"
            ],
            [
             0.6666666666666666,
             "#ed7953"
            ],
            [
             0.7777777777777778,
             "#fb9f3a"
            ],
            [
             0.8888888888888888,
             "#fdca26"
            ],
            [
             1,
             "#f0f921"
            ]
           ]
          },
          "colorway": [
           "#636efa",
           "#EF553B",
           "#00cc96",
           "#ab63fa",
           "#FFA15A",
           "#19d3f3",
           "#FF6692",
           "#B6E880",
           "#FF97FF",
           "#FECB52"
          ],
          "font": {
           "color": "#2a3f5f"
          },
          "geo": {
           "bgcolor": "white",
           "lakecolor": "white",
           "landcolor": "#E5ECF6",
           "showlakes": true,
           "showland": true,
           "subunitcolor": "white"
          },
          "hoverlabel": {
           "align": "left"
          },
          "hovermode": "closest",
          "mapbox": {
           "style": "light"
          },
          "paper_bgcolor": "white",
          "plot_bgcolor": "#E5ECF6",
          "polar": {
           "angularaxis": {
            "gridcolor": "white",
            "linecolor": "white",
            "ticks": ""
           },
           "bgcolor": "#E5ECF6",
           "radialaxis": {
            "gridcolor": "white",
            "linecolor": "white",
            "ticks": ""
           }
          },
          "scene": {
           "xaxis": {
            "backgroundcolor": "#E5ECF6",
            "gridcolor": "white",
            "gridwidth": 2,
            "linecolor": "white",
            "showbackground": true,
            "ticks": "",
            "zerolinecolor": "white"
           },
           "yaxis": {
            "backgroundcolor": "#E5ECF6",
            "gridcolor": "white",
            "gridwidth": 2,
            "linecolor": "white",
            "showbackground": true,
            "ticks": "",
            "zerolinecolor": "white"
           },
           "zaxis": {
            "backgroundcolor": "#E5ECF6",
            "gridcolor": "white",
            "gridwidth": 2,
            "linecolor": "white",
            "showbackground": true,
            "ticks": "",
            "zerolinecolor": "white"
           }
          },
          "shapedefaults": {
           "line": {
            "color": "#2a3f5f"
           }
          },
          "ternary": {
           "aaxis": {
            "gridcolor": "white",
            "linecolor": "white",
            "ticks": ""
           },
           "baxis": {
            "gridcolor": "white",
            "linecolor": "white",
            "ticks": ""
           },
           "bgcolor": "#E5ECF6",
           "caxis": {
            "gridcolor": "white",
            "linecolor": "white",
            "ticks": ""
           }
          },
          "title": {
           "x": 0.05
          },
          "xaxis": {
           "automargin": true,
           "gridcolor": "white",
           "linecolor": "white",
           "ticks": "",
           "title": {
            "standoff": 15
           },
           "zerolinecolor": "white",
           "zerolinewidth": 2
          },
          "yaxis": {
           "automargin": true,
           "gridcolor": "white",
           "linecolor": "white",
           "ticks": "",
           "title": {
            "standoff": 15
           },
           "zerolinecolor": "white",
           "zerolinewidth": 2
          }
         }
        },
        "title": {
         "text": "Ratio of Population to Demonstrations by Country"
        }
       }
      }
     },
     "metadata": {},
     "output_type": "display_data"
    }
   ],
   "source": [
    "#visualizing the ratio of population to demonstrations by country in a chloropleth map\n",
    "import plotly.express as px\n",
    "#visualizing the ratio of population to demonstrations by country in a chloropleth map\n",
    "fig = px.choropleth(pop_demo_df, locations=pop_demo_df.index.get_level_values(0), color=pop_demo_df['ratio'],\n",
    "                    color_continuous_scale=\"Viridis\",\n",
    "                    hover_name=pop_demo_df.index.get_level_values(0), # column to add to hover information\n",
    "                    hover_data=[pop_demo_df.index.get_level_values(1)],\n",
    "                    title = 'Ratio of Population to Demonstrations by Country')\n",
    "fig.show()\n"
   ]
  },
  {
   "cell_type": "code",
   "execution_count": null,
   "metadata": {},
   "outputs": [
    {
     "ename": "MergeError",
     "evalue": "No common columns to perform merge on. Merge options: left_on=None, right_on=None, left_index=False, right_index=False",
     "output_type": "error",
     "traceback": [
      "\u001b[0;31m---------------------------------------------------------------------------\u001b[0m",
      "\u001b[0;31mMergeError\u001b[0m                                Traceback (most recent call last)",
      "\u001b[0;32m/var/folders/ks/nvwnsjxx73sfdyfzgxxlgscw0000gn/T/ipykernel_33632/138384092.py\u001b[0m in \u001b[0;36m<module>\u001b[0;34m\u001b[0m\n\u001b[1;32m      1\u001b[0m \u001b[0;31m#m = df1.merge(standardized,how='left',indicator='merge_country')\u001b[0m\u001b[0;34m\u001b[0m\u001b[0;34m\u001b[0m\u001b[0m\n\u001b[0;32m----> 2\u001b[0;31m \u001b[0mm\u001b[0m \u001b[0;34m=\u001b[0m \u001b[0mdf1\u001b[0m\u001b[0;34m.\u001b[0m\u001b[0mmerge\u001b[0m\u001b[0;34m(\u001b[0m\u001b[0mstandardized\u001b[0m\u001b[0;34m,\u001b[0m\u001b[0mhow\u001b[0m\u001b[0;34m=\u001b[0m\u001b[0;34m'left'\u001b[0m\u001b[0;34m,\u001b[0m\u001b[0mindicator\u001b[0m\u001b[0;34m=\u001b[0m\u001b[0;32mTrue\u001b[0m\u001b[0;34m)\u001b[0m\u001b[0;34m\u001b[0m\u001b[0;34m\u001b[0m\u001b[0m\n\u001b[0m\u001b[1;32m      3\u001b[0m \u001b[0;34m\u001b[0m\u001b[0m\n\u001b[1;32m      4\u001b[0m \u001b[0;31m# m.merge_country.value_counts()\u001b[0m\u001b[0;34m\u001b[0m\u001b[0;34m\u001b[0m\u001b[0m\n",
      "\u001b[0;32m~/opt/anaconda3/lib/python3.9/site-packages/pandas/core/frame.py\u001b[0m in \u001b[0;36mmerge\u001b[0;34m(self, right, how, on, left_on, right_on, left_index, right_index, sort, suffixes, copy, indicator, validate)\u001b[0m\n\u001b[1;32m   9841\u001b[0m         \u001b[0;32mfrom\u001b[0m \u001b[0mpandas\u001b[0m\u001b[0;34m.\u001b[0m\u001b[0mcore\u001b[0m\u001b[0;34m.\u001b[0m\u001b[0mreshape\u001b[0m\u001b[0;34m.\u001b[0m\u001b[0mmerge\u001b[0m \u001b[0;32mimport\u001b[0m \u001b[0mmerge\u001b[0m\u001b[0;34m\u001b[0m\u001b[0;34m\u001b[0m\u001b[0m\n\u001b[1;32m   9842\u001b[0m \u001b[0;34m\u001b[0m\u001b[0m\n\u001b[0;32m-> 9843\u001b[0;31m         return merge(\n\u001b[0m\u001b[1;32m   9844\u001b[0m             \u001b[0mself\u001b[0m\u001b[0;34m,\u001b[0m\u001b[0;34m\u001b[0m\u001b[0;34m\u001b[0m\u001b[0m\n\u001b[1;32m   9845\u001b[0m             \u001b[0mright\u001b[0m\u001b[0;34m,\u001b[0m\u001b[0;34m\u001b[0m\u001b[0;34m\u001b[0m\u001b[0m\n",
      "\u001b[0;32m~/opt/anaconda3/lib/python3.9/site-packages/pandas/core/reshape/merge.py\u001b[0m in \u001b[0;36mmerge\u001b[0;34m(left, right, how, on, left_on, right_on, left_index, right_index, sort, suffixes, copy, indicator, validate)\u001b[0m\n\u001b[1;32m    146\u001b[0m     \u001b[0mvalidate\u001b[0m\u001b[0;34m:\u001b[0m \u001b[0mstr\u001b[0m \u001b[0;34m|\u001b[0m \u001b[0;32mNone\u001b[0m \u001b[0;34m=\u001b[0m \u001b[0;32mNone\u001b[0m\u001b[0;34m,\u001b[0m\u001b[0;34m\u001b[0m\u001b[0;34m\u001b[0m\u001b[0m\n\u001b[1;32m    147\u001b[0m ) -> DataFrame:\n\u001b[0;32m--> 148\u001b[0;31m     op = _MergeOperation(\n\u001b[0m\u001b[1;32m    149\u001b[0m         \u001b[0mleft\u001b[0m\u001b[0;34m,\u001b[0m\u001b[0;34m\u001b[0m\u001b[0;34m\u001b[0m\u001b[0m\n\u001b[1;32m    150\u001b[0m         \u001b[0mright\u001b[0m\u001b[0;34m,\u001b[0m\u001b[0;34m\u001b[0m\u001b[0;34m\u001b[0m\u001b[0m\n",
      "\u001b[0;32m~/opt/anaconda3/lib/python3.9/site-packages/pandas/core/reshape/merge.py\u001b[0m in \u001b[0;36m__init__\u001b[0;34m(self, left, right, how, on, left_on, right_on, axis, left_index, right_index, sort, suffixes, indicator, validate)\u001b[0m\n\u001b[1;32m    717\u001b[0m             \u001b[0;32mraise\u001b[0m \u001b[0mMergeError\u001b[0m\u001b[0;34m(\u001b[0m\u001b[0mmsg\u001b[0m\u001b[0;34m)\u001b[0m\u001b[0;34m\u001b[0m\u001b[0;34m\u001b[0m\u001b[0m\n\u001b[1;32m    718\u001b[0m \u001b[0;34m\u001b[0m\u001b[0m\n\u001b[0;32m--> 719\u001b[0;31m         \u001b[0mself\u001b[0m\u001b[0;34m.\u001b[0m\u001b[0mleft_on\u001b[0m\u001b[0;34m,\u001b[0m \u001b[0mself\u001b[0m\u001b[0;34m.\u001b[0m\u001b[0mright_on\u001b[0m \u001b[0;34m=\u001b[0m \u001b[0mself\u001b[0m\u001b[0;34m.\u001b[0m\u001b[0m_validate_left_right_on\u001b[0m\u001b[0;34m(\u001b[0m\u001b[0mleft_on\u001b[0m\u001b[0;34m,\u001b[0m \u001b[0mright_on\u001b[0m\u001b[0;34m)\u001b[0m\u001b[0;34m\u001b[0m\u001b[0;34m\u001b[0m\u001b[0m\n\u001b[0m\u001b[1;32m    720\u001b[0m \u001b[0;34m\u001b[0m\u001b[0m\n\u001b[1;32m    721\u001b[0m         \u001b[0mcross_col\u001b[0m \u001b[0;34m=\u001b[0m \u001b[0;32mNone\u001b[0m\u001b[0;34m\u001b[0m\u001b[0;34m\u001b[0m\u001b[0m\n",
      "\u001b[0;32m~/opt/anaconda3/lib/python3.9/site-packages/pandas/core/reshape/merge.py\u001b[0m in \u001b[0;36m_validate_left_right_on\u001b[0;34m(self, left_on, right_on)\u001b[0m\n\u001b[1;32m   1498\u001b[0m                 \u001b[0mcommon_cols\u001b[0m \u001b[0;34m=\u001b[0m \u001b[0mleft_cols\u001b[0m\u001b[0;34m.\u001b[0m\u001b[0mintersection\u001b[0m\u001b[0;34m(\u001b[0m\u001b[0mright_cols\u001b[0m\u001b[0;34m)\u001b[0m\u001b[0;34m\u001b[0m\u001b[0;34m\u001b[0m\u001b[0m\n\u001b[1;32m   1499\u001b[0m                 \u001b[0;32mif\u001b[0m \u001b[0mlen\u001b[0m\u001b[0;34m(\u001b[0m\u001b[0mcommon_cols\u001b[0m\u001b[0;34m)\u001b[0m \u001b[0;34m==\u001b[0m \u001b[0;36m0\u001b[0m\u001b[0;34m:\u001b[0m\u001b[0;34m\u001b[0m\u001b[0;34m\u001b[0m\u001b[0m\n\u001b[0;32m-> 1500\u001b[0;31m                     raise MergeError(\n\u001b[0m\u001b[1;32m   1501\u001b[0m                         \u001b[0;34m\"No common columns to perform merge on. \"\u001b[0m\u001b[0;34m\u001b[0m\u001b[0;34m\u001b[0m\u001b[0m\n\u001b[1;32m   1502\u001b[0m                         \u001b[0;34mf\"Merge options: left_on={left_on}, \"\u001b[0m\u001b[0;34m\u001b[0m\u001b[0;34m\u001b[0m\u001b[0m\n",
      "\u001b[0;31mMergeError\u001b[0m: No common columns to perform merge on. Merge options: left_on=None, right_on=None, left_index=False, right_index=False"
     ]
    }
   ],
   "source": [
    "#m = df1.merge(standardized,how='left',indicator='merge_country')\n",
    "\n",
    "m = df1.merge(standardized,how='left',indicator=True)\n",
    "\n",
    "# m.merge_country.value_counts()"
   ]
  },
  {
   "cell_type": "code",
   "execution_count": null,
   "metadata": {},
   "outputs": [
    {
     "data": {
      "text/html": [
       "<div>\n",
       "<style scoped>\n",
       "    .dataframe tbody tr th:only-of-type {\n",
       "        vertical-align: middle;\n",
       "    }\n",
       "\n",
       "    .dataframe tbody tr th {\n",
       "        vertical-align: top;\n",
       "    }\n",
       "\n",
       "    .dataframe thead th {\n",
       "        text-align: right;\n",
       "    }\n",
       "</style>\n",
       "<table border=\"1\" class=\"dataframe\">\n",
       "  <thead>\n",
       "    <tr style=\"text-align: right;\">\n",
       "      <th></th>\n",
       "      <th>EVENT_ID_CNTY</th>\n",
       "      <th>EVENT_DATE</th>\n",
       "      <th>YEAR</th>\n",
       "      <th>TIME_PRECISION</th>\n",
       "      <th>DISORDER_TYPE</th>\n",
       "      <th>EVENT_TYPE</th>\n",
       "      <th>SUB_EVENT_TYPE</th>\n",
       "      <th>ACTOR1</th>\n",
       "      <th>ASSOC_ACTOR_1</th>\n",
       "      <th>INTER1</th>\n",
       "      <th>...</th>\n",
       "      <th>LOCATION</th>\n",
       "      <th>LATITUDE</th>\n",
       "      <th>LONGITUDE</th>\n",
       "      <th>GEO_PRECISION</th>\n",
       "      <th>SOURCE</th>\n",
       "      <th>SOURCE_SCALE</th>\n",
       "      <th>NOTES</th>\n",
       "      <th>FATALITIES</th>\n",
       "      <th>TAGS</th>\n",
       "      <th>TIMESTAMP</th>\n",
       "    </tr>\n",
       "  </thead>\n",
       "  <tbody>\n",
       "    <tr>\n",
       "      <th>0</th>\n",
       "      <td>XKX12</td>\n",
       "      <td>14-February-2018</td>\n",
       "      <td>2018</td>\n",
       "      <td>1</td>\n",
       "      <td>Demonstrations</td>\n",
       "      <td>Protests</td>\n",
       "      <td>Peaceful protest</td>\n",
       "      <td>Protesters (Kosovo)</td>\n",
       "      <td>Women (Kosovo)</td>\n",
       "      <td>6</td>\n",
       "      <td>...</td>\n",
       "      <td>Pristina</td>\n",
       "      <td>42.667</td>\n",
       "      <td>21.172</td>\n",
       "      <td>1</td>\n",
       "      <td>Kallxo</td>\n",
       "      <td>National</td>\n",
       "      <td>On 14 February 2018, 2018 in Pristina, Kosovo,...</td>\n",
       "      <td>0</td>\n",
       "      <td>NaN</td>\n",
       "      <td>1652375201</td>\n",
       "    </tr>\n",
       "    <tr>\n",
       "      <th>1</th>\n",
       "      <td>XKX19</td>\n",
       "      <td>08-March-2018</td>\n",
       "      <td>2018</td>\n",
       "      <td>1</td>\n",
       "      <td>Demonstrations</td>\n",
       "      <td>Protests</td>\n",
       "      <td>Peaceful protest</td>\n",
       "      <td>Protesters (Kosovo)</td>\n",
       "      <td>Women (Kosovo)</td>\n",
       "      <td>6</td>\n",
       "      <td>...</td>\n",
       "      <td>Pristina</td>\n",
       "      <td>42.667</td>\n",
       "      <td>21.172</td>\n",
       "      <td>1</td>\n",
       "      <td>Kosova Press</td>\n",
       "      <td>National</td>\n",
       "      <td>On 8 March 2018, in Kosovo capital Pristina, w...</td>\n",
       "      <td>0</td>\n",
       "      <td>NaN</td>\n",
       "      <td>1652899424</td>\n",
       "    </tr>\n",
       "    <tr>\n",
       "      <th>2</th>\n",
       "      <td>XKX35</td>\n",
       "      <td>20-April-2018</td>\n",
       "      <td>2018</td>\n",
       "      <td>2</td>\n",
       "      <td>Political violence</td>\n",
       "      <td>Violence against civilians</td>\n",
       "      <td>Attack</td>\n",
       "      <td>Unidentified Armed Group (Kosovo)</td>\n",
       "      <td>Albanian Ethnic Group (Kosovo)</td>\n",
       "      <td>3</td>\n",
       "      <td>...</td>\n",
       "      <td>North Mitrovica</td>\n",
       "      <td>42.895</td>\n",
       "      <td>20.865</td>\n",
       "      <td>1</td>\n",
       "      <td>Vecernje Novosti</td>\n",
       "      <td>International</td>\n",
       "      <td>As reported on April 20, 2018, female journali...</td>\n",
       "      <td>0</td>\n",
       "      <td>NaN</td>\n",
       "      <td>1572403786</td>\n",
       "    </tr>\n",
       "    <tr>\n",
       "      <th>3</th>\n",
       "      <td>XKX64</td>\n",
       "      <td>22-July-2018</td>\n",
       "      <td>2018</td>\n",
       "      <td>1</td>\n",
       "      <td>Demonstrations</td>\n",
       "      <td>Protests</td>\n",
       "      <td>Peaceful protest</td>\n",
       "      <td>Protesters (Kosovo)</td>\n",
       "      <td>Women (Kosovo)</td>\n",
       "      <td>6</td>\n",
       "      <td>...</td>\n",
       "      <td>Shterpca</td>\n",
       "      <td>42.241</td>\n",
       "      <td>21.026</td>\n",
       "      <td>1</td>\n",
       "      <td>Kosova Press</td>\n",
       "      <td>National</td>\n",
       "      <td>On 22 July 2018, 2018 in Prizren, Kosovo, FEMa...</td>\n",
       "      <td>0</td>\n",
       "      <td>crowd size=no report</td>\n",
       "      <td>1652375197</td>\n",
       "    </tr>\n",
       "    <tr>\n",
       "      <th>4</th>\n",
       "      <td>XKX67</td>\n",
       "      <td>09-August-2018</td>\n",
       "      <td>2018</td>\n",
       "      <td>1</td>\n",
       "      <td>Demonstrations</td>\n",
       "      <td>Protests</td>\n",
       "      <td>Peaceful protest</td>\n",
       "      <td>Protesters (Kosovo)</td>\n",
       "      <td>Women (Kosovo)</td>\n",
       "      <td>6</td>\n",
       "      <td>...</td>\n",
       "      <td>Gjakova</td>\n",
       "      <td>42.380</td>\n",
       "      <td>20.431</td>\n",
       "      <td>1</td>\n",
       "      <td>Kallxo</td>\n",
       "      <td>National</td>\n",
       "      <td>On 9 August 2018, 2018 in Gjakova, Kosovo, cit...</td>\n",
       "      <td>0</td>\n",
       "      <td>NaN</td>\n",
       "      <td>1652375197</td>\n",
       "    </tr>\n",
       "    <tr>\n",
       "      <th>...</th>\n",
       "      <td>...</td>\n",
       "      <td>...</td>\n",
       "      <td>...</td>\n",
       "      <td>...</td>\n",
       "      <td>...</td>\n",
       "      <td>...</td>\n",
       "      <td>...</td>\n",
       "      <td>...</td>\n",
       "      <td>...</td>\n",
       "      <td>...</td>\n",
       "      <td>...</td>\n",
       "      <td>...</td>\n",
       "      <td>...</td>\n",
       "      <td>...</td>\n",
       "      <td>...</td>\n",
       "      <td>...</td>\n",
       "      <td>...</td>\n",
       "      <td>...</td>\n",
       "      <td>...</td>\n",
       "      <td>...</td>\n",
       "      <td>...</td>\n",
       "    </tr>\n",
       "    <tr>\n",
       "      <th>60229</th>\n",
       "      <td>ZAM1459</td>\n",
       "      <td>21-January-2022</td>\n",
       "      <td>2022</td>\n",
       "      <td>1</td>\n",
       "      <td>Political violence</td>\n",
       "      <td>Riots</td>\n",
       "      <td>Mob violence</td>\n",
       "      <td>Rioters (Zambia)</td>\n",
       "      <td>UPND Youth League: United Party for National D...</td>\n",
       "      <td>5</td>\n",
       "      <td>...</td>\n",
       "      <td>Kasama</td>\n",
       "      <td>-10.217</td>\n",
       "      <td>31.217</td>\n",
       "      <td>1</td>\n",
       "      <td>Daily Nation (Zambia); Lusaka Times; Zambia Re...</td>\n",
       "      <td>National</td>\n",
       "      <td>On 21 January 2022, five suspected UPND youths...</td>\n",
       "      <td>0</td>\n",
       "      <td>crowd size=5; women targeted: government offic...</td>\n",
       "      <td>1683058339</td>\n",
       "    </tr>\n",
       "    <tr>\n",
       "      <th>60230</th>\n",
       "      <td>ZAM1482</td>\n",
       "      <td>25-February-2022</td>\n",
       "      <td>2022</td>\n",
       "      <td>1</td>\n",
       "      <td>Political violence</td>\n",
       "      <td>Riots</td>\n",
       "      <td>Mob violence</td>\n",
       "      <td>Rioters (Zambia)</td>\n",
       "      <td>Students (Zambia)</td>\n",
       "      <td>5</td>\n",
       "      <td>...</td>\n",
       "      <td>Ndola</td>\n",
       "      <td>-12.967</td>\n",
       "      <td>28.633</td>\n",
       "      <td>1</td>\n",
       "      <td>Mwebantu; Zambia Reports</td>\n",
       "      <td>National</td>\n",
       "      <td>On 25 February 2022, a group of boys (assumed ...</td>\n",
       "      <td>0</td>\n",
       "      <td>crowd size=no report; women targeted: girls</td>\n",
       "      <td>1646691987</td>\n",
       "    </tr>\n",
       "    <tr>\n",
       "      <th>60231</th>\n",
       "      <td>ZAM1499</td>\n",
       "      <td>11-April-2022</td>\n",
       "      <td>2022</td>\n",
       "      <td>1</td>\n",
       "      <td>Demonstrations</td>\n",
       "      <td>Riots</td>\n",
       "      <td>Violent demonstration</td>\n",
       "      <td>Rioters (Zambia)</td>\n",
       "      <td>Women (Zambia); Students (Zambia)</td>\n",
       "      <td>5</td>\n",
       "      <td>...</td>\n",
       "      <td>Mporokoso</td>\n",
       "      <td>-9.371</td>\n",
       "      <td>30.122</td>\n",
       "      <td>1</td>\n",
       "      <td>Lusaka Times</td>\n",
       "      <td>National</td>\n",
       "      <td>On 11 April 2022, girls from Lunte Girls Secon...</td>\n",
       "      <td>0</td>\n",
       "      <td>crowd size=no report</td>\n",
       "      <td>1663032950</td>\n",
       "    </tr>\n",
       "    <tr>\n",
       "      <th>60232</th>\n",
       "      <td>ZAM1522</td>\n",
       "      <td>01-September-2022</td>\n",
       "      <td>2022</td>\n",
       "      <td>1</td>\n",
       "      <td>Political violence</td>\n",
       "      <td>Riots</td>\n",
       "      <td>Mob violence</td>\n",
       "      <td>Rioters (Zambia)</td>\n",
       "      <td>Vigilante Group (Zambia)</td>\n",
       "      <td>5</td>\n",
       "      <td>...</td>\n",
       "      <td>Chama</td>\n",
       "      <td>-11.213</td>\n",
       "      <td>33.152</td>\n",
       "      <td>1</td>\n",
       "      <td>Zambia Reports</td>\n",
       "      <td>National</td>\n",
       "      <td>On 1 September 2022, two men killed a woman ov...</td>\n",
       "      <td>1</td>\n",
       "      <td>crowd size=2; women targeted: accused of witch...</td>\n",
       "      <td>1663026147</td>\n",
       "    </tr>\n",
       "    <tr>\n",
       "      <th>60233</th>\n",
       "      <td>ZAM1578</td>\n",
       "      <td>30-May-2023</td>\n",
       "      <td>2023</td>\n",
       "      <td>2</td>\n",
       "      <td>Political violence</td>\n",
       "      <td>Violence against civilians</td>\n",
       "      <td>Sexual violence</td>\n",
       "      <td>Police Forces of Zambia (2021-)</td>\n",
       "      <td>NaN</td>\n",
       "      <td>1</td>\n",
       "      <td>...</td>\n",
       "      <td>Choma</td>\n",
       "      <td>-16.806</td>\n",
       "      <td>26.953</td>\n",
       "      <td>1</td>\n",
       "      <td>Zambia Reports</td>\n",
       "      <td>National</td>\n",
       "      <td>Around 30 May 2023 (as reported), a police off...</td>\n",
       "      <td>0</td>\n",
       "      <td>women targeted: girls</td>\n",
       "      <td>1686583461</td>\n",
       "    </tr>\n",
       "  </tbody>\n",
       "</table>\n",
       "<p>60234 rows × 31 columns</p>\n",
       "</div>"
      ],
      "text/plain": [
       "      EVENT_ID_CNTY         EVENT_DATE  YEAR  TIME_PRECISION  \\\n",
       "0             XKX12   14-February-2018  2018               1   \n",
       "1             XKX19      08-March-2018  2018               1   \n",
       "2             XKX35      20-April-2018  2018               2   \n",
       "3             XKX64       22-July-2018  2018               1   \n",
       "4             XKX67     09-August-2018  2018               1   \n",
       "...             ...                ...   ...             ...   \n",
       "60229       ZAM1459    21-January-2022  2022               1   \n",
       "60230       ZAM1482   25-February-2022  2022               1   \n",
       "60231       ZAM1499      11-April-2022  2022               1   \n",
       "60232       ZAM1522  01-September-2022  2022               1   \n",
       "60233       ZAM1578        30-May-2023  2023               2   \n",
       "\n",
       "            DISORDER_TYPE                  EVENT_TYPE         SUB_EVENT_TYPE  \\\n",
       "0          Demonstrations                    Protests       Peaceful protest   \n",
       "1          Demonstrations                    Protests       Peaceful protest   \n",
       "2      Political violence  Violence against civilians                 Attack   \n",
       "3          Demonstrations                    Protests       Peaceful protest   \n",
       "4          Demonstrations                    Protests       Peaceful protest   \n",
       "...                   ...                         ...                    ...   \n",
       "60229  Political violence                       Riots           Mob violence   \n",
       "60230  Political violence                       Riots           Mob violence   \n",
       "60231      Demonstrations                       Riots  Violent demonstration   \n",
       "60232  Political violence                       Riots           Mob violence   \n",
       "60233  Political violence  Violence against civilians        Sexual violence   \n",
       "\n",
       "                                  ACTOR1  \\\n",
       "0                    Protesters (Kosovo)   \n",
       "1                    Protesters (Kosovo)   \n",
       "2      Unidentified Armed Group (Kosovo)   \n",
       "3                    Protesters (Kosovo)   \n",
       "4                    Protesters (Kosovo)   \n",
       "...                                  ...   \n",
       "60229                   Rioters (Zambia)   \n",
       "60230                   Rioters (Zambia)   \n",
       "60231                   Rioters (Zambia)   \n",
       "60232                   Rioters (Zambia)   \n",
       "60233    Police Forces of Zambia (2021-)   \n",
       "\n",
       "                                           ASSOC_ACTOR_1  INTER1  ...  \\\n",
       "0                                         Women (Kosovo)       6  ...   \n",
       "1                                         Women (Kosovo)       6  ...   \n",
       "2                         Albanian Ethnic Group (Kosovo)       3  ...   \n",
       "3                                         Women (Kosovo)       6  ...   \n",
       "4                                         Women (Kosovo)       6  ...   \n",
       "...                                                  ...     ...  ...   \n",
       "60229  UPND Youth League: United Party for National D...       5  ...   \n",
       "60230                                  Students (Zambia)       5  ...   \n",
       "60231                  Women (Zambia); Students (Zambia)       5  ...   \n",
       "60232                           Vigilante Group (Zambia)       5  ...   \n",
       "60233                                                NaN       1  ...   \n",
       "\n",
       "              LOCATION LATITUDE  LONGITUDE  GEO_PRECISION  \\\n",
       "0             Pristina   42.667     21.172              1   \n",
       "1             Pristina   42.667     21.172              1   \n",
       "2      North Mitrovica   42.895     20.865              1   \n",
       "3             Shterpca   42.241     21.026              1   \n",
       "4              Gjakova   42.380     20.431              1   \n",
       "...                ...      ...        ...            ...   \n",
       "60229           Kasama  -10.217     31.217              1   \n",
       "60230            Ndola  -12.967     28.633              1   \n",
       "60231        Mporokoso   -9.371     30.122              1   \n",
       "60232            Chama  -11.213     33.152              1   \n",
       "60233            Choma  -16.806     26.953              1   \n",
       "\n",
       "                                                  SOURCE   SOURCE_SCALE  \\\n",
       "0                                                 Kallxo       National   \n",
       "1                                           Kosova Press       National   \n",
       "2                                       Vecernje Novosti  International   \n",
       "3                                           Kosova Press       National   \n",
       "4                                                 Kallxo       National   \n",
       "...                                                  ...            ...   \n",
       "60229  Daily Nation (Zambia); Lusaka Times; Zambia Re...       National   \n",
       "60230                           Mwebantu; Zambia Reports       National   \n",
       "60231                                       Lusaka Times       National   \n",
       "60232                                     Zambia Reports       National   \n",
       "60233                                     Zambia Reports       National   \n",
       "\n",
       "                                                   NOTES FATALITIES  \\\n",
       "0      On 14 February 2018, 2018 in Pristina, Kosovo,...          0   \n",
       "1      On 8 March 2018, in Kosovo capital Pristina, w...          0   \n",
       "2      As reported on April 20, 2018, female journali...          0   \n",
       "3      On 22 July 2018, 2018 in Prizren, Kosovo, FEMa...          0   \n",
       "4      On 9 August 2018, 2018 in Gjakova, Kosovo, cit...          0   \n",
       "...                                                  ...        ...   \n",
       "60229  On 21 January 2022, five suspected UPND youths...          0   \n",
       "60230  On 25 February 2022, a group of boys (assumed ...          0   \n",
       "60231  On 11 April 2022, girls from Lunte Girls Secon...          0   \n",
       "60232  On 1 September 2022, two men killed a woman ov...          1   \n",
       "60233  Around 30 May 2023 (as reported), a police off...          0   \n",
       "\n",
       "                                                    TAGS   TIMESTAMP  \n",
       "0                                                    NaN  1652375201  \n",
       "1                                                    NaN  1652899424  \n",
       "2                                                    NaN  1572403786  \n",
       "3                                   crowd size=no report  1652375197  \n",
       "4                                                    NaN  1652375197  \n",
       "...                                                  ...         ...  \n",
       "60229  crowd size=5; women targeted: government offic...  1683058339  \n",
       "60230        crowd size=no report; women targeted: girls  1646691987  \n",
       "60231                               crowd size=no report  1663032950  \n",
       "60232  crowd size=2; women targeted: accused of witch...  1663026147  \n",
       "60233                              women targeted: girls  1686583461  \n",
       "\n",
       "[60234 rows x 31 columns]"
      ]
     },
     "execution_count": 2,
     "metadata": {},
     "output_type": "execute_result"
    }
   ],
   "source": [
    "#get data\n",
    "df = pd.read_csv(csv_path)\n",
    "df"
   ]
  },
  {
   "cell_type": "code",
   "execution_count": 68,
   "metadata": {},
   "outputs": [
    {
     "ename": "KeyError",
     "evalue": "'DISORDER_TYPE'",
     "output_type": "error",
     "traceback": [
      "\u001b[0;31m---------------------------------------------------------------------------\u001b[0m",
      "\u001b[0;31mKeyError\u001b[0m                                  Traceback (most recent call last)",
      "\u001b[0;32m/var/folders/ks/nvwnsjxx73sfdyfzgxxlgscw0000gn/T/ipykernel_56836/4011150699.py\u001b[0m in \u001b[0;36m<module>\u001b[0;34m\u001b[0m\n\u001b[1;32m      1\u001b[0m \u001b[0;31m#groupby demonstration_typee\u001b[0m\u001b[0;34m\u001b[0m\u001b[0;34m\u001b[0m\u001b[0m\n\u001b[0;32m----> 2\u001b[0;31m \u001b[0mdisorder_type\u001b[0m \u001b[0;34m=\u001b[0m \u001b[0mdf\u001b[0m\u001b[0;34m.\u001b[0m\u001b[0mgroupby\u001b[0m\u001b[0;34m(\u001b[0m\u001b[0;34m\"DISORDER_TYPE\"\u001b[0m\u001b[0;34m)\u001b[0m\u001b[0;34m\u001b[0m\u001b[0;34m\u001b[0m\u001b[0m\n\u001b[0m",
      "\u001b[0;32m~/opt/anaconda3/lib/python3.9/site-packages/pandas/core/frame.py\u001b[0m in \u001b[0;36mgroupby\u001b[0;34m(self, by, axis, level, as_index, sort, group_keys, observed, dropna)\u001b[0m\n\u001b[1;32m   8250\u001b[0m         \u001b[0maxis\u001b[0m \u001b[0;34m=\u001b[0m \u001b[0mself\u001b[0m\u001b[0;34m.\u001b[0m\u001b[0m_get_axis_number\u001b[0m\u001b[0;34m(\u001b[0m\u001b[0maxis\u001b[0m\u001b[0;34m)\u001b[0m\u001b[0;34m\u001b[0m\u001b[0;34m\u001b[0m\u001b[0m\n\u001b[1;32m   8251\u001b[0m \u001b[0;34m\u001b[0m\u001b[0m\n\u001b[0;32m-> 8252\u001b[0;31m         return DataFrameGroupBy(\n\u001b[0m\u001b[1;32m   8253\u001b[0m             \u001b[0mobj\u001b[0m\u001b[0;34m=\u001b[0m\u001b[0mself\u001b[0m\u001b[0;34m,\u001b[0m\u001b[0;34m\u001b[0m\u001b[0;34m\u001b[0m\u001b[0m\n\u001b[1;32m   8254\u001b[0m             \u001b[0mkeys\u001b[0m\u001b[0;34m=\u001b[0m\u001b[0mby\u001b[0m\u001b[0;34m,\u001b[0m\u001b[0;34m\u001b[0m\u001b[0;34m\u001b[0m\u001b[0m\n",
      "\u001b[0;32m~/opt/anaconda3/lib/python3.9/site-packages/pandas/core/groupby/groupby.py\u001b[0m in \u001b[0;36m__init__\u001b[0;34m(self, obj, keys, axis, level, grouper, exclusions, selection, as_index, sort, group_keys, observed, dropna)\u001b[0m\n\u001b[1;32m    929\u001b[0m \u001b[0;34m\u001b[0m\u001b[0m\n\u001b[1;32m    930\u001b[0m         \u001b[0;32mif\u001b[0m \u001b[0mgrouper\u001b[0m \u001b[0;32mis\u001b[0m \u001b[0;32mNone\u001b[0m\u001b[0;34m:\u001b[0m\u001b[0;34m\u001b[0m\u001b[0;34m\u001b[0m\u001b[0m\n\u001b[0;32m--> 931\u001b[0;31m             grouper, exclusions, obj = get_grouper(\n\u001b[0m\u001b[1;32m    932\u001b[0m                 \u001b[0mobj\u001b[0m\u001b[0;34m,\u001b[0m\u001b[0;34m\u001b[0m\u001b[0;34m\u001b[0m\u001b[0m\n\u001b[1;32m    933\u001b[0m                 \u001b[0mkeys\u001b[0m\u001b[0;34m,\u001b[0m\u001b[0;34m\u001b[0m\u001b[0;34m\u001b[0m\u001b[0m\n",
      "\u001b[0;32m~/opt/anaconda3/lib/python3.9/site-packages/pandas/core/groupby/grouper.py\u001b[0m in \u001b[0;36mget_grouper\u001b[0;34m(obj, key, axis, level, sort, observed, validate, dropna)\u001b[0m\n\u001b[1;32m    983\u001b[0m                 \u001b[0min_axis\u001b[0m\u001b[0;34m,\u001b[0m \u001b[0mlevel\u001b[0m\u001b[0;34m,\u001b[0m \u001b[0mgpr\u001b[0m \u001b[0;34m=\u001b[0m \u001b[0;32mFalse\u001b[0m\u001b[0;34m,\u001b[0m \u001b[0mgpr\u001b[0m\u001b[0;34m,\u001b[0m \u001b[0;32mNone\u001b[0m\u001b[0;34m\u001b[0m\u001b[0;34m\u001b[0m\u001b[0m\n\u001b[1;32m    984\u001b[0m             \u001b[0;32melse\u001b[0m\u001b[0;34m:\u001b[0m\u001b[0;34m\u001b[0m\u001b[0;34m\u001b[0m\u001b[0m\n\u001b[0;32m--> 985\u001b[0;31m                 \u001b[0;32mraise\u001b[0m \u001b[0mKeyError\u001b[0m\u001b[0;34m(\u001b[0m\u001b[0mgpr\u001b[0m\u001b[0;34m)\u001b[0m\u001b[0;34m\u001b[0m\u001b[0;34m\u001b[0m\u001b[0m\n\u001b[0m\u001b[1;32m    986\u001b[0m         \u001b[0;32melif\u001b[0m \u001b[0misinstance\u001b[0m\u001b[0;34m(\u001b[0m\u001b[0mgpr\u001b[0m\u001b[0;34m,\u001b[0m \u001b[0mGrouper\u001b[0m\u001b[0;34m)\u001b[0m \u001b[0;32mand\u001b[0m \u001b[0mgpr\u001b[0m\u001b[0;34m.\u001b[0m\u001b[0mkey\u001b[0m \u001b[0;32mis\u001b[0m \u001b[0;32mnot\u001b[0m \u001b[0;32mNone\u001b[0m\u001b[0;34m:\u001b[0m\u001b[0;34m\u001b[0m\u001b[0;34m\u001b[0m\u001b[0m\n\u001b[1;32m    987\u001b[0m             \u001b[0;31m# Add key to exclusions\u001b[0m\u001b[0;34m\u001b[0m\u001b[0;34m\u001b[0m\u001b[0m\n",
      "\u001b[0;31mKeyError\u001b[0m: 'DISORDER_TYPE'"
     ]
    }
   ],
   "source": [
    "#groupby demonstration_typee\n",
    "disorder_type = df.groupby(\"DISORDER_TYPE\")\n"
   ]
  },
  {
   "cell_type": "code",
   "execution_count": null,
   "metadata": {},
   "outputs": [
    {
     "data": {
      "text/plain": [
       "DISORDER_TYPE\n",
       "Demonstrations                        41812\n",
       "Political violence                    17170\n",
       "Political violence; Demonstrations      181\n",
       "Strategic developments                 1071\n",
       "Name: DISORDER_TYPE, dtype: int64"
      ]
     },
     "execution_count": 4,
     "metadata": {},
     "output_type": "execute_result"
    }
   ],
   "source": [
    "#get count of disorder_types \n",
    "disorder_type_count = disorder_type[\"DISORDER_TYPE\"].count()\n",
    "disorder_type_count"
   ]
  },
  {
   "cell_type": "code",
   "execution_count": null,
   "metadata": {},
   "outputs": [
    {
     "data": {
      "text/plain": [
       "DISORDER_TYPE           COUNTRY      \n",
       "Demonstrations          United States    5624\n",
       "                        India            5413\n",
       "                        Turkey           2492\n",
       "                        Mexico           2426\n",
       "                        South Korea      1951\n",
       "                                         ... \n",
       "Strategic developments  Thailand            1\n",
       "                        Turkmenistan        1\n",
       "                        Uganda              1\n",
       "                        Uzbekistan          1\n",
       "                        Zimbabwe            1\n",
       "Name: COUNTRY, Length: 450, dtype: int64"
      ]
     },
     "execution_count": 5,
     "metadata": {},
     "output_type": "execute_result"
    }
   ],
   "source": [
    "disorder_type[\"COUNTRY\"].value_counts()"
   ]
  },
  {
   "cell_type": "code",
   "execution_count": null,
   "metadata": {},
   "outputs": [
    {
     "data": {
      "text/html": [
       "<div>\n",
       "<style scoped>\n",
       "    .dataframe tbody tr th:only-of-type {\n",
       "        vertical-align: middle;\n",
       "    }\n",
       "\n",
       "    .dataframe tbody tr th {\n",
       "        vertical-align: top;\n",
       "    }\n",
       "\n",
       "    .dataframe thead th {\n",
       "        text-align: right;\n",
       "    }\n",
       "</style>\n",
       "<table border=\"1\" class=\"dataframe\">\n",
       "  <thead>\n",
       "    <tr style=\"text-align: right;\">\n",
       "      <th>DISORDER_TYPE</th>\n",
       "      <th>Demonstrations</th>\n",
       "      <th>Political violence</th>\n",
       "      <th>Political violence; Demonstrations</th>\n",
       "      <th>Strategic developments</th>\n",
       "      <th>All</th>\n",
       "    </tr>\n",
       "    <tr>\n",
       "      <th>COUNTRY</th>\n",
       "      <th></th>\n",
       "      <th></th>\n",
       "      <th></th>\n",
       "      <th></th>\n",
       "      <th></th>\n",
       "    </tr>\n",
       "  </thead>\n",
       "  <tbody>\n",
       "    <tr>\n",
       "      <th>Afghanistan</th>\n",
       "      <td>243</td>\n",
       "      <td>219</td>\n",
       "      <td>4</td>\n",
       "      <td>38</td>\n",
       "      <td>504</td>\n",
       "    </tr>\n",
       "    <tr>\n",
       "      <th>Albania</th>\n",
       "      <td>32</td>\n",
       "      <td>1</td>\n",
       "      <td>0</td>\n",
       "      <td>0</td>\n",
       "      <td>33</td>\n",
       "    </tr>\n",
       "    <tr>\n",
       "      <th>Algeria</th>\n",
       "      <td>56</td>\n",
       "      <td>13</td>\n",
       "      <td>1</td>\n",
       "      <td>0</td>\n",
       "      <td>70</td>\n",
       "    </tr>\n",
       "    <tr>\n",
       "      <th>Andorra</th>\n",
       "      <td>4</td>\n",
       "      <td>0</td>\n",
       "      <td>0</td>\n",
       "      <td>0</td>\n",
       "      <td>4</td>\n",
       "    </tr>\n",
       "    <tr>\n",
       "      <th>Angola</th>\n",
       "      <td>25</td>\n",
       "      <td>26</td>\n",
       "      <td>0</td>\n",
       "      <td>0</td>\n",
       "      <td>51</td>\n",
       "    </tr>\n",
       "    <tr>\n",
       "      <th>...</th>\n",
       "      <td>...</td>\n",
       "      <td>...</td>\n",
       "      <td>...</td>\n",
       "      <td>...</td>\n",
       "      <td>...</td>\n",
       "    </tr>\n",
       "    <tr>\n",
       "      <th>Yemen</th>\n",
       "      <td>316</td>\n",
       "      <td>276</td>\n",
       "      <td>4</td>\n",
       "      <td>17</td>\n",
       "      <td>613</td>\n",
       "    </tr>\n",
       "    <tr>\n",
       "      <th>Zambia</th>\n",
       "      <td>4</td>\n",
       "      <td>35</td>\n",
       "      <td>0</td>\n",
       "      <td>0</td>\n",
       "      <td>39</td>\n",
       "    </tr>\n",
       "    <tr>\n",
       "      <th>Zimbabwe</th>\n",
       "      <td>103</td>\n",
       "      <td>181</td>\n",
       "      <td>20</td>\n",
       "      <td>1</td>\n",
       "      <td>305</td>\n",
       "    </tr>\n",
       "    <tr>\n",
       "      <th>eSwatini</th>\n",
       "      <td>15</td>\n",
       "      <td>20</td>\n",
       "      <td>1</td>\n",
       "      <td>0</td>\n",
       "      <td>36</td>\n",
       "    </tr>\n",
       "    <tr>\n",
       "      <th>All</th>\n",
       "      <td>41812</td>\n",
       "      <td>17170</td>\n",
       "      <td>181</td>\n",
       "      <td>1071</td>\n",
       "      <td>60234</td>\n",
       "    </tr>\n",
       "  </tbody>\n",
       "</table>\n",
       "<p>190 rows × 5 columns</p>\n",
       "</div>"
      ],
      "text/plain": [
       "DISORDER_TYPE  Demonstrations  Political violence  \\\n",
       "COUNTRY                                             \n",
       "Afghanistan               243                 219   \n",
       "Albania                    32                   1   \n",
       "Algeria                    56                  13   \n",
       "Andorra                     4                   0   \n",
       "Angola                     25                  26   \n",
       "...                       ...                 ...   \n",
       "Yemen                     316                 276   \n",
       "Zambia                      4                  35   \n",
       "Zimbabwe                  103                 181   \n",
       "eSwatini                   15                  20   \n",
       "All                     41812               17170   \n",
       "\n",
       "DISORDER_TYPE  Political violence; Demonstrations  Strategic developments  \\\n",
       "COUNTRY                                                                     \n",
       "Afghanistan                                     4                      38   \n",
       "Albania                                         0                       0   \n",
       "Algeria                                         1                       0   \n",
       "Andorra                                         0                       0   \n",
       "Angola                                          0                       0   \n",
       "...                                           ...                     ...   \n",
       "Yemen                                           4                      17   \n",
       "Zambia                                          0                       0   \n",
       "Zimbabwe                                       20                       1   \n",
       "eSwatini                                        1                       0   \n",
       "All                                           181                    1071   \n",
       "\n",
       "DISORDER_TYPE    All  \n",
       "COUNTRY               \n",
       "Afghanistan      504  \n",
       "Albania           33  \n",
       "Algeria           70  \n",
       "Andorra            4  \n",
       "Angola            51  \n",
       "...              ...  \n",
       "Yemen            613  \n",
       "Zambia            39  \n",
       "Zimbabwe         305  \n",
       "eSwatini          36  \n",
       "All            60234  \n",
       "\n",
       "[190 rows x 5 columns]"
      ]
     },
     "execution_count": 6,
     "metadata": {},
     "output_type": "execute_result"
    }
   ],
   "source": [
    "countryDf = pd.crosstab(df[\"COUNTRY\"], df[\"DISORDER_TYPE\"], margins=True)\n",
    "countryDf\n"
   ]
  },
  {
   "cell_type": "code",
   "execution_count": null,
   "metadata": {},
   "outputs": [
    {
     "data": {
      "text/html": [
       "<div>\n",
       "<style scoped>\n",
       "    .dataframe tbody tr th:only-of-type {\n",
       "        vertical-align: middle;\n",
       "    }\n",
       "\n",
       "    .dataframe tbody tr th {\n",
       "        vertical-align: top;\n",
       "    }\n",
       "\n",
       "    .dataframe thead th {\n",
       "        text-align: right;\n",
       "    }\n",
       "</style>\n",
       "<table border=\"1\" class=\"dataframe\">\n",
       "  <thead>\n",
       "    <tr style=\"text-align: right;\">\n",
       "      <th>DISORDER_TYPE</th>\n",
       "      <th>Demonstrations</th>\n",
       "      <th>Political violence</th>\n",
       "      <th>Political violence; Demonstrations</th>\n",
       "      <th>Strategic developments</th>\n",
       "      <th>All</th>\n",
       "    </tr>\n",
       "    <tr>\n",
       "      <th>COUNTRY</th>\n",
       "      <th></th>\n",
       "      <th></th>\n",
       "      <th></th>\n",
       "      <th></th>\n",
       "      <th></th>\n",
       "    </tr>\n",
       "  </thead>\n",
       "  <tbody>\n",
       "    <tr>\n",
       "      <th>All</th>\n",
       "      <td>41812</td>\n",
       "      <td>17170</td>\n",
       "      <td>181</td>\n",
       "      <td>1071</td>\n",
       "      <td>60234</td>\n",
       "    </tr>\n",
       "    <tr>\n",
       "      <th>India</th>\n",
       "      <td>5413</td>\n",
       "      <td>817</td>\n",
       "      <td>10</td>\n",
       "      <td>7</td>\n",
       "      <td>6247</td>\n",
       "    </tr>\n",
       "    <tr>\n",
       "      <th>United States</th>\n",
       "      <td>5624</td>\n",
       "      <td>86</td>\n",
       "      <td>6</td>\n",
       "      <td>31</td>\n",
       "      <td>5747</td>\n",
       "    </tr>\n",
       "    <tr>\n",
       "      <th>Mexico</th>\n",
       "      <td>2426</td>\n",
       "      <td>2739</td>\n",
       "      <td>2</td>\n",
       "      <td>6</td>\n",
       "      <td>5173</td>\n",
       "    </tr>\n",
       "    <tr>\n",
       "      <th>Turkey</th>\n",
       "      <td>2492</td>\n",
       "      <td>38</td>\n",
       "      <td>0</td>\n",
       "      <td>5</td>\n",
       "      <td>2535</td>\n",
       "    </tr>\n",
       "    <tr>\n",
       "      <th>Iran</th>\n",
       "      <td>1909</td>\n",
       "      <td>23</td>\n",
       "      <td>43</td>\n",
       "      <td>179</td>\n",
       "      <td>2154</td>\n",
       "    </tr>\n",
       "    <tr>\n",
       "      <th>Brazil</th>\n",
       "      <td>669</td>\n",
       "      <td>1327</td>\n",
       "      <td>1</td>\n",
       "      <td>4</td>\n",
       "      <td>2001</td>\n",
       "    </tr>\n",
       "    <tr>\n",
       "      <th>South Korea</th>\n",
       "      <td>1951</td>\n",
       "      <td>1</td>\n",
       "      <td>0</td>\n",
       "      <td>0</td>\n",
       "      <td>1952</td>\n",
       "    </tr>\n",
       "    <tr>\n",
       "      <th>Poland</th>\n",
       "      <td>1730</td>\n",
       "      <td>0</td>\n",
       "      <td>0</td>\n",
       "      <td>0</td>\n",
       "      <td>1730</td>\n",
       "    </tr>\n",
       "    <tr>\n",
       "      <th>Pakistan</th>\n",
       "      <td>1391</td>\n",
       "      <td>194</td>\n",
       "      <td>1</td>\n",
       "      <td>4</td>\n",
       "      <td>1590</td>\n",
       "    </tr>\n",
       "  </tbody>\n",
       "</table>\n",
       "</div>"
      ],
      "text/plain": [
       "DISORDER_TYPE  Demonstrations  Political violence  \\\n",
       "COUNTRY                                             \n",
       "All                     41812               17170   \n",
       "India                    5413                 817   \n",
       "United States            5624                  86   \n",
       "Mexico                   2426                2739   \n",
       "Turkey                   2492                  38   \n",
       "Iran                     1909                  23   \n",
       "Brazil                    669                1327   \n",
       "South Korea              1951                   1   \n",
       "Poland                   1730                   0   \n",
       "Pakistan                 1391                 194   \n",
       "\n",
       "DISORDER_TYPE  Political violence; Demonstrations  Strategic developments  \\\n",
       "COUNTRY                                                                     \n",
       "All                                           181                    1071   \n",
       "India                                          10                       7   \n",
       "United States                                   6                      31   \n",
       "Mexico                                          2                       6   \n",
       "Turkey                                          0                       5   \n",
       "Iran                                           43                     179   \n",
       "Brazil                                          1                       4   \n",
       "South Korea                                     0                       0   \n",
       "Poland                                          0                       0   \n",
       "Pakistan                                        1                       4   \n",
       "\n",
       "DISORDER_TYPE    All  \n",
       "COUNTRY               \n",
       "All            60234  \n",
       "India           6247  \n",
       "United States   5747  \n",
       "Mexico          5173  \n",
       "Turkey          2535  \n",
       "Iran            2154  \n",
       "Brazil          2001  \n",
       "South Korea     1952  \n",
       "Poland          1730  \n",
       "Pakistan        1590  "
      ]
     },
     "execution_count": 7,
     "metadata": {},
     "output_type": "execute_result"
    }
   ],
   "source": [
    "# get maximum value of countries with disorder types\n",
    "maxDisorder = countryDf.sort_values(by=\"All\", ascending=False).head(10)\n",
    "maxDisorder\n",
    "#get populations of countries to seee if any countries have a disporortionate amount of demonstrations "
   ]
  },
  {
   "cell_type": "code",
   "execution_count": null,
   "metadata": {},
   "outputs": [
    {
     "data": {
      "text/plain": [
       "DISORDER_TYPE\n",
       "Demonstrations                        [Kosovo, Afghanistan, Albania, Algeria, Andorr...\n",
       "Political violence                    [Kosovo, Afghanistan, Albania, Algeria, Angola...\n",
       "Political violence; Demonstrations    [Afghanistan, Algeria, Argentina, Bangladesh, ...\n",
       "Strategic developments                [Kosovo, Afghanistan, Argentina, Bahrain, Bang...\n",
       "Name: COUNTRY, dtype: object"
      ]
     },
     "execution_count": 8,
     "metadata": {},
     "output_type": "execute_result"
    }
   ],
   "source": [
    "# get countries of disoder_type\n",
    "disorder_type_country = disorder_type[\"COUNTRY\"].unique()\n",
    "disorder_type_country"
   ]
  },
  {
   "cell_type": "markdown",
   "metadata": {},
   "source": []
  },
  {
   "cell_type": "code",
   "execution_count": null,
   "metadata": {},
   "outputs": [
    {
     "data": {
      "text/plain": [
       "DISORDER_TYPE\n",
       "Demonstrations                        184\n",
       "Political violence                    150\n",
       "Political violence; Demonstrations     40\n",
       "Strategic developments                 76\n",
       "Name: COUNTRY, dtype: int64"
      ]
     },
     "execution_count": 9,
     "metadata": {},
     "output_type": "execute_result"
    }
   ],
   "source": [
    "#get number of countries disorder_type\n",
    "disorder_type_country_count = disorder_type_country.str.len()\n",
    "disorder_type_country_count"
   ]
  },
  {
   "cell_type": "code",
   "execution_count": null,
   "metadata": {},
   "outputs": [],
   "source": [
    "#plotly bar chart\n",
    "\n",
    "\n",
    "\n",
    "# disorder_type.hist(column=\"YEAR\", bins=10)\n"
   ]
  },
  {
   "cell_type": "code",
   "execution_count": null,
   "metadata": {},
   "outputs": [],
   "source": []
  },
  {
   "cell_type": "code",
   "execution_count": null,
   "metadata": {},
   "outputs": [],
   "source": [
    "#Now let's import the data from worldbankpopulation.csv\n",
    "worldbankdata = \"data/worldbankpopulation.csv\""
   ]
  },
  {
   "cell_type": "code",
   "execution_count": null,
   "metadata": {},
   "outputs": [
    {
     "data": {
      "text/html": [
       "<div>\n",
       "<style scoped>\n",
       "    .dataframe tbody tr th:only-of-type {\n",
       "        vertical-align: middle;\n",
       "    }\n",
       "\n",
       "    .dataframe tbody tr th {\n",
       "        vertical-align: top;\n",
       "    }\n",
       "\n",
       "    .dataframe thead th {\n",
       "        text-align: right;\n",
       "    }\n",
       "</style>\n",
       "<table border=\"1\" class=\"dataframe\">\n",
       "  <thead>\n",
       "    <tr style=\"text-align: right;\">\n",
       "      <th></th>\n",
       "      <th>Series Name</th>\n",
       "      <th>Series Code</th>\n",
       "      <th>Country Name</th>\n",
       "      <th>Country Code</th>\n",
       "      <th>1990 [YR1990]</th>\n",
       "      <th>2000 [YR2000]</th>\n",
       "      <th>2013 [YR2013]</th>\n",
       "      <th>2014 [YR2014]</th>\n",
       "      <th>2015 [YR2015]</th>\n",
       "      <th>2016 [YR2016]</th>\n",
       "      <th>2017 [YR2017]</th>\n",
       "      <th>2018 [YR2018]</th>\n",
       "      <th>2019 [YR2019]</th>\n",
       "      <th>2020 [YR2020]</th>\n",
       "      <th>2021 [YR2021]</th>\n",
       "      <th>2022 [YR2022]</th>\n",
       "    </tr>\n",
       "  </thead>\n",
       "  <tbody>\n",
       "    <tr>\n",
       "      <th>0</th>\n",
       "      <td>Population, total</td>\n",
       "      <td>SP.POP.TOTL</td>\n",
       "      <td>Afghanistan</td>\n",
       "      <td>AFG</td>\n",
       "      <td>10694796</td>\n",
       "      <td>19542982</td>\n",
       "      <td>31541209</td>\n",
       "      <td>32716210</td>\n",
       "      <td>33753499</td>\n",
       "      <td>34636207</td>\n",
       "      <td>35643418</td>\n",
       "      <td>36686784</td>\n",
       "      <td>37769499</td>\n",
       "      <td>38972230</td>\n",
       "      <td>40099462</td>\n",
       "      <td>41128771</td>\n",
       "    </tr>\n",
       "    <tr>\n",
       "      <th>1</th>\n",
       "      <td>Population, total</td>\n",
       "      <td>SP.POP.TOTL</td>\n",
       "      <td>Albania</td>\n",
       "      <td>ALB</td>\n",
       "      <td>3286542</td>\n",
       "      <td>3089027</td>\n",
       "      <td>2895092</td>\n",
       "      <td>2889104</td>\n",
       "      <td>2880703</td>\n",
       "      <td>2876101</td>\n",
       "      <td>2873457</td>\n",
       "      <td>2866376</td>\n",
       "      <td>2854191</td>\n",
       "      <td>2837849</td>\n",
       "      <td>2811666</td>\n",
       "      <td>2775634</td>\n",
       "    </tr>\n",
       "    <tr>\n",
       "      <th>2</th>\n",
       "      <td>Population, total</td>\n",
       "      <td>SP.POP.TOTL</td>\n",
       "      <td>Algeria</td>\n",
       "      <td>DZA</td>\n",
       "      <td>25518074</td>\n",
       "      <td>30774621</td>\n",
       "      <td>38000626</td>\n",
       "      <td>38760168</td>\n",
       "      <td>39543154</td>\n",
       "      <td>40339329</td>\n",
       "      <td>41136546</td>\n",
       "      <td>41927007</td>\n",
       "      <td>42705368</td>\n",
       "      <td>43451666</td>\n",
       "      <td>44177969</td>\n",
       "      <td>44903225</td>\n",
       "    </tr>\n",
       "    <tr>\n",
       "      <th>3</th>\n",
       "      <td>Population, total</td>\n",
       "      <td>SP.POP.TOTL</td>\n",
       "      <td>American Samoa</td>\n",
       "      <td>ASM</td>\n",
       "      <td>47818</td>\n",
       "      <td>58230</td>\n",
       "      <td>52995</td>\n",
       "      <td>52217</td>\n",
       "      <td>51368</td>\n",
       "      <td>50448</td>\n",
       "      <td>49463</td>\n",
       "      <td>48424</td>\n",
       "      <td>47321</td>\n",
       "      <td>46189</td>\n",
       "      <td>45035</td>\n",
       "      <td>44273</td>\n",
       "    </tr>\n",
       "    <tr>\n",
       "      <th>4</th>\n",
       "      <td>Population, total</td>\n",
       "      <td>SP.POP.TOTL</td>\n",
       "      <td>Andorra</td>\n",
       "      <td>AND</td>\n",
       "      <td>53569</td>\n",
       "      <td>66097</td>\n",
       "      <td>71367</td>\n",
       "      <td>71621</td>\n",
       "      <td>71746</td>\n",
       "      <td>72540</td>\n",
       "      <td>73837</td>\n",
       "      <td>75013</td>\n",
       "      <td>76343</td>\n",
       "      <td>77700</td>\n",
       "      <td>79034</td>\n",
       "      <td>79824</td>\n",
       "    </tr>\n",
       "  </tbody>\n",
       "</table>\n",
       "</div>"
      ],
      "text/plain": [
       "         Series Name  Series Code    Country Name Country Code 1990 [YR1990]  \\\n",
       "0  Population, total  SP.POP.TOTL     Afghanistan          AFG      10694796   \n",
       "1  Population, total  SP.POP.TOTL         Albania          ALB       3286542   \n",
       "2  Population, total  SP.POP.TOTL         Algeria          DZA      25518074   \n",
       "3  Population, total  SP.POP.TOTL  American Samoa          ASM         47818   \n",
       "4  Population, total  SP.POP.TOTL         Andorra          AND         53569   \n",
       "\n",
       "  2000 [YR2000] 2013 [YR2013] 2014 [YR2014] 2015 [YR2015] 2016 [YR2016]  \\\n",
       "0      19542982      31541209      32716210      33753499      34636207   \n",
       "1       3089027       2895092       2889104       2880703       2876101   \n",
       "2      30774621      38000626      38760168      39543154      40339329   \n",
       "3         58230         52995         52217         51368         50448   \n",
       "4         66097         71367         71621         71746         72540   \n",
       "\n",
       "  2017 [YR2017] 2018 [YR2018] 2019 [YR2019] 2020 [YR2020] 2021 [YR2021]  \\\n",
       "0      35643418      36686784      37769499      38972230      40099462   \n",
       "1       2873457       2866376       2854191       2837849       2811666   \n",
       "2      41136546      41927007      42705368      43451666      44177969   \n",
       "3         49463         48424         47321         46189         45035   \n",
       "4         73837         75013         76343         77700         79034   \n",
       "\n",
       "  2022 [YR2022]  \n",
       "0      41128771  \n",
       "1       2775634  \n",
       "2      44903225  \n",
       "3         44273  \n",
       "4         79824  "
      ]
     },
     "execution_count": 12,
     "metadata": {},
     "output_type": "execute_result"
    }
   ],
   "source": [
    "#let's make the data into a dataframe\n",
    "worldbank_df = pd.read_csv(worldbankdata)\n",
    "worldbank_df.head()"
   ]
  },
  {
   "cell_type": "code",
   "execution_count": null,
   "metadata": {},
   "outputs": [
    {
     "data": {
      "text/html": [
       "<div>\n",
       "<style scoped>\n",
       "    .dataframe tbody tr th:only-of-type {\n",
       "        vertical-align: middle;\n",
       "    }\n",
       "\n",
       "    .dataframe tbody tr th {\n",
       "        vertical-align: top;\n",
       "    }\n",
       "\n",
       "    .dataframe thead th {\n",
       "        text-align: right;\n",
       "    }\n",
       "</style>\n",
       "<table border=\"1\" class=\"dataframe\">\n",
       "  <thead>\n",
       "    <tr style=\"text-align: right;\">\n",
       "      <th></th>\n",
       "      <th>Series Name</th>\n",
       "      <th>Series Code</th>\n",
       "      <th>Country Name</th>\n",
       "      <th>Country Code</th>\n",
       "      <th>1990 [YR1990]</th>\n",
       "      <th>2000 [YR2000]</th>\n",
       "      <th>2013 [YR2013]</th>\n",
       "      <th>2014 [YR2014]</th>\n",
       "      <th>2015 [YR2015]</th>\n",
       "      <th>2016 [YR2016]</th>\n",
       "      <th>2017 [YR2017]</th>\n",
       "      <th>2018 [YR2018]</th>\n",
       "      <th>2019 [YR2019]</th>\n",
       "      <th>2020 [YR2020]</th>\n",
       "      <th>2021 [YR2021]</th>\n",
       "      <th>2022 [YR2022]</th>\n",
       "    </tr>\n",
       "  </thead>\n",
       "  <tbody>\n",
       "    <tr>\n",
       "      <th>26</th>\n",
       "      <td>Population, total</td>\n",
       "      <td>SP.POP.TOTL</td>\n",
       "      <td>Brazil</td>\n",
       "      <td>BRA</td>\n",
       "      <td>150706446</td>\n",
       "      <td>175873720</td>\n",
       "      <td>201721767</td>\n",
       "      <td>203459650</td>\n",
       "      <td>205188205</td>\n",
       "      <td>206859578</td>\n",
       "      <td>208504960</td>\n",
       "      <td>210166592</td>\n",
       "      <td>211782878</td>\n",
       "      <td>213196304</td>\n",
       "      <td>214326223</td>\n",
       "      <td>215313498</td>\n",
       "    </tr>\n",
       "    <tr>\n",
       "      <th>89</th>\n",
       "      <td>Population, total</td>\n",
       "      <td>SP.POP.TOTL</td>\n",
       "      <td>India</td>\n",
       "      <td>IND</td>\n",
       "      <td>870452165</td>\n",
       "      <td>1059633675</td>\n",
       "      <td>1291132063</td>\n",
       "      <td>1307246509</td>\n",
       "      <td>1322866505</td>\n",
       "      <td>1338636340</td>\n",
       "      <td>1354195680</td>\n",
       "      <td>1369003306</td>\n",
       "      <td>1383112050</td>\n",
       "      <td>1396387127</td>\n",
       "      <td>1407563842</td>\n",
       "      <td>1417173173</td>\n",
       "    </tr>\n",
       "    <tr>\n",
       "      <th>91</th>\n",
       "      <td>Population, total</td>\n",
       "      <td>SP.POP.TOTL</td>\n",
       "      <td>Iran, Islamic Rep.</td>\n",
       "      <td>IRN</td>\n",
       "      <td>55793629</td>\n",
       "      <td>65544383</td>\n",
       "      <td>78458928</td>\n",
       "      <td>79961672</td>\n",
       "      <td>81790841</td>\n",
       "      <td>83306231</td>\n",
       "      <td>84505076</td>\n",
       "      <td>85617562</td>\n",
       "      <td>86564202</td>\n",
       "      <td>87290193</td>\n",
       "      <td>87923432</td>\n",
       "      <td>88550570</td>\n",
       "    </tr>\n",
       "    <tr>\n",
       "      <th>127</th>\n",
       "      <td>Population, total</td>\n",
       "      <td>SP.POP.TOTL</td>\n",
       "      <td>Mexico</td>\n",
       "      <td>MEX</td>\n",
       "      <td>81720428</td>\n",
       "      <td>97873442</td>\n",
       "      <td>117290686</td>\n",
       "      <td>118755887</td>\n",
       "      <td>120149897</td>\n",
       "      <td>121519221</td>\n",
       "      <td>122839258</td>\n",
       "      <td>124013861</td>\n",
       "      <td>125085311</td>\n",
       "      <td>125998302</td>\n",
       "      <td>126705138</td>\n",
       "      <td>127504125</td>\n",
       "    </tr>\n",
       "    <tr>\n",
       "      <th>198</th>\n",
       "      <td>Population, total</td>\n",
       "      <td>SP.POP.TOTL</td>\n",
       "      <td>Turkiye</td>\n",
       "      <td>TUR</td>\n",
       "      <td>54324142</td>\n",
       "      <td>64113547</td>\n",
       "      <td>76576117</td>\n",
       "      <td>78112073</td>\n",
       "      <td>79646178</td>\n",
       "      <td>81019394</td>\n",
       "      <td>82089826</td>\n",
       "      <td>82809304</td>\n",
       "      <td>83481684</td>\n",
       "      <td>84135428</td>\n",
       "      <td>84775404</td>\n",
       "      <td>85341241</td>\n",
       "    </tr>\n",
       "    <tr>\n",
       "      <th>206</th>\n",
       "      <td>Population, total</td>\n",
       "      <td>SP.POP.TOTL</td>\n",
       "      <td>United States</td>\n",
       "      <td>USA</td>\n",
       "      <td>249623000</td>\n",
       "      <td>282162411</td>\n",
       "      <td>316059947</td>\n",
       "      <td>318386329</td>\n",
       "      <td>320738994</td>\n",
       "      <td>323071755</td>\n",
       "      <td>325122128</td>\n",
       "      <td>326838199</td>\n",
       "      <td>328329953</td>\n",
       "      <td>331511512</td>\n",
       "      <td>332031554</td>\n",
       "      <td>333287557</td>\n",
       "    </tr>\n",
       "  </tbody>\n",
       "</table>\n",
       "</div>"
      ],
      "text/plain": [
       "           Series Name  Series Code        Country Name Country Code  \\\n",
       "26   Population, total  SP.POP.TOTL              Brazil          BRA   \n",
       "89   Population, total  SP.POP.TOTL               India          IND   \n",
       "91   Population, total  SP.POP.TOTL  Iran, Islamic Rep.          IRN   \n",
       "127  Population, total  SP.POP.TOTL              Mexico          MEX   \n",
       "198  Population, total  SP.POP.TOTL             Turkiye          TUR   \n",
       "206  Population, total  SP.POP.TOTL       United States          USA   \n",
       "\n",
       "    1990 [YR1990] 2000 [YR2000] 2013 [YR2013] 2014 [YR2014] 2015 [YR2015]  \\\n",
       "26      150706446     175873720     201721767     203459650     205188205   \n",
       "89      870452165    1059633675    1291132063    1307246509    1322866505   \n",
       "91       55793629      65544383      78458928      79961672      81790841   \n",
       "127      81720428      97873442     117290686     118755887     120149897   \n",
       "198      54324142      64113547      76576117      78112073      79646178   \n",
       "206     249623000     282162411     316059947     318386329     320738994   \n",
       "\n",
       "    2016 [YR2016] 2017 [YR2017] 2018 [YR2018] 2019 [YR2019] 2020 [YR2020]  \\\n",
       "26      206859578     208504960     210166592     211782878     213196304   \n",
       "89     1338636340    1354195680    1369003306    1383112050    1396387127   \n",
       "91       83306231      84505076      85617562      86564202      87290193   \n",
       "127     121519221     122839258     124013861     125085311     125998302   \n",
       "198      81019394      82089826      82809304      83481684      84135428   \n",
       "206     323071755     325122128     326838199     328329953     331511512   \n",
       "\n",
       "    2021 [YR2021] 2022 [YR2022]  \n",
       "26      214326223     215313498  \n",
       "89     1407563842    1417173173  \n",
       "91       87923432      88550570  \n",
       "127     126705138     127504125  \n",
       "198      84775404      85341241  \n",
       "206     332031554     333287557  "
      ]
     },
     "execution_count": 13,
     "metadata": {},
     "output_type": "execute_result"
    }
   ],
   "source": [
    "#let's create a dataframe with populations of Country Name India, United States, Mexico, Turkey, Iran and Brazil\n",
    "countries = [\"India\", \"United States\", \"Mexico\", \"Turkiye\", \"Iran, Islamic Rep.\", \"Brazil\"]\n",
    "worldbank_df = worldbank_df.loc[worldbank_df[\"Country Name\"].isin(countries),:]\n",
    "#duplicated rows (look into documentation)\n",
    "worldbank_df.head(10)\n",
    "# countries"
   ]
  },
  {
   "cell_type": "code",
   "execution_count": null,
   "metadata": {},
   "outputs": [
    {
     "data": {
      "text/html": [
       "<div>\n",
       "<style scoped>\n",
       "    .dataframe tbody tr th:only-of-type {\n",
       "        vertical-align: middle;\n",
       "    }\n",
       "\n",
       "    .dataframe tbody tr th {\n",
       "        vertical-align: top;\n",
       "    }\n",
       "\n",
       "    .dataframe thead th {\n",
       "        text-align: right;\n",
       "    }\n",
       "</style>\n",
       "<table border=\"1\" class=\"dataframe\">\n",
       "  <thead>\n",
       "    <tr style=\"text-align: right;\">\n",
       "      <th></th>\n",
       "      <th>Series Name</th>\n",
       "      <th>Series Code</th>\n",
       "      <th>Country Name</th>\n",
       "      <th>Country Code</th>\n",
       "      <th>1990 [YR1990]</th>\n",
       "      <th>2000 [YR2000]</th>\n",
       "      <th>2013 [YR2013]</th>\n",
       "      <th>2014 [YR2014]</th>\n",
       "      <th>2015 [YR2015]</th>\n",
       "      <th>2016 [YR2016]</th>\n",
       "      <th>2017 [YR2017]</th>\n",
       "      <th>2018 [YR2018]</th>\n",
       "      <th>2019 [YR2019]</th>\n",
       "      <th>2020 [YR2020]</th>\n",
       "      <th>2021 [YR2021]</th>\n",
       "      <th>2022 [YR2022]</th>\n",
       "    </tr>\n",
       "  </thead>\n",
       "  <tbody>\n",
       "    <tr>\n",
       "      <th>26</th>\n",
       "      <td>Population, total</td>\n",
       "      <td>SP.POP.TOTL</td>\n",
       "      <td>Brazil</td>\n",
       "      <td>BRA</td>\n",
       "      <td>150706446</td>\n",
       "      <td>175873720</td>\n",
       "      <td>201721767</td>\n",
       "      <td>203459650</td>\n",
       "      <td>205188205</td>\n",
       "      <td>206859578</td>\n",
       "      <td>208504960</td>\n",
       "      <td>210166592</td>\n",
       "      <td>211782878</td>\n",
       "      <td>213196304</td>\n",
       "      <td>214326223</td>\n",
       "      <td>215313498</td>\n",
       "    </tr>\n",
       "    <tr>\n",
       "      <th>89</th>\n",
       "      <td>Population, total</td>\n",
       "      <td>SP.POP.TOTL</td>\n",
       "      <td>India</td>\n",
       "      <td>IND</td>\n",
       "      <td>870452165</td>\n",
       "      <td>1059633675</td>\n",
       "      <td>1291132063</td>\n",
       "      <td>1307246509</td>\n",
       "      <td>1322866505</td>\n",
       "      <td>1338636340</td>\n",
       "      <td>1354195680</td>\n",
       "      <td>1369003306</td>\n",
       "      <td>1383112050</td>\n",
       "      <td>1396387127</td>\n",
       "      <td>1407563842</td>\n",
       "      <td>1417173173</td>\n",
       "    </tr>\n",
       "    <tr>\n",
       "      <th>91</th>\n",
       "      <td>Population, total</td>\n",
       "      <td>SP.POP.TOTL</td>\n",
       "      <td>Iran, Islamic Rep.</td>\n",
       "      <td>IRN</td>\n",
       "      <td>55793629</td>\n",
       "      <td>65544383</td>\n",
       "      <td>78458928</td>\n",
       "      <td>79961672</td>\n",
       "      <td>81790841</td>\n",
       "      <td>83306231</td>\n",
       "      <td>84505076</td>\n",
       "      <td>85617562</td>\n",
       "      <td>86564202</td>\n",
       "      <td>87290193</td>\n",
       "      <td>87923432</td>\n",
       "      <td>88550570</td>\n",
       "    </tr>\n",
       "    <tr>\n",
       "      <th>127</th>\n",
       "      <td>Population, total</td>\n",
       "      <td>SP.POP.TOTL</td>\n",
       "      <td>Mexico</td>\n",
       "      <td>MEX</td>\n",
       "      <td>81720428</td>\n",
       "      <td>97873442</td>\n",
       "      <td>117290686</td>\n",
       "      <td>118755887</td>\n",
       "      <td>120149897</td>\n",
       "      <td>121519221</td>\n",
       "      <td>122839258</td>\n",
       "      <td>124013861</td>\n",
       "      <td>125085311</td>\n",
       "      <td>125998302</td>\n",
       "      <td>126705138</td>\n",
       "      <td>127504125</td>\n",
       "    </tr>\n",
       "    <tr>\n",
       "      <th>198</th>\n",
       "      <td>Population, total</td>\n",
       "      <td>SP.POP.TOTL</td>\n",
       "      <td>Turkiye</td>\n",
       "      <td>TUR</td>\n",
       "      <td>54324142</td>\n",
       "      <td>64113547</td>\n",
       "      <td>76576117</td>\n",
       "      <td>78112073</td>\n",
       "      <td>79646178</td>\n",
       "      <td>81019394</td>\n",
       "      <td>82089826</td>\n",
       "      <td>82809304</td>\n",
       "      <td>83481684</td>\n",
       "      <td>84135428</td>\n",
       "      <td>84775404</td>\n",
       "      <td>85341241</td>\n",
       "    </tr>\n",
       "    <tr>\n",
       "      <th>206</th>\n",
       "      <td>Population, total</td>\n",
       "      <td>SP.POP.TOTL</td>\n",
       "      <td>United States</td>\n",
       "      <td>USA</td>\n",
       "      <td>249623000</td>\n",
       "      <td>282162411</td>\n",
       "      <td>316059947</td>\n",
       "      <td>318386329</td>\n",
       "      <td>320738994</td>\n",
       "      <td>323071755</td>\n",
       "      <td>325122128</td>\n",
       "      <td>326838199</td>\n",
       "      <td>328329953</td>\n",
       "      <td>331511512</td>\n",
       "      <td>332031554</td>\n",
       "      <td>333287557</td>\n",
       "    </tr>\n",
       "  </tbody>\n",
       "</table>\n",
       "</div>"
      ],
      "text/plain": [
       "           Series Name  Series Code        Country Name Country Code  \\\n",
       "26   Population, total  SP.POP.TOTL              Brazil          BRA   \n",
       "89   Population, total  SP.POP.TOTL               India          IND   \n",
       "91   Population, total  SP.POP.TOTL  Iran, Islamic Rep.          IRN   \n",
       "127  Population, total  SP.POP.TOTL              Mexico          MEX   \n",
       "198  Population, total  SP.POP.TOTL             Turkiye          TUR   \n",
       "206  Population, total  SP.POP.TOTL       United States          USA   \n",
       "\n",
       "    1990 [YR1990] 2000 [YR2000] 2013 [YR2013] 2014 [YR2014] 2015 [YR2015]  \\\n",
       "26      150706446     175873720     201721767     203459650     205188205   \n",
       "89      870452165    1059633675    1291132063    1307246509    1322866505   \n",
       "91       55793629      65544383      78458928      79961672      81790841   \n",
       "127      81720428      97873442     117290686     118755887     120149897   \n",
       "198      54324142      64113547      76576117      78112073      79646178   \n",
       "206     249623000     282162411     316059947     318386329     320738994   \n",
       "\n",
       "    2016 [YR2016] 2017 [YR2017] 2018 [YR2018] 2019 [YR2019] 2020 [YR2020]  \\\n",
       "26      206859578     208504960     210166592     211782878     213196304   \n",
       "89     1338636340    1354195680    1369003306    1383112050    1396387127   \n",
       "91       83306231      84505076      85617562      86564202      87290193   \n",
       "127     121519221     122839258     124013861     125085311     125998302   \n",
       "198      81019394      82089826      82809304      83481684      84135428   \n",
       "206     323071755     325122128     326838199     328329953     331511512   \n",
       "\n",
       "    2021 [YR2021] 2022 [YR2022]  \n",
       "26      214326223     215313498  \n",
       "89     1407563842    1417173173  \n",
       "91       87923432      88550570  \n",
       "127     126705138     127504125  \n",
       "198      84775404      85341241  \n",
       "206     332031554     333287557  "
      ]
     },
     "execution_count": 14,
     "metadata": {},
     "output_type": "execute_result"
    }
   ],
   "source": [
    "# worldbank_df = worldbank_df.loc([worldbank_df[\"Country Name\"] == \"Mexico\"])\n",
    "# worldbank_df\n",
    "\n",
    "#let's create a dataframe with population of Country Name India\n",
    "india_df = worldbank_df[worldbank_df[\"Country Name\"].isin(countries)]\n",
    "india_df"
   ]
  },
  {
   "cell_type": "code",
   "execution_count": null,
   "metadata": {},
   "outputs": [
    {
     "data": {
      "text/html": [
       "<div>\n",
       "<style scoped>\n",
       "    .dataframe tbody tr th:only-of-type {\n",
       "        vertical-align: middle;\n",
       "    }\n",
       "\n",
       "    .dataframe tbody tr th {\n",
       "        vertical-align: top;\n",
       "    }\n",
       "\n",
       "    .dataframe thead th {\n",
       "        text-align: right;\n",
       "    }\n",
       "</style>\n",
       "<table border=\"1\" class=\"dataframe\">\n",
       "  <thead>\n",
       "    <tr style=\"text-align: right;\">\n",
       "      <th>DISORDER_TYPE</th>\n",
       "      <th>Demonstrations</th>\n",
       "      <th>Political violence</th>\n",
       "      <th>Political violence; Demonstrations</th>\n",
       "      <th>Strategic developments</th>\n",
       "      <th>All</th>\n",
       "    </tr>\n",
       "    <tr>\n",
       "      <th>COUNTRY</th>\n",
       "      <th></th>\n",
       "      <th></th>\n",
       "      <th></th>\n",
       "      <th></th>\n",
       "      <th></th>\n",
       "    </tr>\n",
       "  </thead>\n",
       "  <tbody>\n",
       "    <tr>\n",
       "      <th>All</th>\n",
       "      <td>41812</td>\n",
       "      <td>17170</td>\n",
       "      <td>181</td>\n",
       "      <td>1071</td>\n",
       "      <td>60234</td>\n",
       "    </tr>\n",
       "    <tr>\n",
       "      <th>India</th>\n",
       "      <td>5413</td>\n",
       "      <td>817</td>\n",
       "      <td>10</td>\n",
       "      <td>7</td>\n",
       "      <td>6247</td>\n",
       "    </tr>\n",
       "    <tr>\n",
       "      <th>United States</th>\n",
       "      <td>5624</td>\n",
       "      <td>86</td>\n",
       "      <td>6</td>\n",
       "      <td>31</td>\n",
       "      <td>5747</td>\n",
       "    </tr>\n",
       "    <tr>\n",
       "      <th>Mexico</th>\n",
       "      <td>2426</td>\n",
       "      <td>2739</td>\n",
       "      <td>2</td>\n",
       "      <td>6</td>\n",
       "      <td>5173</td>\n",
       "    </tr>\n",
       "    <tr>\n",
       "      <th>Turkey</th>\n",
       "      <td>2492</td>\n",
       "      <td>38</td>\n",
       "      <td>0</td>\n",
       "      <td>5</td>\n",
       "      <td>2535</td>\n",
       "    </tr>\n",
       "    <tr>\n",
       "      <th>Iran</th>\n",
       "      <td>1909</td>\n",
       "      <td>23</td>\n",
       "      <td>43</td>\n",
       "      <td>179</td>\n",
       "      <td>2154</td>\n",
       "    </tr>\n",
       "    <tr>\n",
       "      <th>Brazil</th>\n",
       "      <td>669</td>\n",
       "      <td>1327</td>\n",
       "      <td>1</td>\n",
       "      <td>4</td>\n",
       "      <td>2001</td>\n",
       "    </tr>\n",
       "    <tr>\n",
       "      <th>South Korea</th>\n",
       "      <td>1951</td>\n",
       "      <td>1</td>\n",
       "      <td>0</td>\n",
       "      <td>0</td>\n",
       "      <td>1952</td>\n",
       "    </tr>\n",
       "    <tr>\n",
       "      <th>Poland</th>\n",
       "      <td>1730</td>\n",
       "      <td>0</td>\n",
       "      <td>0</td>\n",
       "      <td>0</td>\n",
       "      <td>1730</td>\n",
       "    </tr>\n",
       "    <tr>\n",
       "      <th>Pakistan</th>\n",
       "      <td>1391</td>\n",
       "      <td>194</td>\n",
       "      <td>1</td>\n",
       "      <td>4</td>\n",
       "      <td>1590</td>\n",
       "    </tr>\n",
       "  </tbody>\n",
       "</table>\n",
       "</div>"
      ],
      "text/plain": [
       "DISORDER_TYPE  Demonstrations  Political violence  \\\n",
       "COUNTRY                                             \n",
       "All                     41812               17170   \n",
       "India                    5413                 817   \n",
       "United States            5624                  86   \n",
       "Mexico                   2426                2739   \n",
       "Turkey                   2492                  38   \n",
       "Iran                     1909                  23   \n",
       "Brazil                    669                1327   \n",
       "South Korea              1951                   1   \n",
       "Poland                   1730                   0   \n",
       "Pakistan                 1391                 194   \n",
       "\n",
       "DISORDER_TYPE  Political violence; Demonstrations  Strategic developments  \\\n",
       "COUNTRY                                                                     \n",
       "All                                           181                    1071   \n",
       "India                                          10                       7   \n",
       "United States                                   6                      31   \n",
       "Mexico                                          2                       6   \n",
       "Turkey                                          0                       5   \n",
       "Iran                                           43                     179   \n",
       "Brazil                                          1                       4   \n",
       "South Korea                                     0                       0   \n",
       "Poland                                          0                       0   \n",
       "Pakistan                                        1                       4   \n",
       "\n",
       "DISORDER_TYPE    All  \n",
       "COUNTRY               \n",
       "All            60234  \n",
       "India           6247  \n",
       "United States   5747  \n",
       "Mexico          5173  \n",
       "Turkey          2535  \n",
       "Iran            2154  \n",
       "Brazil          2001  \n",
       "South Korea     1952  \n",
       "Poland          1730  \n",
       "Pakistan        1590  "
      ]
     },
     "execution_count": 15,
     "metadata": {},
     "output_type": "execute_result"
    }
   ],
   "source": [
    "maxDisorder"
   ]
  },
  {
   "cell_type": "code",
   "execution_count": null,
   "metadata": {},
   "outputs": [
    {
     "data": {
      "text/html": [
       "<div>\n",
       "<style scoped>\n",
       "    .dataframe tbody tr th:only-of-type {\n",
       "        vertical-align: middle;\n",
       "    }\n",
       "\n",
       "    .dataframe tbody tr th {\n",
       "        vertical-align: top;\n",
       "    }\n",
       "\n",
       "    .dataframe thead th {\n",
       "        text-align: right;\n",
       "    }\n",
       "</style>\n",
       "<table border=\"1\" class=\"dataframe\">\n",
       "  <thead>\n",
       "    <tr style=\"text-align: right;\">\n",
       "      <th></th>\n",
       "      <th>HDI rank</th>\n",
       "      <th>Country</th>\n",
       "      <th>Value - 2021</th>\n",
       "      <th>Rank - 2021</th>\n",
       "      <th>Maternal mortality ratio (deaths per 100,000 live births) - 2017</th>\n",
       "      <th>Adolescent birth rate (births per 1,000 women ages 15–19) - 2021</th>\n",
       "      <th>Share of seats in parliament (% held by women) - 2021</th>\n",
       "      <th>Population with at least some secondary education (% ages 25 and older) - Female (2021)</th>\n",
       "      <th>Population with at least some secondary education (% ages 25 and older) - Male (2021)</th>\n",
       "      <th>Labour force participation rate (% ages 15 and older) - Female - 2021</th>\n",
       "      <th>Labour force participation rate (% ages 15 and older) - Male - 2021</th>\n",
       "    </tr>\n",
       "  </thead>\n",
       "  <tbody>\n",
       "    <tr>\n",
       "      <th>0</th>\n",
       "      <td>1.0</td>\n",
       "      <td>Switzerland</td>\n",
       "      <td>0.018</td>\n",
       "      <td>3</td>\n",
       "      <td>5</td>\n",
       "      <td>2.2</td>\n",
       "      <td>39.8</td>\n",
       "      <td>96.9</td>\n",
       "      <td>97.5</td>\n",
       "      <td>61.7</td>\n",
       "      <td>72.7</td>\n",
       "    </tr>\n",
       "    <tr>\n",
       "      <th>1</th>\n",
       "      <td>2.0</td>\n",
       "      <td>Norway</td>\n",
       "      <td>0.016</td>\n",
       "      <td>2</td>\n",
       "      <td>2</td>\n",
       "      <td>2.3</td>\n",
       "      <td>45</td>\n",
       "      <td>99.1</td>\n",
       "      <td>99.3</td>\n",
       "      <td>60.3</td>\n",
       "      <td>72</td>\n",
       "    </tr>\n",
       "    <tr>\n",
       "      <th>2</th>\n",
       "      <td>3.0</td>\n",
       "      <td>Iceland</td>\n",
       "      <td>0.043</td>\n",
       "      <td>8</td>\n",
       "      <td>4</td>\n",
       "      <td>5.4</td>\n",
       "      <td>47.6</td>\n",
       "      <td>99.8</td>\n",
       "      <td>99.7</td>\n",
       "      <td>61.7</td>\n",
       "      <td>70.5</td>\n",
       "    </tr>\n",
       "    <tr>\n",
       "      <th>3</th>\n",
       "      <td>4.0</td>\n",
       "      <td>Hong Kong, China (SAR)</td>\n",
       "      <td>..</td>\n",
       "      <td>..</td>\n",
       "      <td>..</td>\n",
       "      <td>1.6</td>\n",
       "      <td>..</td>\n",
       "      <td>77.1</td>\n",
       "      <td>83.4</td>\n",
       "      <td>53.5</td>\n",
       "      <td>65.8</td>\n",
       "    </tr>\n",
       "    <tr>\n",
       "      <th>4</th>\n",
       "      <td>5.0</td>\n",
       "      <td>Australia</td>\n",
       "      <td>0.073</td>\n",
       "      <td>19</td>\n",
       "      <td>6</td>\n",
       "      <td>8.1</td>\n",
       "      <td>37.9</td>\n",
       "      <td>94.6</td>\n",
       "      <td>94.4</td>\n",
       "      <td>61.1</td>\n",
       "      <td>70.5</td>\n",
       "    </tr>\n",
       "    <tr>\n",
       "      <th>...</th>\n",
       "      <td>...</td>\n",
       "      <td>...</td>\n",
       "      <td>...</td>\n",
       "      <td>...</td>\n",
       "      <td>...</td>\n",
       "      <td>...</td>\n",
       "      <td>...</td>\n",
       "      <td>...</td>\n",
       "      <td>...</td>\n",
       "      <td>...</td>\n",
       "      <td>...</td>\n",
       "    </tr>\n",
       "    <tr>\n",
       "      <th>189</th>\n",
       "      <td>187.0</td>\n",
       "      <td>Burundi</td>\n",
       "      <td>0.505</td>\n",
       "      <td>127</td>\n",
       "      <td>548</td>\n",
       "      <td>53.6</td>\n",
       "      <td>38.9</td>\n",
       "      <td>7.8</td>\n",
       "      <td>13</td>\n",
       "      <td>79</td>\n",
       "      <td>77.4</td>\n",
       "    </tr>\n",
       "    <tr>\n",
       "      <th>190</th>\n",
       "      <td>188.0</td>\n",
       "      <td>Central African Republic</td>\n",
       "      <td>0.672</td>\n",
       "      <td>166</td>\n",
       "      <td>829</td>\n",
       "      <td>160.5</td>\n",
       "      <td>12.9</td>\n",
       "      <td>13.9</td>\n",
       "      <td>31.6</td>\n",
       "      <td>63.3</td>\n",
       "      <td>79.5</td>\n",
       "    </tr>\n",
       "    <tr>\n",
       "      <th>191</th>\n",
       "      <td>189.0</td>\n",
       "      <td>Niger</td>\n",
       "      <td>0.611</td>\n",
       "      <td>153</td>\n",
       "      <td>509</td>\n",
       "      <td>170.5</td>\n",
       "      <td>25.9</td>\n",
       "      <td>9.2</td>\n",
       "      <td>15.2</td>\n",
       "      <td>61.7</td>\n",
       "      <td>84.3</td>\n",
       "    </tr>\n",
       "    <tr>\n",
       "      <th>192</th>\n",
       "      <td>190.0</td>\n",
       "      <td>Chad</td>\n",
       "      <td>0.652</td>\n",
       "      <td>165</td>\n",
       "      <td>1,140</td>\n",
       "      <td>138.3</td>\n",
       "      <td>32.3</td>\n",
       "      <td>7.7</td>\n",
       "      <td>24.4</td>\n",
       "      <td>46.9</td>\n",
       "      <td>69.9</td>\n",
       "    </tr>\n",
       "    <tr>\n",
       "      <th>193</th>\n",
       "      <td>191.0</td>\n",
       "      <td>South Sudan</td>\n",
       "      <td>0.587</td>\n",
       "      <td>150</td>\n",
       "      <td>1,150</td>\n",
       "      <td>99.2</td>\n",
       "      <td>32.3</td>\n",
       "      <td>26.5</td>\n",
       "      <td>36.4</td>\n",
       "      <td>70.4</td>\n",
       "      <td>73.6</td>\n",
       "    </tr>\n",
       "  </tbody>\n",
       "</table>\n",
       "<p>194 rows × 11 columns</p>\n",
       "</div>"
      ],
      "text/plain": [
       "     HDI rank                   Country Value - 2021 Rank - 2021  \\\n",
       "0         1.0               Switzerland        0.018           3   \n",
       "1         2.0                    Norway        0.016           2   \n",
       "2         3.0                   Iceland        0.043           8   \n",
       "3         4.0    Hong Kong, China (SAR)           ..          ..   \n",
       "4         5.0                 Australia        0.073          19   \n",
       "..        ...                       ...          ...         ...   \n",
       "189     187.0                   Burundi        0.505         127   \n",
       "190     188.0  Central African Republic        0.672         166   \n",
       "191     189.0                     Niger        0.611         153   \n",
       "192     190.0                      Chad        0.652         165   \n",
       "193     191.0               South Sudan        0.587         150   \n",
       "\n",
       "    Maternal mortality ratio (deaths per 100,000 live births) - 2017  \\\n",
       "0                                                    5                 \n",
       "1                                                    2                 \n",
       "2                                                    4                 \n",
       "3                                                   ..                 \n",
       "4                                                    6                 \n",
       "..                                                 ...                 \n",
       "189                                                548                 \n",
       "190                                                829                 \n",
       "191                                                509                 \n",
       "192                                              1,140                 \n",
       "193                                              1,150                 \n",
       "\n",
       "     Adolescent birth rate (births per 1,000 women ages 15–19) - 2021  \\\n",
       "0                                                  2.2                  \n",
       "1                                                  2.3                  \n",
       "2                                                  5.4                  \n",
       "3                                                  1.6                  \n",
       "4                                                  8.1                  \n",
       "..                                                 ...                  \n",
       "189                                               53.6                  \n",
       "190                                              160.5                  \n",
       "191                                              170.5                  \n",
       "192                                              138.3                  \n",
       "193                                               99.2                  \n",
       "\n",
       "    Share of seats in parliament (% held by women) - 2021  \\\n",
       "0                                                 39.8      \n",
       "1                                                   45      \n",
       "2                                                 47.6      \n",
       "3                                                   ..      \n",
       "4                                                 37.9      \n",
       "..                                                 ...      \n",
       "189                                               38.9      \n",
       "190                                               12.9      \n",
       "191                                               25.9      \n",
       "192                                               32.3      \n",
       "193                                               32.3      \n",
       "\n",
       "    Population with at least some secondary education (% ages 25 and older) - Female (2021)  \\\n",
       "0                                                 96.9                                        \n",
       "1                                                 99.1                                        \n",
       "2                                                 99.8                                        \n",
       "3                                                 77.1                                        \n",
       "4                                                 94.6                                        \n",
       "..                                                 ...                                        \n",
       "189                                                7.8                                        \n",
       "190                                               13.9                                        \n",
       "191                                                9.2                                        \n",
       "192                                                7.7                                        \n",
       "193                                               26.5                                        \n",
       "\n",
       "    Population with at least some secondary education (% ages 25 and older) - Male (2021)  \\\n",
       "0                                                 97.5                                      \n",
       "1                                                 99.3                                      \n",
       "2                                                 99.7                                      \n",
       "3                                                 83.4                                      \n",
       "4                                                 94.4                                      \n",
       "..                                                 ...                                      \n",
       "189                                                 13                                      \n",
       "190                                               31.6                                      \n",
       "191                                               15.2                                      \n",
       "192                                               24.4                                      \n",
       "193                                               36.4                                      \n",
       "\n",
       "    Labour force participation rate (% ages 15 and older) - Female - 2021  \\\n",
       "0                                                 61.7                      \n",
       "1                                                 60.3                      \n",
       "2                                                 61.7                      \n",
       "3                                                 53.5                      \n",
       "4                                                 61.1                      \n",
       "..                                                 ...                      \n",
       "189                                                 79                      \n",
       "190                                               63.3                      \n",
       "191                                               61.7                      \n",
       "192                                               46.9                      \n",
       "193                                               70.4                      \n",
       "\n",
       "    Labour force participation rate (% ages 15 and older) - Male - 2021  \n",
       "0                                                 72.7                   \n",
       "1                                                   72                   \n",
       "2                                                 70.5                   \n",
       "3                                                 65.8                   \n",
       "4                                                 70.5                   \n",
       "..                                                 ...                   \n",
       "189                                               77.4                   \n",
       "190                                               79.5                   \n",
       "191                                               84.3                   \n",
       "192                                               69.9                   \n",
       "193                                               73.6                   \n",
       "\n",
       "[194 rows x 11 columns]"
      ]
     },
     "execution_count": 16,
     "metadata": {},
     "output_type": "execute_result"
    }
   ],
   "source": [
    "#create a dataframe from Cleaned_genderinequality.csv\n",
    "genderinequalitydata = \"data/Cleaned_genderinequalityUN.csv\"\n",
    "#let's make the data into a dataframe\n",
    "gender_df = pd.read_csv(genderinequalitydata)\n",
    "gender_df\n",
    "\n"
   ]
  },
  {
   "cell_type": "code",
   "execution_count": null,
   "metadata": {},
   "outputs": [
    {
     "data": {
      "text/plain": [
       "array(['Switzerland', 'Norway', 'Iceland', 'Hong Kong, China (SAR)',\n",
       "       'Australia', 'Denmark', 'Sweden', 'Ireland', 'Germany',\n",
       "       'Netherlands', 'Finland', 'Singapore', 'Belgium', 'New Zealand',\n",
       "       'Canada', 'Liechtenstein', 'Luxembourg', 'United Kingdom', 'Japan',\n",
       "       'Korea (Republic of)', 'United States', 'Israel', 'Malta',\n",
       "       'Slovenia', 'Austria', 'United Arab Emirates', 'Spain', 'France',\n",
       "       'Cyprus', 'Italy', 'Estonia', 'Czechia', 'Greece', 'Poland',\n",
       "       'Bahrain', 'Lithuania', 'Saudi Arabia', 'Portugal', 'Latvia',\n",
       "       'Andorra', 'Croatia', 'Chile', 'Qatar', 'San Marino', 'Slovakia',\n",
       "       'Hungary', 'Argentina', 'Türkiye', 'Montenegro', 'Kuwait',\n",
       "       'Brunei Darussalam', 'Russian Federation', 'Romania', 'Oman',\n",
       "       'Bahamas', 'Kazakhstan', 'Trinidad and Tobago', 'Costa Rica',\n",
       "       'Uruguay', 'Belarus', 'Panama', 'Malaysia', 'Georgia', 'Mauritius',\n",
       "       'Serbia', 'Thailand', 'HIGH HUMAN DEVELOPMENT', 'Albania',\n",
       "       'Bulgaria', 'Grenada', 'Barbados', 'Antigua and Barbuda',\n",
       "       'Seychelles', 'Sri Lanka', 'Bosnia and Herzegovina',\n",
       "       'Saint Kitts and Nevis', 'Iran (Islamic Republic of)', 'Ukraine',\n",
       "       'North Macedonia', 'China', 'Dominican Republic',\n",
       "       'Moldova (Republic of)', 'Palau', 'Cuba', 'Peru', 'Armenia',\n",
       "       'Mexico', 'Brazil', 'Colombia', 'Saint Vincent and the Grenadines',\n",
       "       'Maldives', 'Algeria', 'Azerbaijan', 'Tonga', 'Turkmenistan',\n",
       "       'Ecuador', 'Mongolia', 'Egypt', 'Tunisia', 'Fiji', 'Suriname',\n",
       "       'Uzbekistan', 'Dominica', 'Jordan', 'Libya', 'Paraguay',\n",
       "       'Palestine, State of', 'Saint Lucia', 'Guyana', 'South Africa',\n",
       "       'Jamaica', 'Samoa', 'Gabon', 'Lebanon', 'Indonesia', 'Viet Nam',\n",
       "       'MEDIUM HUMAN DEVELOPMENT', 'Philippines', 'Botswana',\n",
       "       'Bolivia (Plurinational State of)', 'Kyrgyzstan',\n",
       "       'Venezuela (Bolivarian Republic of)', 'Iraq', 'Tajikistan',\n",
       "       'Belize', 'Morocco', 'El Salvador', 'Nicaragua', 'Bhutan',\n",
       "       'Cabo Verde', 'Bangladesh', 'Tuvalu', 'Marshall Islands', 'India',\n",
       "       'Ghana', 'Micronesia (Federated States of)', 'Guatemala',\n",
       "       'Kiribati', 'Honduras', 'Sao Tome and Principe', 'Namibia',\n",
       "       \"Lao People's Democratic Republic\", 'Timor-Leste', 'Vanuatu',\n",
       "       'Nepal', 'Eswatini (Kingdom of)', 'Equatorial Guinea', 'Cambodia',\n",
       "       'Zimbabwe', 'Angola', 'Myanmar', 'Syrian Arab Republic',\n",
       "       'Cameroon', 'Kenya', 'Congo', 'Zambia', 'Solomon Islands',\n",
       "       'Comoros', 'Papua New Guinea', 'Mauritania', \"Côte d'Ivoire\",\n",
       "       'LOW HUMAN DEVELOPMENT', 'Tanzania (United Republic of)',\n",
       "       'Pakistan', 'Togo', 'Haiti', 'Nigeria', 'Rwanda', 'Benin',\n",
       "       'Uganda', 'Lesotho', 'Malawi', 'Senegal', 'Djibouti', 'Sudan',\n",
       "       'Madagascar', 'Gambia', 'Ethiopia', 'Eritrea', 'Guinea-Bissau',\n",
       "       'Liberia', 'Congo (Democratic Republic of the)', 'Afghanistan',\n",
       "       'Sierra Leone', 'Guinea', 'Yemen', 'Burkina Faso', 'Mozambique',\n",
       "       'Mali', 'Burundi', 'Central African Republic', 'Niger', 'Chad',\n",
       "       'South Sudan'], dtype=object)"
      ]
     },
     "execution_count": 53,
     "metadata": {},
     "output_type": "execute_result"
    }
   ],
   "source": [
    "gender_df[\"Country\"].unique()"
   ]
  },
  {
   "cell_type": "code",
   "execution_count": null,
   "metadata": {},
   "outputs": [],
   "source": [
    "#number of demonstrations vs. inequality (do each of UN columns to test assumptions)\n",
    "#number of demonstrations vs. political freedom (do Freedom house PR rating to test assumptions)\n",
    "#group by number of demonstrations into buckets. Do countries in the same bucket have similiar factors?\n",
    "#do bins of countries by number of demonstrations to see if any countries groupeed together have similiar factors and are suprising to see\n",
    "#do bins by regions and see any regional outliers?\n",
    "\n",
    "#ML\n",
    "#which column is most predictive? (do linear regression using ML)\n",
    "#show factors on that cause areas of world to be at for gender inequality"
   ]
  },
  {
   "cell_type": "code",
   "execution_count": null,
   "metadata": {},
   "outputs": [
    {
     "data": {
      "text/html": [
       "<div>\n",
       "<style scoped>\n",
       "    .dataframe tbody tr th:only-of-type {\n",
       "        vertical-align: middle;\n",
       "    }\n",
       "\n",
       "    .dataframe tbody tr th {\n",
       "        vertical-align: top;\n",
       "    }\n",
       "\n",
       "    .dataframe thead th {\n",
       "        text-align: right;\n",
       "    }\n",
       "</style>\n",
       "<table border=\"1\" class=\"dataframe\">\n",
       "  <thead>\n",
       "    <tr style=\"text-align: right;\">\n",
       "      <th>DISORDER_TYPE</th>\n",
       "      <th>COUNTRY</th>\n",
       "      <th>Demonstrations</th>\n",
       "      <th>Political violence</th>\n",
       "      <th>Political violence; Demonstrations</th>\n",
       "      <th>Strategic developments</th>\n",
       "      <th>All</th>\n",
       "    </tr>\n",
       "  </thead>\n",
       "  <tbody>\n",
       "    <tr>\n",
       "      <th>0</th>\n",
       "      <td>All</td>\n",
       "      <td>41812</td>\n",
       "      <td>17170</td>\n",
       "      <td>181</td>\n",
       "      <td>1071</td>\n",
       "      <td>60234</td>\n",
       "    </tr>\n",
       "    <tr>\n",
       "      <th>1</th>\n",
       "      <td>India</td>\n",
       "      <td>5413</td>\n",
       "      <td>817</td>\n",
       "      <td>10</td>\n",
       "      <td>7</td>\n",
       "      <td>6247</td>\n",
       "    </tr>\n",
       "    <tr>\n",
       "      <th>2</th>\n",
       "      <td>United States</td>\n",
       "      <td>5624</td>\n",
       "      <td>86</td>\n",
       "      <td>6</td>\n",
       "      <td>31</td>\n",
       "      <td>5747</td>\n",
       "    </tr>\n",
       "    <tr>\n",
       "      <th>3</th>\n",
       "      <td>Mexico</td>\n",
       "      <td>2426</td>\n",
       "      <td>2739</td>\n",
       "      <td>2</td>\n",
       "      <td>6</td>\n",
       "      <td>5173</td>\n",
       "    </tr>\n",
       "    <tr>\n",
       "      <th>4</th>\n",
       "      <td>Turkey</td>\n",
       "      <td>2492</td>\n",
       "      <td>38</td>\n",
       "      <td>0</td>\n",
       "      <td>5</td>\n",
       "      <td>2535</td>\n",
       "    </tr>\n",
       "    <tr>\n",
       "      <th>5</th>\n",
       "      <td>Iran</td>\n",
       "      <td>1909</td>\n",
       "      <td>23</td>\n",
       "      <td>43</td>\n",
       "      <td>179</td>\n",
       "      <td>2154</td>\n",
       "    </tr>\n",
       "    <tr>\n",
       "      <th>6</th>\n",
       "      <td>Brazil</td>\n",
       "      <td>669</td>\n",
       "      <td>1327</td>\n",
       "      <td>1</td>\n",
       "      <td>4</td>\n",
       "      <td>2001</td>\n",
       "    </tr>\n",
       "    <tr>\n",
       "      <th>7</th>\n",
       "      <td>South Korea</td>\n",
       "      <td>1951</td>\n",
       "      <td>1</td>\n",
       "      <td>0</td>\n",
       "      <td>0</td>\n",
       "      <td>1952</td>\n",
       "    </tr>\n",
       "    <tr>\n",
       "      <th>8</th>\n",
       "      <td>Poland</td>\n",
       "      <td>1730</td>\n",
       "      <td>0</td>\n",
       "      <td>0</td>\n",
       "      <td>0</td>\n",
       "      <td>1730</td>\n",
       "    </tr>\n",
       "    <tr>\n",
       "      <th>9</th>\n",
       "      <td>Pakistan</td>\n",
       "      <td>1391</td>\n",
       "      <td>194</td>\n",
       "      <td>1</td>\n",
       "      <td>4</td>\n",
       "      <td>1590</td>\n",
       "    </tr>\n",
       "  </tbody>\n",
       "</table>\n",
       "</div>"
      ],
      "text/plain": [
       "DISORDER_TYPE        COUNTRY  Demonstrations  Political violence  \\\n",
       "0                        All           41812               17170   \n",
       "1                      India            5413                 817   \n",
       "2              United States            5624                  86   \n",
       "3                     Mexico            2426                2739   \n",
       "4                     Turkey            2492                  38   \n",
       "5                       Iran            1909                  23   \n",
       "6                     Brazil             669                1327   \n",
       "7                South Korea            1951                   1   \n",
       "8                     Poland            1730                   0   \n",
       "9                   Pakistan            1391                 194   \n",
       "\n",
       "DISORDER_TYPE  Political violence; Demonstrations  Strategic developments  \\\n",
       "0                                             181                    1071   \n",
       "1                                              10                       7   \n",
       "2                                               6                      31   \n",
       "3                                               2                       6   \n",
       "4                                               0                       5   \n",
       "5                                              43                     179   \n",
       "6                                               1                       4   \n",
       "7                                               0                       0   \n",
       "8                                               0                       0   \n",
       "9                                               1                       4   \n",
       "\n",
       "DISORDER_TYPE    All  \n",
       "0              60234  \n",
       "1               6247  \n",
       "2               5747  \n",
       "3               5173  \n",
       "4               2535  \n",
       "5               2154  \n",
       "6               2001  \n",
       "7               1952  \n",
       "8               1730  \n",
       "9               1590  "
      ]
     },
     "execution_count": 36,
     "metadata": {},
     "output_type": "execute_result"
    }
   ],
   "source": [
    "disorderIndex_df = maxDisorder.reset_index()\n",
    "disorderIndex_df"
   ]
  },
  {
   "cell_type": "code",
   "execution_count": null,
   "metadata": {},
   "outputs": [
    {
     "data": {
      "text/html": [
       "<div>\n",
       "<style scoped>\n",
       "    .dataframe tbody tr th:only-of-type {\n",
       "        vertical-align: middle;\n",
       "    }\n",
       "\n",
       "    .dataframe tbody tr th {\n",
       "        vertical-align: top;\n",
       "    }\n",
       "\n",
       "    .dataframe thead th {\n",
       "        text-align: right;\n",
       "    }\n",
       "</style>\n",
       "<table border=\"1\" class=\"dataframe\">\n",
       "  <thead>\n",
       "    <tr style=\"text-align: right;\">\n",
       "      <th></th>\n",
       "      <th>HDI rank</th>\n",
       "      <th>Country</th>\n",
       "      <th>Value - 2021</th>\n",
       "      <th>Rank - 2021</th>\n",
       "      <th>Maternal mortality ratio (deaths per 100,000 live births) - 2017</th>\n",
       "      <th>Adolescent birth rate (births per 1,000 women ages 15–19) - 2021</th>\n",
       "      <th>Share of seats in parliament (% held by women) - 2021</th>\n",
       "      <th>Population with at least some secondary education (% ages 25 and older) - Female (2021)</th>\n",
       "      <th>Population with at least some secondary education (% ages 25 and older) - Male (2021)</th>\n",
       "      <th>Labour force participation rate (% ages 15 and older) - Female - 2021</th>\n",
       "      <th>Labour force participation rate (% ages 15 and older) - Male - 2021</th>\n",
       "      <th>Country Translate</th>\n",
       "    </tr>\n",
       "  </thead>\n",
       "  <tbody>\n",
       "    <tr>\n",
       "      <th>76</th>\n",
       "      <td>76.0</td>\n",
       "      <td>Iran (Islamic Republic of)</td>\n",
       "      <td>0.459</td>\n",
       "      <td>115</td>\n",
       "      <td>16</td>\n",
       "      <td>30.2</td>\n",
       "      <td>5.6</td>\n",
       "      <td>71.6</td>\n",
       "      <td>76</td>\n",
       "      <td>14.4</td>\n",
       "      <td>68.1</td>\n",
       "      <td>Iran (Islamic Republic of)</td>\n",
       "    </tr>\n",
       "  </tbody>\n",
       "</table>\n",
       "</div>"
      ],
      "text/plain": [
       "    HDI rank                     Country Value - 2021 Rank - 2021  \\\n",
       "76      76.0  Iran (Islamic Republic of)        0.459         115   \n",
       "\n",
       "   Maternal mortality ratio (deaths per 100,000 live births) - 2017  \\\n",
       "76                                                 16                 \n",
       "\n",
       "    Adolescent birth rate (births per 1,000 women ages 15–19) - 2021  \\\n",
       "76                                               30.2                  \n",
       "\n",
       "   Share of seats in parliament (% held by women) - 2021  \\\n",
       "76                                                5.6      \n",
       "\n",
       "   Population with at least some secondary education (% ages 25 and older) - Female (2021)  \\\n",
       "76                                               71.6                                        \n",
       "\n",
       "   Population with at least some secondary education (% ages 25 and older) - Male (2021)  \\\n",
       "76                                                 76                                      \n",
       "\n",
       "   Labour force participation rate (% ages 15 and older) - Female - 2021  \\\n",
       "76                                               14.4                      \n",
       "\n",
       "   Labour force participation rate (% ages 15 and older) - Male - 2021  \\\n",
       "76                                               68.1                    \n",
       "\n",
       "             Country Translate  \n",
       "76  Iran (Islamic Republic of)  "
      ]
     },
     "execution_count": 51,
     "metadata": {},
     "output_type": "execute_result"
    }
   ],
   "source": [
    "gender_df.loc[gender_df[\"Country\"].str.contains(\"Iran\")]"
   ]
  },
  {
   "cell_type": "code",
   "execution_count": null,
   "metadata": {},
   "outputs": [
    {
     "data": {
      "text/html": [
       "<div>\n",
       "<style scoped>\n",
       "    .dataframe tbody tr th:only-of-type {\n",
       "        vertical-align: middle;\n",
       "    }\n",
       "\n",
       "    .dataframe tbody tr th {\n",
       "        vertical-align: top;\n",
       "    }\n",
       "\n",
       "    .dataframe thead th {\n",
       "        text-align: right;\n",
       "    }\n",
       "</style>\n",
       "<table border=\"1\" class=\"dataframe\">\n",
       "  <thead>\n",
       "    <tr style=\"text-align: right;\">\n",
       "      <th></th>\n",
       "      <th>COUNTRY</th>\n",
       "      <th>Country</th>\n",
       "    </tr>\n",
       "  </thead>\n",
       "  <tbody>\n",
       "    <tr>\n",
       "      <th>0</th>\n",
       "      <td>All</td>\n",
       "      <td>NaN</td>\n",
       "    </tr>\n",
       "  </tbody>\n",
       "</table>\n",
       "</div>"
      ],
      "text/plain": [
       "  COUNTRY Country\n",
       "0     All     NaN"
      ]
     },
     "execution_count": 52,
     "metadata": {},
     "output_type": "execute_result"
    }
   ],
   "source": [
    "translate = {\"Iran (Islamic Republic of)\": \"Iran\", \"Türkiye\": \"Turkey\", \"Korea (Republic of)\": \"South Korea\"}\n",
    "disorderIndex_df.head(10)\n",
    "gender_df\n",
    "\n",
    "#join maxDisorder and gender_df by country\n",
    "\n",
    "# countryTop_df\n",
    "\n",
    "gender_df[\"Country Translate\"] = gender_df[\"Country\"].replace(translate)\n",
    "\n",
    "countryTop_df = disorderIndex_df.merge(gender_df, left_on=\"COUNTRY\", right_on=\"Country Translate\", how=\"left\")\n",
    "countryTop_df.loc[countryTop_df[\"Country\"].isnull() == 1, ['COUNTRY', 'Country']]\n",
    "\n"
   ]
  },
  {
   "cell_type": "code",
   "execution_count": null,
   "metadata": {},
   "outputs": [
    {
     "data": {
      "text/plain": [
       "Index(['Demonstrations', 'Political violence',\n",
       "       'Political violence; Demonstrations', 'Strategic developments', 'All',\n",
       "       'HDI rank', 'Country', 'Value - 2021', 'Rank - 2021',\n",
       "       'Maternal mortality ratio (deaths per 100,000 live births) - 2017',\n",
       "       'Adolescent birth rate (births per 1,000 women ages 15–19) - 2021',\n",
       "       'Share of seats in parliament (% held by women) - 2021',\n",
       "       'Population with at least some secondary education (% ages 25 and older) - Female (2021)',\n",
       "       'Population with at least some secondary education (% ages 25 and older) - Male (2021)',\n",
       "       'Labour force participation rate (% ages 15 and older) - Female - 2021',\n",
       "       'Labour force participation rate (% ages 15 and older) - Male - 2021'],\n",
       "      dtype='object')"
      ]
     },
     "execution_count": 28,
     "metadata": {},
     "output_type": "execute_result"
    }
   ],
   "source": [
    "countryTop_df.columns"
   ]
  },
  {
   "cell_type": "code",
   "execution_count": null,
   "metadata": {},
   "outputs": [],
   "source": [
    "#scatter plot with top 10 countries with most demonstrations (numbers on x axis) and inequality ranking\n",
    "#maxDisorder.head(10)\n",
    "#gender_df\n",
    "\n",
    "#scatter plot by demonstration number and inequality ranking by country\n",
    "sns.scatterplot(data=tips, x=\"total_bill\", y=\"tip\")\n",
    "\n"
   ]
  }
 ],
 "metadata": {
  "kernelspec": {
   "display_name": "Python 3 (ipykernel)",
   "language": "python",
   "name": "python3"
  },
  "language_info": {
   "codemirror_mode": {
    "name": "ipython",
    "version": 3
   },
   "file_extension": ".py",
   "mimetype": "text/x-python",
   "name": "python",
   "nbconvert_exporter": "python",
   "pygments_lexer": "ipython3",
   "version": "3.9.13"
  }
 },
 "nbformat": 4,
 "nbformat_minor": 4
}
